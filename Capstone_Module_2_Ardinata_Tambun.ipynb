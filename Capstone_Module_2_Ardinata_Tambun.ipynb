{
 "cells": [
  {
   "cell_type": "code",
   "execution_count": 1,
   "id": "15d5f777",
   "metadata": {},
   "outputs": [],
   "source": [
    "import pandas as pd\n",
    "import numpy as np\n",
    "import matplotlib.pyplot as plt\n",
    "import seaborn as sns"
   ]
  },
  {
   "cell_type": "code",
   "execution_count": 2,
   "id": "989e63c5",
   "metadata": {},
   "outputs": [
    {
     "data": {
      "application/vnd.microsoft.datawrangler.viewer.v0+json": {
       "columns": [
        {
         "name": "index",
         "rawType": "int64",
         "type": "integer"
        },
        {
         "name": "Row ID",
         "rawType": "int64",
         "type": "integer"
        },
        {
         "name": "Order ID",
         "rawType": "object",
         "type": "string"
        },
        {
         "name": "Order Date",
         "rawType": "object",
         "type": "string"
        },
        {
         "name": "Date Key",
         "rawType": "int64",
         "type": "integer"
        },
        {
         "name": "Contact Name",
         "rawType": "object",
         "type": "string"
        },
        {
         "name": "Country",
         "rawType": "object",
         "type": "string"
        },
        {
         "name": "City",
         "rawType": "object",
         "type": "string"
        },
        {
         "name": "Region",
         "rawType": "object",
         "type": "string"
        },
        {
         "name": "Subregion",
         "rawType": "object",
         "type": "string"
        },
        {
         "name": "Customer",
         "rawType": "object",
         "type": "string"
        },
        {
         "name": "Customer ID",
         "rawType": "int64",
         "type": "integer"
        },
        {
         "name": "Industry",
         "rawType": "object",
         "type": "string"
        },
        {
         "name": "Segment",
         "rawType": "object",
         "type": "string"
        },
        {
         "name": "Product",
         "rawType": "object",
         "type": "string"
        },
        {
         "name": "License",
         "rawType": "object",
         "type": "string"
        },
        {
         "name": "Sales",
         "rawType": "float64",
         "type": "float"
        },
        {
         "name": "Quantity",
         "rawType": "int64",
         "type": "integer"
        },
        {
         "name": "Discount",
         "rawType": "float64",
         "type": "float"
        },
        {
         "name": "Profit",
         "rawType": "float64",
         "type": "float"
        }
       ],
       "ref": "5b1495f1-7b6e-4ffe-8d4b-d6a72eb54c11",
       "rows": [
        [
         "0",
         "1",
         "EMEA-2022-152156",
         "11/9/2022",
         "20221109",
         "Nathan Bell",
         "Ireland",
         "Dublin",
         "EMEA",
         "UKIR",
         "Chevron",
         "1017",
         "Energy",
         "SMB",
         "Marketing Suite",
         "16GRM07R1K",
         "261.96",
         "2",
         "0.0",
         "41.9136"
        ],
        [
         "1",
         "2",
         "EMEA-2022-152156",
         "11/9/2022",
         "20221109",
         "Nathan Bell",
         "Ireland",
         "Dublin",
         "EMEA",
         "UKIR",
         "Chevron",
         "1017",
         "Energy",
         "SMB",
         "FinanceHub",
         "QLIW57KZUV",
         "731.94",
         "3",
         "0.0",
         "219.582"
        ],
        [
         "2",
         "3",
         "AMER-2022-138688",
         "6/13/2022",
         "20220613",
         "Deirdre Bailey",
         "United States",
         "New York City",
         "AMER",
         "NAMER",
         "Phillips 66",
         "1056",
         "Energy",
         "Strategic",
         "FinanceHub",
         "JI6BVL70HQ",
         "14.62",
         "2",
         "0.0",
         "6.8714"
        ],
        [
         "3",
         "4",
         "EMEA-2021-108966",
         "10/11/2021",
         "20211011",
         "Zoe Hodges",
         "Germany",
         "Stuttgart",
         "EMEA",
         "EU-WEST",
         "Royal Dutch Shell",
         "1031",
         "Energy",
         "SMB",
         "ContactMatcher",
         "DE9GJKGD44",
         "957.5775",
         "5",
         "0.45",
         "-383.031"
        ],
        [
         "4",
         "5",
         "EMEA-2021-108966",
         "10/11/2021",
         "20211011",
         "Zoe Hodges",
         "Germany",
         "Stuttgart",
         "EMEA",
         "EU-WEST",
         "Royal Dutch Shell",
         "1031",
         "Energy",
         "SMB",
         "Marketing Suite - Gold",
         "OIF7NY23WD",
         "22.368",
         "2",
         "0.2",
         "2.5164"
        ]
       ],
       "shape": {
        "columns": 19,
        "rows": 5
       }
      },
      "text/html": [
       "<div>\n",
       "<style scoped>\n",
       "    .dataframe tbody tr th:only-of-type {\n",
       "        vertical-align: middle;\n",
       "    }\n",
       "\n",
       "    .dataframe tbody tr th {\n",
       "        vertical-align: top;\n",
       "    }\n",
       "\n",
       "    .dataframe thead th {\n",
       "        text-align: right;\n",
       "    }\n",
       "</style>\n",
       "<table border=\"1\" class=\"dataframe\">\n",
       "  <thead>\n",
       "    <tr style=\"text-align: right;\">\n",
       "      <th></th>\n",
       "      <th>Row ID</th>\n",
       "      <th>Order ID</th>\n",
       "      <th>Order Date</th>\n",
       "      <th>Date Key</th>\n",
       "      <th>Contact Name</th>\n",
       "      <th>Country</th>\n",
       "      <th>City</th>\n",
       "      <th>Region</th>\n",
       "      <th>Subregion</th>\n",
       "      <th>Customer</th>\n",
       "      <th>Customer ID</th>\n",
       "      <th>Industry</th>\n",
       "      <th>Segment</th>\n",
       "      <th>Product</th>\n",
       "      <th>License</th>\n",
       "      <th>Sales</th>\n",
       "      <th>Quantity</th>\n",
       "      <th>Discount</th>\n",
       "      <th>Profit</th>\n",
       "    </tr>\n",
       "  </thead>\n",
       "  <tbody>\n",
       "    <tr>\n",
       "      <th>0</th>\n",
       "      <td>1</td>\n",
       "      <td>EMEA-2022-152156</td>\n",
       "      <td>11/9/2022</td>\n",
       "      <td>20221109</td>\n",
       "      <td>Nathan Bell</td>\n",
       "      <td>Ireland</td>\n",
       "      <td>Dublin</td>\n",
       "      <td>EMEA</td>\n",
       "      <td>UKIR</td>\n",
       "      <td>Chevron</td>\n",
       "      <td>1017</td>\n",
       "      <td>Energy</td>\n",
       "      <td>SMB</td>\n",
       "      <td>Marketing Suite</td>\n",
       "      <td>16GRM07R1K</td>\n",
       "      <td>261.9600</td>\n",
       "      <td>2</td>\n",
       "      <td>0.00</td>\n",
       "      <td>41.9136</td>\n",
       "    </tr>\n",
       "    <tr>\n",
       "      <th>1</th>\n",
       "      <td>2</td>\n",
       "      <td>EMEA-2022-152156</td>\n",
       "      <td>11/9/2022</td>\n",
       "      <td>20221109</td>\n",
       "      <td>Nathan Bell</td>\n",
       "      <td>Ireland</td>\n",
       "      <td>Dublin</td>\n",
       "      <td>EMEA</td>\n",
       "      <td>UKIR</td>\n",
       "      <td>Chevron</td>\n",
       "      <td>1017</td>\n",
       "      <td>Energy</td>\n",
       "      <td>SMB</td>\n",
       "      <td>FinanceHub</td>\n",
       "      <td>QLIW57KZUV</td>\n",
       "      <td>731.9400</td>\n",
       "      <td>3</td>\n",
       "      <td>0.00</td>\n",
       "      <td>219.5820</td>\n",
       "    </tr>\n",
       "    <tr>\n",
       "      <th>2</th>\n",
       "      <td>3</td>\n",
       "      <td>AMER-2022-138688</td>\n",
       "      <td>6/13/2022</td>\n",
       "      <td>20220613</td>\n",
       "      <td>Deirdre Bailey</td>\n",
       "      <td>United States</td>\n",
       "      <td>New York City</td>\n",
       "      <td>AMER</td>\n",
       "      <td>NAMER</td>\n",
       "      <td>Phillips 66</td>\n",
       "      <td>1056</td>\n",
       "      <td>Energy</td>\n",
       "      <td>Strategic</td>\n",
       "      <td>FinanceHub</td>\n",
       "      <td>JI6BVL70HQ</td>\n",
       "      <td>14.6200</td>\n",
       "      <td>2</td>\n",
       "      <td>0.00</td>\n",
       "      <td>6.8714</td>\n",
       "    </tr>\n",
       "    <tr>\n",
       "      <th>3</th>\n",
       "      <td>4</td>\n",
       "      <td>EMEA-2021-108966</td>\n",
       "      <td>10/11/2021</td>\n",
       "      <td>20211011</td>\n",
       "      <td>Zoe Hodges</td>\n",
       "      <td>Germany</td>\n",
       "      <td>Stuttgart</td>\n",
       "      <td>EMEA</td>\n",
       "      <td>EU-WEST</td>\n",
       "      <td>Royal Dutch Shell</td>\n",
       "      <td>1031</td>\n",
       "      <td>Energy</td>\n",
       "      <td>SMB</td>\n",
       "      <td>ContactMatcher</td>\n",
       "      <td>DE9GJKGD44</td>\n",
       "      <td>957.5775</td>\n",
       "      <td>5</td>\n",
       "      <td>0.45</td>\n",
       "      <td>-383.0310</td>\n",
       "    </tr>\n",
       "    <tr>\n",
       "      <th>4</th>\n",
       "      <td>5</td>\n",
       "      <td>EMEA-2021-108966</td>\n",
       "      <td>10/11/2021</td>\n",
       "      <td>20211011</td>\n",
       "      <td>Zoe Hodges</td>\n",
       "      <td>Germany</td>\n",
       "      <td>Stuttgart</td>\n",
       "      <td>EMEA</td>\n",
       "      <td>EU-WEST</td>\n",
       "      <td>Royal Dutch Shell</td>\n",
       "      <td>1031</td>\n",
       "      <td>Energy</td>\n",
       "      <td>SMB</td>\n",
       "      <td>Marketing Suite - Gold</td>\n",
       "      <td>OIF7NY23WD</td>\n",
       "      <td>22.3680</td>\n",
       "      <td>2</td>\n",
       "      <td>0.20</td>\n",
       "      <td>2.5164</td>\n",
       "    </tr>\n",
       "  </tbody>\n",
       "</table>\n",
       "</div>"
      ],
      "text/plain": [
       "   Row ID          Order ID  Order Date  Date Key    Contact Name  \\\n",
       "0       1  EMEA-2022-152156   11/9/2022  20221109     Nathan Bell   \n",
       "1       2  EMEA-2022-152156   11/9/2022  20221109     Nathan Bell   \n",
       "2       3  AMER-2022-138688   6/13/2022  20220613  Deirdre Bailey   \n",
       "3       4  EMEA-2021-108966  10/11/2021  20211011      Zoe Hodges   \n",
       "4       5  EMEA-2021-108966  10/11/2021  20211011      Zoe Hodges   \n",
       "\n",
       "         Country           City Region Subregion           Customer  \\\n",
       "0        Ireland         Dublin   EMEA      UKIR            Chevron   \n",
       "1        Ireland         Dublin   EMEA      UKIR            Chevron   \n",
       "2  United States  New York City   AMER     NAMER        Phillips 66   \n",
       "3        Germany      Stuttgart   EMEA   EU-WEST  Royal Dutch Shell   \n",
       "4        Germany      Stuttgart   EMEA   EU-WEST  Royal Dutch Shell   \n",
       "\n",
       "   Customer ID Industry    Segment                 Product     License  \\\n",
       "0         1017   Energy        SMB         Marketing Suite  16GRM07R1K   \n",
       "1         1017   Energy        SMB              FinanceHub  QLIW57KZUV   \n",
       "2         1056   Energy  Strategic              FinanceHub  JI6BVL70HQ   \n",
       "3         1031   Energy        SMB          ContactMatcher  DE9GJKGD44   \n",
       "4         1031   Energy        SMB  Marketing Suite - Gold  OIF7NY23WD   \n",
       "\n",
       "      Sales  Quantity  Discount    Profit  \n",
       "0  261.9600         2      0.00   41.9136  \n",
       "1  731.9400         3      0.00  219.5820  \n",
       "2   14.6200         2      0.00    6.8714  \n",
       "3  957.5775         5      0.45 -383.0310  \n",
       "4   22.3680         2      0.20    2.5164  "
      ]
     },
     "execution_count": 2,
     "metadata": {},
     "output_type": "execute_result"
    }
   ],
   "source": [
    "df = pd.read_csv('SaaS-Sales.csv')\n",
    "df.head()"
   ]
  },
  {
   "cell_type": "markdown",
   "id": "5caa1cc6",
   "metadata": {},
   "source": [
    "## **Title : Identifying Customer Segmentation for Business Optimization**\n",
    "\n",
    "Tujuan / Objective : \n",
    "- Mengidentifikasi pengelompokan customer berdasarkan analisis LRFM (Length, Recency, Frequency, Monetary) untuk mengklasifikasikan menjadi segmen strategis untuk mendukung keputusan bisnis.\n",
    "- Memberikan insight yang actionable untuk setiap segmen agar dapat menyusun strategi penumbuhan berbasis behaviour pelanggan."
   ]
  },
  {
   "cell_type": "markdown",
   "id": "449c211a",
   "metadata": {},
   "source": [
    "## **Business Acknowledge**"
   ]
  },
  {
   "cell_type": "markdown",
   "id": "e96a994f",
   "metadata": {},
   "source": [
    "## **Context**\n",
    "\n",
    "Sebuah perusahaan yang bergerak di bidang penjualan perangkat lunak (SaaS / Software as a Service) ingin mengetahui gambaran umum tentang data pelanggan yang menggunakan jasa dan produk mereka. Terdapat sebuah database yang menunjukkan detail dari data barang (produk software), data tanggal order, data pelanggan, data lokasi (negara, kota, region), data industri, data segmen, dan data penjualan (sales, quantity, diskon, profit). Perusahaan ingin bisa mendapatkan insight yang dapat dijalankan, sehingga nantinya mereka dapat melakukan penerapan strategi yang tepat sasaran untuk mempertahankan pelanggan dan menambah jumlah pelanggan melalui peningkatan kualitas pelayanan jasa & produk bisnis (customer needs - customer services).\n",
    "\n",
    "Bisnis Saas merupakan sistem penjualan perangkat lunak berupa produk digital yang dapat membantu dalam berbagai aspek. Sistem penjualan yang digunakan adalah B2b (Business to Business) yang berarti hubungan penjualan antara perusahaan dengan perusahaan. Tipe bisnis B2b ini cenderung menargetkan penjualan dengan memperhatikan aspek pada relasi jangka panjang yang biasanya melibatkan kontrak dan penyesuaian khusus setiap pengguna layanan (customer). Hal ini memunculkan keberagaman penjualan yang cenderung sangat bervariatif dan sulit untuk melihat pelanggan mana yang menghasilkan keuntungan (profit) yang paling tinggi. Untuk melihat kestabilan perusahaan perlu memperhatikan aspek pelanggan berdasarkan segmentasinya yang akan memberikan gambaran terhadap kebiasaan (behaviour) pelanggan sehingga bisa dilakukan penanganan untuk masing - masing tipenya menggunakan bantuan LRFM. \n",
    "\n",
    "## **Database Information/Introduction**\n",
    "Bagian ini merupakan langkah awal untuk mulai melakukan proses analisis data. Pertama adalah mengenali informasi dasar atau umum dari data agar dapat mengetahui keterkaitan data terhadap tahunnya. \n",
    "\n",
    "Data tahun transaksi dari 2020 - 2023 dan analisis diasumsikan diadakan pada tahun 2024 bulan Januari \n",
    "\n",
    "Sumber Database: https://www.kaggle.com/datasets/nnthanh101/aws-saas-sales\n",
    "\n",
    "Database yang dimiliki mempunyai 19 tabel, yaitu:\n",
    "\n",
    "Transaksi:\n",
    "- ID Baris: Kode unik untuk setiap transaksi.\n",
    "- ID Pesanan: Kode unik untuk setiap pesanan.\n",
    "- Tanggal Pesanan: Tanggal pemesanan.\n",
    "- Kunci Tanggal: Kode dari tanggal pemesanan (YYYYMMDD).\n",
    "- Nama Kontak: Nama orang yang melakukan pemesanan.\n",
    "\n",
    "Lokasi:\n",
    "- Negara: Negara tempat pemesanan dilakukan.\n",
    "- Kota: Kota tempat pemesanan dilakukan.\n",
    "- Wilayah: Wilayah tempat pemesanan dilakukan.\n",
    "- Subwilayah: Subwilayah tempat pemesanan dilakukan.\n",
    "\n",
    "Pelanggan:\n",
    "- Pelanggan: Nama perusahaan yang melakukan pemesanan.\n",
    "- ID Pelanggan: Kode unik untuk setiap pelanggan.\n",
    "- Industri: Industri tempat pelanggan berada.\n",
    "- Segmen: Segmen pelanggan (UKM, Strategis, Perusahaan, dll.)\n",
    "\n",
    "Produk:\n",
    "- Produk: Produk yang dipesan.\n",
    "- Lisensi: Kunci lisensi untuk produk tersebut.\n",
    "- Penjualan: Total penjualan untuk transaksi tersebut.\n",
    "- Kuantitas: Jumlah total barang dalam transaksi.\n",
    "- Diskon: Diskon yang diterapkan pada transaksi.\n",
    "- Keuntungan: Keuntungan dari transaksi.\n",
    "\n",
    "Setiap tabel yang tertera pada database dapat terhubung, baik secara langsung maupun tidak langsung, sehingga setiap informasi dari database ini akan dapat saling berkaitan.\n"
   ]
  },
  {
   "cell_type": "markdown",
   "id": "de802c8a",
   "metadata": {},
   "source": [
    "## **Data Wrangling/Cleaning**\n",
    "Seperti yang telah dijelaskan sebelumnya, data yang digunakan untuk dianalisis adalah data pada tabel penjualan. Sebelum melakukan analisis lebih lanjut, hal yang harus dilakukan adalah mengecek informasi serta anomali pada data. Jika memang terdapat hal-hal yang dianggap 'kotor' pada data, maka yang perlu dilakukan adalah melakukan penanganan pada bagian tersebut. Pada bagian ini, data akan 'dibersihkan', sehingga output akhir yang diharapkan adalah terdapat sebuah dataset yang bersih yang dapat dianalisis lebih lanjut dengan menampilkan visualisasi, serta melihat statistik-nya."
   ]
  },
  {
   "cell_type": "code",
   "execution_count": 3,
   "id": "16af5d88",
   "metadata": {},
   "outputs": [
    {
     "name": "stdout",
     "output_type": "stream",
     "text": [
      "<class 'pandas.core.frame.DataFrame'>\n",
      "RangeIndex: 9994 entries, 0 to 9993\n",
      "Data columns (total 19 columns):\n",
      " #   Column        Non-Null Count  Dtype  \n",
      "---  ------        --------------  -----  \n",
      " 0   Row ID        9994 non-null   int64  \n",
      " 1   Order ID      9994 non-null   object \n",
      " 2   Order Date    9994 non-null   object \n",
      " 3   Date Key      9994 non-null   int64  \n",
      " 4   Contact Name  9994 non-null   object \n",
      " 5   Country       9994 non-null   object \n",
      " 6   City          9994 non-null   object \n",
      " 7   Region        9994 non-null   object \n",
      " 8   Subregion     9994 non-null   object \n",
      " 9   Customer      9994 non-null   object \n",
      " 10  Customer ID   9994 non-null   int64  \n",
      " 11  Industry      9994 non-null   object \n",
      " 12  Segment       9994 non-null   object \n",
      " 13  Product       9994 non-null   object \n",
      " 14  License       9994 non-null   object \n",
      " 15  Sales         9994 non-null   float64\n",
      " 16  Quantity      9994 non-null   int64  \n",
      " 17  Discount      9994 non-null   float64\n",
      " 18  Profit        9994 non-null   float64\n",
      "dtypes: float64(3), int64(4), object(12)\n",
      "memory usage: 1.4+ MB\n"
     ]
    }
   ],
   "source": [
    "# Melihat data secara keseluruhan\n",
    "df.info()"
   ]
  },
  {
   "cell_type": "markdown",
   "id": "11993e84",
   "metadata": {},
   "source": [
    "Terdapat 19 kolom dengan 9994 baris dengan tipe data yang berbeda-beda. Perlu dilakukan pengecekan lebih lanjut terhadap kolom yang ingin dianalisis dan pembersihan data. Beberapa langkah yang harus diperhatikan adalah pengecekan tipe data, penghapusan data outlier, pengecekan data duplikat dan data kosong dan lainnya."
   ]
  },
  {
   "cell_type": "markdown",
   "id": "453ee790",
   "metadata": {},
   "source": [
    "### **Choosing Columns to Use / Delete Unused Columns**\n",
    "\n",
    "Langkah awal dalam melakukan data manipulation adalah memilih kolom / tabel yang akan digunakan dalam analisis sehingga informasi yang cenderung tidak digunakan atau tidak berguna dalam analisis tidak mengganggu fokus dari tujuannya."
   ]
  },
  {
   "cell_type": "code",
   "execution_count": 4,
   "id": "e22fbb20",
   "metadata": {},
   "outputs": [
    {
     "data": {
      "application/vnd.microsoft.datawrangler.viewer.v0+json": {
       "columns": [
        {
         "name": "index",
         "rawType": "int64",
         "type": "integer"
        },
        {
         "name": "Order ID",
         "rawType": "object",
         "type": "string"
        },
        {
         "name": "Order Date",
         "rawType": "object",
         "type": "string"
        },
        {
         "name": "Country",
         "rawType": "object",
         "type": "string"
        },
        {
         "name": "City",
         "rawType": "object",
         "type": "string"
        },
        {
         "name": "Region",
         "rawType": "object",
         "type": "string"
        },
        {
         "name": "Subregion",
         "rawType": "object",
         "type": "string"
        },
        {
         "name": "Customer",
         "rawType": "object",
         "type": "string"
        },
        {
         "name": "Customer ID",
         "rawType": "int64",
         "type": "integer"
        },
        {
         "name": "Industry",
         "rawType": "object",
         "type": "string"
        },
        {
         "name": "Segment",
         "rawType": "object",
         "type": "string"
        },
        {
         "name": "Product",
         "rawType": "object",
         "type": "string"
        },
        {
         "name": "License",
         "rawType": "object",
         "type": "string"
        },
        {
         "name": "Sales",
         "rawType": "float64",
         "type": "float"
        },
        {
         "name": "Quantity",
         "rawType": "int64",
         "type": "integer"
        },
        {
         "name": "Discount",
         "rawType": "float64",
         "type": "float"
        },
        {
         "name": "Profit",
         "rawType": "float64",
         "type": "float"
        }
       ],
       "ref": "45a7ab2c-c903-4df7-a390-c3d3c1391686",
       "rows": [
        [
         "0",
         "EMEA-2022-152156",
         "11/9/2022",
         "Ireland",
         "Dublin",
         "EMEA",
         "UKIR",
         "Chevron",
         "1017",
         "Energy",
         "SMB",
         "Marketing Suite",
         "16GRM07R1K",
         "261.96",
         "2",
         "0.0",
         "41.9136"
        ],
        [
         "1",
         "EMEA-2022-152156",
         "11/9/2022",
         "Ireland",
         "Dublin",
         "EMEA",
         "UKIR",
         "Chevron",
         "1017",
         "Energy",
         "SMB",
         "FinanceHub",
         "QLIW57KZUV",
         "731.94",
         "3",
         "0.0",
         "219.582"
        ],
        [
         "2",
         "AMER-2022-138688",
         "6/13/2022",
         "United States",
         "New York City",
         "AMER",
         "NAMER",
         "Phillips 66",
         "1056",
         "Energy",
         "Strategic",
         "FinanceHub",
         "JI6BVL70HQ",
         "14.62",
         "2",
         "0.0",
         "6.8714"
        ],
        [
         "3",
         "EMEA-2021-108966",
         "10/11/2021",
         "Germany",
         "Stuttgart",
         "EMEA",
         "EU-WEST",
         "Royal Dutch Shell",
         "1031",
         "Energy",
         "SMB",
         "ContactMatcher",
         "DE9GJKGD44",
         "957.5775",
         "5",
         "0.45",
         "-383.031"
        ],
        [
         "4",
         "EMEA-2021-108966",
         "10/11/2021",
         "Germany",
         "Stuttgart",
         "EMEA",
         "EU-WEST",
         "Royal Dutch Shell",
         "1031",
         "Energy",
         "SMB",
         "Marketing Suite - Gold",
         "OIF7NY23WD",
         "22.368",
         "2",
         "0.2",
         "2.5164"
        ],
        [
         "5",
         "AMER-2020-115812",
         "6/9/2020",
         "United States",
         "New York City",
         "AMER",
         "NAMER",
         "BNP Paribas",
         "1065",
         "Finance",
         "SMB",
         "SaaS Connector Pack",
         "8RM88WFOAE",
         "48.86",
         "7",
         "0.0",
         "14.1694"
        ],
        [
         "6",
         "AMER-2020-115812",
         "6/9/2020",
         "United States",
         "New York City",
         "AMER",
         "NAMER",
         "BNP Paribas",
         "1065",
         "Finance",
         "SMB",
         "ChatBot Plugin",
         "4SYTVM0746",
         "7.28",
         "4",
         "0.0",
         "1.9656"
        ],
        [
         "7",
         "AMER-2020-115812",
         "6/9/2020",
         "United States",
         "New York City",
         "AMER",
         "NAMER",
         "BNP Paribas",
         "1065",
         "Finance",
         "SMB",
         "Site Analytics",
         "07842ES7DY",
         "907.152",
         "6",
         "0.2",
         "90.7152"
        ],
        [
         "8",
         "AMER-2020-115812",
         "6/9/2020",
         "United States",
         "New York City",
         "AMER",
         "NAMER",
         "BNP Paribas",
         "1065",
         "Finance",
         "SMB",
         "ContactMatcher",
         "XPBOBXWXA3",
         "18.504",
         "3",
         "0.2",
         "5.7825"
        ],
        [
         "9",
         "AMER-2020-115812",
         "6/9/2020",
         "United States",
         "New York City",
         "AMER",
         "NAMER",
         "BNP Paribas",
         "1065",
         "Finance",
         "SMB",
         "OneView",
         "71J8P9Z1P0",
         "114.9",
         "5",
         "0.0",
         "34.47"
        ],
        [
         "10",
         "AMER-2020-115812",
         "6/9/2020",
         "United States",
         "New York City",
         "AMER",
         "NAMER",
         "BNP Paribas",
         "1065",
         "Finance",
         "SMB",
         "ContactMatcher",
         "43NZ37VE2D",
         "1706.184",
         "9",
         "0.2",
         "85.3092"
        ],
        [
         "11",
         "AMER-2020-115812",
         "6/9/2020",
         "United States",
         "New York City",
         "AMER",
         "NAMER",
         "BNP Paribas",
         "1065",
         "Finance",
         "SMB",
         "Site Analytics",
         "JG14MOU94R",
         "911.424",
         "4",
         "0.2",
         "68.3568"
        ],
        [
         "12",
         "EMEA-2023-114412",
         "4/16/2023",
         "Sweden",
         "Stockholm",
         "EMEA",
         "NOR",
         "Engie",
         "1062",
         "Energy",
         "SMB",
         "Support",
         "FE5QJBIUN1",
         "15.552",
         "3",
         "0.2",
         "5.4432"
        ],
        [
         "13",
         "AMER-2022-161389",
         "12/6/2022",
         "Canada",
         "Toronto",
         "AMER",
         "NAMER",
         "Microsoft",
         "1066",
         "Tech",
         "SMB",
         "ContactMatcher",
         "COK66F8IC1",
         "407.976",
         "3",
         "0.2",
         "132.5922"
        ],
        [
         "14",
         "APJ-2021-118983",
         "11/22/2021",
         "Japan",
         "Saitama",
         "APJ",
         "JAPN",
         "Pfizer",
         "1074",
         "Healthcare",
         "Enterprise",
         "OneView",
         "D8FGC56NNX",
         "68.81",
         "5",
         "0.8",
         "-123.858"
        ],
        [
         "15",
         "APJ-2021-118983",
         "11/22/2021",
         "Japan",
         "Saitama",
         "APJ",
         "JAPN",
         "Pfizer",
         "1074",
         "Healthcare",
         "Enterprise",
         "ContactMatcher",
         "NRKT5R1A1G",
         "2.544",
         "3",
         "0.8",
         "-3.816"
        ],
        [
         "16",
         "EMEA-2020-105893",
         "11/11/2020",
         "Italy",
         "Naples",
         "EMEA",
         "EU",
         "Toyota Motor",
         "1087",
         "Manufacturing",
         "SMB",
         "Marketing Suite - Gold",
         "K5XHYWZ1OV",
         "665.88",
         "6",
         "0.0",
         "13.3176"
        ],
        [
         "17",
         "EMEA-2020-167164",
         "5/13/2020",
         "Turkey",
         "Ankara",
         "EMEA",
         "MEA",
         "Home Depot",
         "1047",
         "Retail",
         "SMB",
         "Marketing Suite - Gold",
         "LWWKLPY4AU",
         "55.5",
         "2",
         "0.0",
         "9.99"
        ],
        [
         "18",
         "AMER-2020-143336",
         "8/27/2020",
         "United States",
         "Los Angeles",
         "AMER",
         "NAMER",
         "Wells Fargo",
         "1099",
         "Finance",
         "SMB",
         "ChatBot Plugin",
         "ZYL9KDTY68",
         "8.56",
         "2",
         "0.0",
         "2.4824"
        ],
        [
         "19",
         "AMER-2020-143336",
         "8/27/2020",
         "United States",
         "Los Angeles",
         "AMER",
         "NAMER",
         "Wells Fargo",
         "1099",
         "Finance",
         "SMB",
         "Site Analytics",
         "I54O29EW1T",
         "213.48",
         "3",
         "0.2",
         "16.011"
        ],
        [
         "20",
         "AMER-2020-143336",
         "8/27/2020",
         "United States",
         "Los Angeles",
         "AMER",
         "NAMER",
         "Wells Fargo",
         "1099",
         "Finance",
         "SMB",
         "ContactMatcher",
         "E3TF1V9DE8",
         "22.72",
         "4",
         "0.2",
         "7.384"
        ],
        [
         "21",
         "AMER-2022-137330",
         "12/10/2022",
         "Costa Rica",
         "San José",
         "AMER",
         "LATAM",
         "Carrefour",
         "1048",
         "Retail",
         "Strategic",
         "ChatBot Plugin",
         "B83G92QX65",
         "19.46",
         "7",
         "0.0",
         "5.0596"
        ],
        [
         "22",
         "AMER-2022-137330",
         "12/10/2022",
         "Costa Rica",
         "San José",
         "AMER",
         "LATAM",
         "Carrefour",
         "1048",
         "Retail",
         "Strategic",
         "OneView",
         "VWDIYAB44Z",
         "60.34",
         "7",
         "0.0",
         "15.6884"
        ],
        [
         "23",
         "EMEA-2023-156909",
         "7/17/2023",
         "France",
         "Paris",
         "EMEA",
         "EU-WEST",
         "Costco Wholesale",
         "1025",
         "Retail",
         "SMB",
         "FinanceHub",
         "AJOASBK55N",
         "71.372",
         "2",
         "0.3",
         "-1.0196"
        ],
        [
         "24",
         "EMEA-2021-106320",
         "9/25/2021",
         "Turkey",
         "Istanbul",
         "EMEA",
         "MEA",
         "McKesson",
         "1063",
         "Consumer Products",
         "SMB",
         "ContactMatcher",
         "P1I8X35CUZ",
         "1044.63",
         "3",
         "0.0",
         "240.2649"
        ],
        [
         "25",
         "AMER-2022-121755",
         "1/16/2022",
         "United States",
         "New York City",
         "AMER",
         "NAMER",
         "Siemens",
         "1043",
         "Manufacturing",
         "SMB",
         "ContactMatcher",
         "NRCR8EBL62",
         "11.648",
         "2",
         "0.2",
         "4.2224"
        ],
        [
         "26",
         "AMER-2022-121755",
         "1/16/2022",
         "United States",
         "New York City",
         "AMER",
         "NAMER",
         "Siemens",
         "1043",
         "Manufacturing",
         "SMB",
         "Data Smasher",
         "PV9U9D3A6O",
         "90.57",
         "3",
         "0.0",
         "11.7741"
        ],
        [
         "27",
         "EMEA-2021-150630",
         "9/17/2021",
         "France",
         "Paris",
         "EMEA",
         "EU-WEST",
         "Intel",
         "1051",
         "Tech",
         "SMB",
         "Marketing Suite",
         "F8G07TWQ17",
         "3083.43",
         "7",
         "0.5",
         "-1665.0522"
        ],
        [
         "28",
         "EMEA-2021-150630",
         "9/17/2021",
         "France",
         "Paris",
         "EMEA",
         "EU-WEST",
         "Intel",
         "1051",
         "Tech",
         "SMB",
         "ContactMatcher",
         "BGL4P1U2CZ",
         "9.618",
         "2",
         "0.7",
         "-7.0532"
        ],
        [
         "29",
         "EMEA-2021-150630",
         "9/17/2021",
         "France",
         "Paris",
         "EMEA",
         "EU-WEST",
         "Intel",
         "1051",
         "Tech",
         "SMB",
         "SaaS Connector Pack",
         "B5H6S070N8",
         "124.2",
         "3",
         "0.2",
         "15.525"
        ],
        [
         "30",
         "EMEA-2021-150630",
         "9/17/2021",
         "France",
         "Paris",
         "EMEA",
         "EU-WEST",
         "Intel",
         "1051",
         "Tech",
         "SMB",
         "SaaS Connector Pack - Gold",
         "D9635UBJOG",
         "3.264",
         "2",
         "0.2",
         "1.1016"
        ],
        [
         "31",
         "EMEA-2021-150630",
         "9/17/2021",
         "France",
         "Paris",
         "EMEA",
         "EU-WEST",
         "Intel",
         "1051",
         "Tech",
         "SMB",
         "ChatBot Plugin",
         "6SQI2HAZ4C",
         "86.304",
         "6",
         "0.2",
         "9.7092"
        ],
        [
         "32",
         "EMEA-2021-150630",
         "9/17/2021",
         "France",
         "Paris",
         "EMEA",
         "EU-WEST",
         "Intel",
         "1051",
         "Tech",
         "SMB",
         "ContactMatcher",
         "GPQ0TDTGIM",
         "6.858",
         "6",
         "0.7",
         "-5.715"
        ],
        [
         "33",
         "EMEA-2021-150630",
         "9/17/2021",
         "France",
         "Paris",
         "EMEA",
         "EU-WEST",
         "Intel",
         "1051",
         "Tech",
         "SMB",
         "ChatBot Plugin",
         "4YZZHFC212",
         "15.76",
         "2",
         "0.2",
         "3.546"
        ],
        [
         "34",
         "APJ-2023-107727",
         "10/20/2023",
         "Japan",
         "Tokyo",
         "APJ",
         "JAPN",
         "Glencore",
         "1083",
         "Misc",
         "Enterprise",
         "Support",
         "77YXBOVGDH",
         "29.472",
         "3",
         "0.2",
         "9.9468"
        ],
        [
         "35",
         "APJ-2022-117590",
         "12/9/2022",
         "Japan",
         "Aichi",
         "APJ",
         "JAPN",
         "Procter & Gamble",
         "1077",
         "Consumer Products",
         "Strategic",
         "Site Analytics",
         "GCT4GPUBVT",
         "1097.544",
         "7",
         "0.2",
         "123.4737"
        ],
        [
         "36",
         "APJ-2022-117590",
         "12/9/2022",
         "Japan",
         "Aichi",
         "APJ",
         "JAPN",
         "Procter & Gamble",
         "1077",
         "Consumer Products",
         "Strategic",
         "SaaS Connector Pack",
         "TKN9K1JO1D",
         "190.92",
         "5",
         "0.6",
         "-147.963"
        ],
        [
         "37",
         "APJ-2021-117415",
         "12/27/2021",
         "Japan",
         "Tokyo",
         "APJ",
         "JAPN",
         "Banco Santander",
         "1101",
         "Finance",
         "Enterprise",
         "SaaS Connector Pack - Gold",
         "2F0NIUM5X9",
         "113.328",
         "9",
         "0.2",
         "35.415"
        ],
        [
         "38",
         "APJ-2021-117415",
         "12/27/2021",
         "Japan",
         "Tokyo",
         "APJ",
         "JAPN",
         "Banco Santander",
         "1101",
         "Finance",
         "Enterprise",
         "Marketing Suite",
         "FBXEM82WEZ",
         "532.3992",
         "3",
         "0.32",
         "-46.9764"
        ],
        [
         "39",
         "APJ-2021-117415",
         "12/27/2021",
         "Japan",
         "Tokyo",
         "APJ",
         "JAPN",
         "Banco Santander",
         "1101",
         "Finance",
         "Enterprise",
         "FinanceHub",
         "TS9MS0FQVU",
         "212.058",
         "3",
         "0.3",
         "-15.147"
        ],
        [
         "40",
         "APJ-2021-117415",
         "12/27/2021",
         "Japan",
         "Tokyo",
         "APJ",
         "JAPN",
         "Banco Santander",
         "1101",
         "Finance",
         "Enterprise",
         "Site Analytics",
         "HDJMRDRWK6",
         "371.168",
         "4",
         "0.2",
         "41.7564"
        ],
        [
         "41",
         "APJ-2023-120999",
         "9/11/2023",
         "Australia",
         "Wollongong",
         "APJ",
         "ANZ",
         "Pemex",
         "1058",
         "Energy",
         "Strategic",
         "Site Analytics",
         "QINRKET2EK",
         "147.168",
         "4",
         "0.2",
         "16.5564"
        ],
        [
         "42",
         "AMER-2022-101343",
         "7/18/2022",
         "United States",
         "New York City",
         "AMER",
         "NAMER",
         "Siemens",
         "1043",
         "Manufacturing",
         "Strategic",
         "Marketing Suite - Gold",
         "DFHNNSTX0P",
         "77.88",
         "2",
         "0.0",
         "3.894"
        ],
        [
         "43",
         "EMEA-2023-139619",
         "9/20/2023",
         "Germany",
         "Hanover",
         "EMEA",
         "EU-WEST",
         "Samsung Electronics",
         "1015",
         "Tech",
         "Strategic",
         "Marketing Suite - Gold",
         "616XTGD7Y3",
         "95.616",
         "2",
         "0.2",
         "9.5616"
        ],
        [
         "44",
         "EMEA-2022-118255",
         "3/12/2022",
         "Luxembourg",
         "Luxembourg",
         "EMEA",
         "EU-WEST",
         "Sony",
         "1028",
         "Tech",
         "Strategic",
         "Data Smasher",
         "F4GWWGL9KR",
         "45.98",
         "2",
         "0.0",
         "19.7714"
        ],
        [
         "45",
         "EMEA-2022-118255",
         "3/12/2022",
         "Luxembourg",
         "Luxembourg",
         "EMEA",
         "EU-WEST",
         "Sony",
         "1028",
         "Tech",
         "Strategic",
         "ContactMatcher",
         "JFCUNTQD5P",
         "17.46",
         "2",
         "0.0",
         "8.2062"
        ],
        [
         "46",
         "AMER-2020-146703",
         "10/20/2020",
         "Brazil",
         "Salvador",
         "AMER",
         "LATAM",
         "Morgan Stanley",
         "1068",
         "Finance",
         "SMB",
         "Marketing Suite - Gold",
         "S2GUIRDRRI",
         "211.96",
         "4",
         "0.0",
         "8.4784"
        ],
        [
         "47",
         "APJ-2022-169194",
         "6/21/2022",
         "Philippines",
         "Davao City",
         "APJ",
         "APAC",
         "Bank of America Corp.",
         "1011",
         "Finance",
         "SMB",
         "Data Smasher",
         "2L5WUVH1UW",
         "45.0",
         "3",
         "0.0",
         "4.95"
        ],
        [
         "48",
         "APJ-2022-169194",
         "6/21/2022",
         "Philippines",
         "Davao City",
         "APJ",
         "APAC",
         "Bank of America Corp.",
         "1011",
         "Finance",
         "SMB",
         "Site Analytics",
         "O0QZ4DQ2DW",
         "21.8",
         "2",
         "0.0",
         "6.104"
        ],
        [
         "49",
         "APJ-2021-115742",
         "4/18/2021",
         "India",
         "Kolkata",
         "APJ",
         "IND",
         "Siemens",
         "1043",
         "Manufacturing",
         "SMB",
         "ContactMatcher",
         "4A8Q6U643K",
         "38.22",
         "6",
         "0.0",
         "17.9634"
        ]
       ],
       "shape": {
        "columns": 16,
        "rows": 9994
       }
      },
      "text/html": [
       "<div>\n",
       "<style scoped>\n",
       "    .dataframe tbody tr th:only-of-type {\n",
       "        vertical-align: middle;\n",
       "    }\n",
       "\n",
       "    .dataframe tbody tr th {\n",
       "        vertical-align: top;\n",
       "    }\n",
       "\n",
       "    .dataframe thead th {\n",
       "        text-align: right;\n",
       "    }\n",
       "</style>\n",
       "<table border=\"1\" class=\"dataframe\">\n",
       "  <thead>\n",
       "    <tr style=\"text-align: right;\">\n",
       "      <th></th>\n",
       "      <th>Order ID</th>\n",
       "      <th>Order Date</th>\n",
       "      <th>Country</th>\n",
       "      <th>City</th>\n",
       "      <th>Region</th>\n",
       "      <th>Subregion</th>\n",
       "      <th>Customer</th>\n",
       "      <th>Customer ID</th>\n",
       "      <th>Industry</th>\n",
       "      <th>Segment</th>\n",
       "      <th>Product</th>\n",
       "      <th>License</th>\n",
       "      <th>Sales</th>\n",
       "      <th>Quantity</th>\n",
       "      <th>Discount</th>\n",
       "      <th>Profit</th>\n",
       "    </tr>\n",
       "  </thead>\n",
       "  <tbody>\n",
       "    <tr>\n",
       "      <th>0</th>\n",
       "      <td>EMEA-2022-152156</td>\n",
       "      <td>11/9/2022</td>\n",
       "      <td>Ireland</td>\n",
       "      <td>Dublin</td>\n",
       "      <td>EMEA</td>\n",
       "      <td>UKIR</td>\n",
       "      <td>Chevron</td>\n",
       "      <td>1017</td>\n",
       "      <td>Energy</td>\n",
       "      <td>SMB</td>\n",
       "      <td>Marketing Suite</td>\n",
       "      <td>16GRM07R1K</td>\n",
       "      <td>261.9600</td>\n",
       "      <td>2</td>\n",
       "      <td>0.00</td>\n",
       "      <td>41.9136</td>\n",
       "    </tr>\n",
       "    <tr>\n",
       "      <th>1</th>\n",
       "      <td>EMEA-2022-152156</td>\n",
       "      <td>11/9/2022</td>\n",
       "      <td>Ireland</td>\n",
       "      <td>Dublin</td>\n",
       "      <td>EMEA</td>\n",
       "      <td>UKIR</td>\n",
       "      <td>Chevron</td>\n",
       "      <td>1017</td>\n",
       "      <td>Energy</td>\n",
       "      <td>SMB</td>\n",
       "      <td>FinanceHub</td>\n",
       "      <td>QLIW57KZUV</td>\n",
       "      <td>731.9400</td>\n",
       "      <td>3</td>\n",
       "      <td>0.00</td>\n",
       "      <td>219.5820</td>\n",
       "    </tr>\n",
       "    <tr>\n",
       "      <th>2</th>\n",
       "      <td>AMER-2022-138688</td>\n",
       "      <td>6/13/2022</td>\n",
       "      <td>United States</td>\n",
       "      <td>New York City</td>\n",
       "      <td>AMER</td>\n",
       "      <td>NAMER</td>\n",
       "      <td>Phillips 66</td>\n",
       "      <td>1056</td>\n",
       "      <td>Energy</td>\n",
       "      <td>Strategic</td>\n",
       "      <td>FinanceHub</td>\n",
       "      <td>JI6BVL70HQ</td>\n",
       "      <td>14.6200</td>\n",
       "      <td>2</td>\n",
       "      <td>0.00</td>\n",
       "      <td>6.8714</td>\n",
       "    </tr>\n",
       "    <tr>\n",
       "      <th>3</th>\n",
       "      <td>EMEA-2021-108966</td>\n",
       "      <td>10/11/2021</td>\n",
       "      <td>Germany</td>\n",
       "      <td>Stuttgart</td>\n",
       "      <td>EMEA</td>\n",
       "      <td>EU-WEST</td>\n",
       "      <td>Royal Dutch Shell</td>\n",
       "      <td>1031</td>\n",
       "      <td>Energy</td>\n",
       "      <td>SMB</td>\n",
       "      <td>ContactMatcher</td>\n",
       "      <td>DE9GJKGD44</td>\n",
       "      <td>957.5775</td>\n",
       "      <td>5</td>\n",
       "      <td>0.45</td>\n",
       "      <td>-383.0310</td>\n",
       "    </tr>\n",
       "    <tr>\n",
       "      <th>4</th>\n",
       "      <td>EMEA-2021-108966</td>\n",
       "      <td>10/11/2021</td>\n",
       "      <td>Germany</td>\n",
       "      <td>Stuttgart</td>\n",
       "      <td>EMEA</td>\n",
       "      <td>EU-WEST</td>\n",
       "      <td>Royal Dutch Shell</td>\n",
       "      <td>1031</td>\n",
       "      <td>Energy</td>\n",
       "      <td>SMB</td>\n",
       "      <td>Marketing Suite - Gold</td>\n",
       "      <td>OIF7NY23WD</td>\n",
       "      <td>22.3680</td>\n",
       "      <td>2</td>\n",
       "      <td>0.20</td>\n",
       "      <td>2.5164</td>\n",
       "    </tr>\n",
       "    <tr>\n",
       "      <th>...</th>\n",
       "      <td>...</td>\n",
       "      <td>...</td>\n",
       "      <td>...</td>\n",
       "      <td>...</td>\n",
       "      <td>...</td>\n",
       "      <td>...</td>\n",
       "      <td>...</td>\n",
       "      <td>...</td>\n",
       "      <td>...</td>\n",
       "      <td>...</td>\n",
       "      <td>...</td>\n",
       "      <td>...</td>\n",
       "      <td>...</td>\n",
       "      <td>...</td>\n",
       "      <td>...</td>\n",
       "      <td>...</td>\n",
       "    </tr>\n",
       "    <tr>\n",
       "      <th>9989</th>\n",
       "      <td>EMEA-2020-110422</td>\n",
       "      <td>1/22/2020</td>\n",
       "      <td>Germany</td>\n",
       "      <td>Hamburg</td>\n",
       "      <td>EMEA</td>\n",
       "      <td>EU-WEST</td>\n",
       "      <td>Johnson &amp; Johnson</td>\n",
       "      <td>1055</td>\n",
       "      <td>Healthcare</td>\n",
       "      <td>SMB</td>\n",
       "      <td>SaaS Connector Pack</td>\n",
       "      <td>ETHXMB5TMD</td>\n",
       "      <td>25.2480</td>\n",
       "      <td>3</td>\n",
       "      <td>0.20</td>\n",
       "      <td>4.1028</td>\n",
       "    </tr>\n",
       "    <tr>\n",
       "      <th>9990</th>\n",
       "      <td>AMER-2023-121258</td>\n",
       "      <td>2/27/2023</td>\n",
       "      <td>United States</td>\n",
       "      <td>Milwaukee</td>\n",
       "      <td>AMER</td>\n",
       "      <td>NAMER</td>\n",
       "      <td>American Express</td>\n",
       "      <td>1005</td>\n",
       "      <td>Finance</td>\n",
       "      <td>SMB</td>\n",
       "      <td>SaaS Connector Pack</td>\n",
       "      <td>LYHOKTRY7L</td>\n",
       "      <td>91.9600</td>\n",
       "      <td>2</td>\n",
       "      <td>0.00</td>\n",
       "      <td>15.6332</td>\n",
       "    </tr>\n",
       "    <tr>\n",
       "      <th>9991</th>\n",
       "      <td>AMER-2023-121258</td>\n",
       "      <td>2/27/2023</td>\n",
       "      <td>United States</td>\n",
       "      <td>Milwaukee</td>\n",
       "      <td>AMER</td>\n",
       "      <td>NAMER</td>\n",
       "      <td>American Express</td>\n",
       "      <td>1005</td>\n",
       "      <td>Finance</td>\n",
       "      <td>SMB</td>\n",
       "      <td>Site Analytics</td>\n",
       "      <td>I5SVMI6M88</td>\n",
       "      <td>258.5760</td>\n",
       "      <td>2</td>\n",
       "      <td>0.20</td>\n",
       "      <td>19.3932</td>\n",
       "    </tr>\n",
       "    <tr>\n",
       "      <th>9992</th>\n",
       "      <td>AMER-2023-121258</td>\n",
       "      <td>2/27/2023</td>\n",
       "      <td>United States</td>\n",
       "      <td>Milwaukee</td>\n",
       "      <td>AMER</td>\n",
       "      <td>NAMER</td>\n",
       "      <td>American Express</td>\n",
       "      <td>1005</td>\n",
       "      <td>Finance</td>\n",
       "      <td>SMB</td>\n",
       "      <td>Support</td>\n",
       "      <td>JHLW4P6LQ2</td>\n",
       "      <td>29.6000</td>\n",
       "      <td>4</td>\n",
       "      <td>0.00</td>\n",
       "      <td>13.3200</td>\n",
       "    </tr>\n",
       "    <tr>\n",
       "      <th>9993</th>\n",
       "      <td>AMER-2023-119914</td>\n",
       "      <td>5/5/2023</td>\n",
       "      <td>United States</td>\n",
       "      <td>Dallas</td>\n",
       "      <td>AMER</td>\n",
       "      <td>NAMER</td>\n",
       "      <td>Comcast</td>\n",
       "      <td>1022</td>\n",
       "      <td>Communications</td>\n",
       "      <td>SMB</td>\n",
       "      <td>OneView</td>\n",
       "      <td>3NTBV9B3PS</td>\n",
       "      <td>243.1600</td>\n",
       "      <td>2</td>\n",
       "      <td>0.00</td>\n",
       "      <td>72.9480</td>\n",
       "    </tr>\n",
       "  </tbody>\n",
       "</table>\n",
       "<p>9994 rows × 16 columns</p>\n",
       "</div>"
      ],
      "text/plain": [
       "              Order ID  Order Date        Country           City Region  \\\n",
       "0     EMEA-2022-152156   11/9/2022        Ireland         Dublin   EMEA   \n",
       "1     EMEA-2022-152156   11/9/2022        Ireland         Dublin   EMEA   \n",
       "2     AMER-2022-138688   6/13/2022  United States  New York City   AMER   \n",
       "3     EMEA-2021-108966  10/11/2021        Germany      Stuttgart   EMEA   \n",
       "4     EMEA-2021-108966  10/11/2021        Germany      Stuttgart   EMEA   \n",
       "...                ...         ...            ...            ...    ...   \n",
       "9989  EMEA-2020-110422   1/22/2020        Germany        Hamburg   EMEA   \n",
       "9990  AMER-2023-121258   2/27/2023  United States      Milwaukee   AMER   \n",
       "9991  AMER-2023-121258   2/27/2023  United States      Milwaukee   AMER   \n",
       "9992  AMER-2023-121258   2/27/2023  United States      Milwaukee   AMER   \n",
       "9993  AMER-2023-119914    5/5/2023  United States         Dallas   AMER   \n",
       "\n",
       "     Subregion           Customer  Customer ID        Industry    Segment  \\\n",
       "0         UKIR            Chevron         1017          Energy        SMB   \n",
       "1         UKIR            Chevron         1017          Energy        SMB   \n",
       "2        NAMER        Phillips 66         1056          Energy  Strategic   \n",
       "3      EU-WEST  Royal Dutch Shell         1031          Energy        SMB   \n",
       "4      EU-WEST  Royal Dutch Shell         1031          Energy        SMB   \n",
       "...        ...                ...          ...             ...        ...   \n",
       "9989   EU-WEST  Johnson & Johnson         1055      Healthcare        SMB   \n",
       "9990     NAMER   American Express         1005         Finance        SMB   \n",
       "9991     NAMER   American Express         1005         Finance        SMB   \n",
       "9992     NAMER   American Express         1005         Finance        SMB   \n",
       "9993     NAMER            Comcast         1022  Communications        SMB   \n",
       "\n",
       "                     Product     License     Sales  Quantity  Discount  \\\n",
       "0            Marketing Suite  16GRM07R1K  261.9600         2      0.00   \n",
       "1                 FinanceHub  QLIW57KZUV  731.9400         3      0.00   \n",
       "2                 FinanceHub  JI6BVL70HQ   14.6200         2      0.00   \n",
       "3             ContactMatcher  DE9GJKGD44  957.5775         5      0.45   \n",
       "4     Marketing Suite - Gold  OIF7NY23WD   22.3680         2      0.20   \n",
       "...                      ...         ...       ...       ...       ...   \n",
       "9989     SaaS Connector Pack  ETHXMB5TMD   25.2480         3      0.20   \n",
       "9990     SaaS Connector Pack  LYHOKTRY7L   91.9600         2      0.00   \n",
       "9991          Site Analytics  I5SVMI6M88  258.5760         2      0.20   \n",
       "9992                 Support  JHLW4P6LQ2   29.6000         4      0.00   \n",
       "9993                 OneView  3NTBV9B3PS  243.1600         2      0.00   \n",
       "\n",
       "        Profit  \n",
       "0      41.9136  \n",
       "1     219.5820  \n",
       "2       6.8714  \n",
       "3    -383.0310  \n",
       "4       2.5164  \n",
       "...        ...  \n",
       "9989    4.1028  \n",
       "9990   15.6332  \n",
       "9991   19.3932  \n",
       "9992   13.3200  \n",
       "9993   72.9480  \n",
       "\n",
       "[9994 rows x 16 columns]"
      ]
     },
     "execution_count": 4,
     "metadata": {},
     "output_type": "execute_result"
    }
   ],
   "source": [
    "df.drop(['Row ID', 'Date Key', 'Contact Name'], axis=1, inplace = True)\n",
    "\n",
    "df"
   ]
  },
  {
   "cell_type": "markdown",
   "id": "a3b046fb",
   "metadata": {},
   "source": [
    "Beberapa kolom yang tidak memiliki akan digunakan atau tidak membantu dalam melihat data menjadi lebih baik sudah dihapus. Nantinya akan kita lakukan pengecekan ulang terhadap tabel mana yang akan kita pakai dalam analisis, namun sebelumnya kita perlu melakukan pengecekan data wrangling lainnya sebelum menentukan data mana yang akan kita pakai."
   ]
  },
  {
   "cell_type": "code",
   "execution_count": 5,
   "id": "c0e7ae3e",
   "metadata": {},
   "outputs": [
    {
     "data": {
      "application/vnd.microsoft.datawrangler.viewer.v0+json": {
       "columns": [
        {
         "name": "index",
         "rawType": "int64",
         "type": "integer"
        },
        {
         "name": "Order ID",
         "rawType": "object",
         "type": "string"
        },
        {
         "name": "Order Date",
         "rawType": "object",
         "type": "string"
        },
        {
         "name": "Country",
         "rawType": "object",
         "type": "string"
        },
        {
         "name": "City",
         "rawType": "object",
         "type": "string"
        },
        {
         "name": "Region",
         "rawType": "object",
         "type": "string"
        },
        {
         "name": "Subregion",
         "rawType": "object",
         "type": "string"
        },
        {
         "name": "Customer",
         "rawType": "object",
         "type": "string"
        },
        {
         "name": "Customer ID",
         "rawType": "int64",
         "type": "integer"
        },
        {
         "name": "Industry",
         "rawType": "object",
         "type": "string"
        },
        {
         "name": "Segment",
         "rawType": "object",
         "type": "string"
        },
        {
         "name": "Product",
         "rawType": "object",
         "type": "string"
        },
        {
         "name": "License",
         "rawType": "object",
         "type": "string"
        },
        {
         "name": "Sales",
         "rawType": "float64",
         "type": "float"
        },
        {
         "name": "Quantity",
         "rawType": "int64",
         "type": "integer"
        },
        {
         "name": "Discount",
         "rawType": "float64",
         "type": "float"
        },
        {
         "name": "Profit",
         "rawType": "float64",
         "type": "float"
        }
       ],
       "ref": "3906269c-2df7-4aff-b0ba-6f28f9ad7dc7",
       "rows": [
        [
         "0",
         "EMEA-2022-152156",
         "11/9/2022",
         "Ireland",
         "Dublin",
         "EMEA",
         "UKIR",
         "Chevron",
         "1017",
         "Energy",
         "SMB",
         "Marketing Suite",
         "16GRM07R1K",
         "261.96",
         "2",
         "0.0",
         "41.9136"
        ],
        [
         "1",
         "EMEA-2022-152156",
         "11/9/2022",
         "Ireland",
         "Dublin",
         "EMEA",
         "UKIR",
         "Chevron",
         "1017",
         "Energy",
         "SMB",
         "FinanceHub",
         "QLIW57KZUV",
         "731.94",
         "3",
         "0.0",
         "219.582"
        ],
        [
         "2",
         "AMER-2022-138688",
         "6/13/2022",
         "United States",
         "New York City",
         "AMER",
         "NAMER",
         "Phillips 66",
         "1056",
         "Energy",
         "Strategic",
         "FinanceHub",
         "JI6BVL70HQ",
         "14.62",
         "2",
         "0.0",
         "6.8714"
        ],
        [
         "3",
         "EMEA-2021-108966",
         "10/11/2021",
         "Germany",
         "Stuttgart",
         "EMEA",
         "EU-WEST",
         "Royal Dutch Shell",
         "1031",
         "Energy",
         "SMB",
         "ContactMatcher",
         "DE9GJKGD44",
         "957.5775",
         "5",
         "0.45",
         "-383.031"
        ],
        [
         "4",
         "EMEA-2021-108966",
         "10/11/2021",
         "Germany",
         "Stuttgart",
         "EMEA",
         "EU-WEST",
         "Royal Dutch Shell",
         "1031",
         "Energy",
         "SMB",
         "Marketing Suite - Gold",
         "OIF7NY23WD",
         "22.368",
         "2",
         "0.2",
         "2.5164"
        ]
       ],
       "shape": {
        "columns": 16,
        "rows": 5
       }
      },
      "text/html": [
       "<div>\n",
       "<style scoped>\n",
       "    .dataframe tbody tr th:only-of-type {\n",
       "        vertical-align: middle;\n",
       "    }\n",
       "\n",
       "    .dataframe tbody tr th {\n",
       "        vertical-align: top;\n",
       "    }\n",
       "\n",
       "    .dataframe thead th {\n",
       "        text-align: right;\n",
       "    }\n",
       "</style>\n",
       "<table border=\"1\" class=\"dataframe\">\n",
       "  <thead>\n",
       "    <tr style=\"text-align: right;\">\n",
       "      <th></th>\n",
       "      <th>Order ID</th>\n",
       "      <th>Order Date</th>\n",
       "      <th>Country</th>\n",
       "      <th>City</th>\n",
       "      <th>Region</th>\n",
       "      <th>Subregion</th>\n",
       "      <th>Customer</th>\n",
       "      <th>Customer ID</th>\n",
       "      <th>Industry</th>\n",
       "      <th>Segment</th>\n",
       "      <th>Product</th>\n",
       "      <th>License</th>\n",
       "      <th>Sales</th>\n",
       "      <th>Quantity</th>\n",
       "      <th>Discount</th>\n",
       "      <th>Profit</th>\n",
       "    </tr>\n",
       "  </thead>\n",
       "  <tbody>\n",
       "    <tr>\n",
       "      <th>0</th>\n",
       "      <td>EMEA-2022-152156</td>\n",
       "      <td>11/9/2022</td>\n",
       "      <td>Ireland</td>\n",
       "      <td>Dublin</td>\n",
       "      <td>EMEA</td>\n",
       "      <td>UKIR</td>\n",
       "      <td>Chevron</td>\n",
       "      <td>1017</td>\n",
       "      <td>Energy</td>\n",
       "      <td>SMB</td>\n",
       "      <td>Marketing Suite</td>\n",
       "      <td>16GRM07R1K</td>\n",
       "      <td>261.9600</td>\n",
       "      <td>2</td>\n",
       "      <td>0.00</td>\n",
       "      <td>41.9136</td>\n",
       "    </tr>\n",
       "    <tr>\n",
       "      <th>1</th>\n",
       "      <td>EMEA-2022-152156</td>\n",
       "      <td>11/9/2022</td>\n",
       "      <td>Ireland</td>\n",
       "      <td>Dublin</td>\n",
       "      <td>EMEA</td>\n",
       "      <td>UKIR</td>\n",
       "      <td>Chevron</td>\n",
       "      <td>1017</td>\n",
       "      <td>Energy</td>\n",
       "      <td>SMB</td>\n",
       "      <td>FinanceHub</td>\n",
       "      <td>QLIW57KZUV</td>\n",
       "      <td>731.9400</td>\n",
       "      <td>3</td>\n",
       "      <td>0.00</td>\n",
       "      <td>219.5820</td>\n",
       "    </tr>\n",
       "    <tr>\n",
       "      <th>2</th>\n",
       "      <td>AMER-2022-138688</td>\n",
       "      <td>6/13/2022</td>\n",
       "      <td>United States</td>\n",
       "      <td>New York City</td>\n",
       "      <td>AMER</td>\n",
       "      <td>NAMER</td>\n",
       "      <td>Phillips 66</td>\n",
       "      <td>1056</td>\n",
       "      <td>Energy</td>\n",
       "      <td>Strategic</td>\n",
       "      <td>FinanceHub</td>\n",
       "      <td>JI6BVL70HQ</td>\n",
       "      <td>14.6200</td>\n",
       "      <td>2</td>\n",
       "      <td>0.00</td>\n",
       "      <td>6.8714</td>\n",
       "    </tr>\n",
       "    <tr>\n",
       "      <th>3</th>\n",
       "      <td>EMEA-2021-108966</td>\n",
       "      <td>10/11/2021</td>\n",
       "      <td>Germany</td>\n",
       "      <td>Stuttgart</td>\n",
       "      <td>EMEA</td>\n",
       "      <td>EU-WEST</td>\n",
       "      <td>Royal Dutch Shell</td>\n",
       "      <td>1031</td>\n",
       "      <td>Energy</td>\n",
       "      <td>SMB</td>\n",
       "      <td>ContactMatcher</td>\n",
       "      <td>DE9GJKGD44</td>\n",
       "      <td>957.5775</td>\n",
       "      <td>5</td>\n",
       "      <td>0.45</td>\n",
       "      <td>-383.0310</td>\n",
       "    </tr>\n",
       "    <tr>\n",
       "      <th>4</th>\n",
       "      <td>EMEA-2021-108966</td>\n",
       "      <td>10/11/2021</td>\n",
       "      <td>Germany</td>\n",
       "      <td>Stuttgart</td>\n",
       "      <td>EMEA</td>\n",
       "      <td>EU-WEST</td>\n",
       "      <td>Royal Dutch Shell</td>\n",
       "      <td>1031</td>\n",
       "      <td>Energy</td>\n",
       "      <td>SMB</td>\n",
       "      <td>Marketing Suite - Gold</td>\n",
       "      <td>OIF7NY23WD</td>\n",
       "      <td>22.3680</td>\n",
       "      <td>2</td>\n",
       "      <td>0.20</td>\n",
       "      <td>2.5164</td>\n",
       "    </tr>\n",
       "  </tbody>\n",
       "</table>\n",
       "</div>"
      ],
      "text/plain": [
       "           Order ID  Order Date        Country           City Region  \\\n",
       "0  EMEA-2022-152156   11/9/2022        Ireland         Dublin   EMEA   \n",
       "1  EMEA-2022-152156   11/9/2022        Ireland         Dublin   EMEA   \n",
       "2  AMER-2022-138688   6/13/2022  United States  New York City   AMER   \n",
       "3  EMEA-2021-108966  10/11/2021        Germany      Stuttgart   EMEA   \n",
       "4  EMEA-2021-108966  10/11/2021        Germany      Stuttgart   EMEA   \n",
       "\n",
       "  Subregion           Customer  Customer ID Industry    Segment  \\\n",
       "0      UKIR            Chevron         1017   Energy        SMB   \n",
       "1      UKIR            Chevron         1017   Energy        SMB   \n",
       "2     NAMER        Phillips 66         1056   Energy  Strategic   \n",
       "3   EU-WEST  Royal Dutch Shell         1031   Energy        SMB   \n",
       "4   EU-WEST  Royal Dutch Shell         1031   Energy        SMB   \n",
       "\n",
       "                  Product     License     Sales  Quantity  Discount    Profit  \n",
       "0         Marketing Suite  16GRM07R1K  261.9600         2      0.00   41.9136  \n",
       "1              FinanceHub  QLIW57KZUV  731.9400         3      0.00  219.5820  \n",
       "2              FinanceHub  JI6BVL70HQ   14.6200         2      0.00    6.8714  \n",
       "3          ContactMatcher  DE9GJKGD44  957.5775         5      0.45 -383.0310  \n",
       "4  Marketing Suite - Gold  OIF7NY23WD   22.3680         2      0.20    2.5164  "
      ]
     },
     "execution_count": 5,
     "metadata": {},
     "output_type": "execute_result"
    }
   ],
   "source": [
    "df.head()"
   ]
  },
  {
   "cell_type": "markdown",
   "id": "573dad2b",
   "metadata": {},
   "source": [
    "### **Checking Missing Value**\n",
    "\n",
    "Pengecekan untuk masing - masing data melihat kekosongan data dalam baris maupun kolom."
   ]
  },
  {
   "cell_type": "code",
   "execution_count": 6,
   "id": "f1fd796d",
   "metadata": {},
   "outputs": [
    {
     "name": "stdout",
     "output_type": "stream",
     "text": [
      "Total values:  159904\n",
      "Total Missing Values on Dataset : 0 (0.00%)\n"
     ]
    },
    {
     "data": {
      "application/vnd.microsoft.datawrangler.viewer.v0+json": {
       "columns": [
        {
         "name": "index",
         "rawType": "object",
         "type": "string"
        },
        {
         "name": "Count of Missing Values",
         "rawType": "int64",
         "type": "integer"
        },
        {
         "name": "Percentage of Missing",
         "rawType": "object",
         "type": "string"
        }
       ],
       "ref": "97943762-c04b-4b62-834a-05a90bfbe3d3",
       "rows": [
        [
         "Order ID",
         "0",
         "0.0%"
        ],
        [
         "Order Date",
         "0",
         "0.0%"
        ],
        [
         "Country",
         "0",
         "0.0%"
        ],
        [
         "City",
         "0",
         "0.0%"
        ],
        [
         "Region",
         "0",
         "0.0%"
        ],
        [
         "Subregion",
         "0",
         "0.0%"
        ],
        [
         "Customer",
         "0",
         "0.0%"
        ],
        [
         "Customer ID",
         "0",
         "0.0%"
        ],
        [
         "Industry",
         "0",
         "0.0%"
        ],
        [
         "Segment",
         "0",
         "0.0%"
        ],
        [
         "Product",
         "0",
         "0.0%"
        ],
        [
         "License",
         "0",
         "0.0%"
        ],
        [
         "Sales",
         "0",
         "0.0%"
        ],
        [
         "Quantity",
         "0",
         "0.0%"
        ],
        [
         "Discount",
         "0",
         "0.0%"
        ],
        [
         "Profit",
         "0",
         "0.0%"
        ]
       ],
       "shape": {
        "columns": 2,
        "rows": 16
       }
      },
      "text/html": [
       "<div>\n",
       "<style scoped>\n",
       "    .dataframe tbody tr th:only-of-type {\n",
       "        vertical-align: middle;\n",
       "    }\n",
       "\n",
       "    .dataframe tbody tr th {\n",
       "        vertical-align: top;\n",
       "    }\n",
       "\n",
       "    .dataframe thead th {\n",
       "        text-align: right;\n",
       "    }\n",
       "</style>\n",
       "<table border=\"1\" class=\"dataframe\">\n",
       "  <thead>\n",
       "    <tr style=\"text-align: right;\">\n",
       "      <th></th>\n",
       "      <th>Count of Missing Values</th>\n",
       "      <th>Percentage of Missing</th>\n",
       "    </tr>\n",
       "  </thead>\n",
       "  <tbody>\n",
       "    <tr>\n",
       "      <th>Order ID</th>\n",
       "      <td>0</td>\n",
       "      <td>0.0%</td>\n",
       "    </tr>\n",
       "    <tr>\n",
       "      <th>Order Date</th>\n",
       "      <td>0</td>\n",
       "      <td>0.0%</td>\n",
       "    </tr>\n",
       "    <tr>\n",
       "      <th>Country</th>\n",
       "      <td>0</td>\n",
       "      <td>0.0%</td>\n",
       "    </tr>\n",
       "    <tr>\n",
       "      <th>City</th>\n",
       "      <td>0</td>\n",
       "      <td>0.0%</td>\n",
       "    </tr>\n",
       "    <tr>\n",
       "      <th>Region</th>\n",
       "      <td>0</td>\n",
       "      <td>0.0%</td>\n",
       "    </tr>\n",
       "    <tr>\n",
       "      <th>Subregion</th>\n",
       "      <td>0</td>\n",
       "      <td>0.0%</td>\n",
       "    </tr>\n",
       "    <tr>\n",
       "      <th>Customer</th>\n",
       "      <td>0</td>\n",
       "      <td>0.0%</td>\n",
       "    </tr>\n",
       "    <tr>\n",
       "      <th>Customer ID</th>\n",
       "      <td>0</td>\n",
       "      <td>0.0%</td>\n",
       "    </tr>\n",
       "    <tr>\n",
       "      <th>Industry</th>\n",
       "      <td>0</td>\n",
       "      <td>0.0%</td>\n",
       "    </tr>\n",
       "    <tr>\n",
       "      <th>Segment</th>\n",
       "      <td>0</td>\n",
       "      <td>0.0%</td>\n",
       "    </tr>\n",
       "    <tr>\n",
       "      <th>Product</th>\n",
       "      <td>0</td>\n",
       "      <td>0.0%</td>\n",
       "    </tr>\n",
       "    <tr>\n",
       "      <th>License</th>\n",
       "      <td>0</td>\n",
       "      <td>0.0%</td>\n",
       "    </tr>\n",
       "    <tr>\n",
       "      <th>Sales</th>\n",
       "      <td>0</td>\n",
       "      <td>0.0%</td>\n",
       "    </tr>\n",
       "    <tr>\n",
       "      <th>Quantity</th>\n",
       "      <td>0</td>\n",
       "      <td>0.0%</td>\n",
       "    </tr>\n",
       "    <tr>\n",
       "      <th>Discount</th>\n",
       "      <td>0</td>\n",
       "      <td>0.0%</td>\n",
       "    </tr>\n",
       "    <tr>\n",
       "      <th>Profit</th>\n",
       "      <td>0</td>\n",
       "      <td>0.0%</td>\n",
       "    </tr>\n",
       "  </tbody>\n",
       "</table>\n",
       "</div>"
      ],
      "text/plain": [
       "             Count of Missing Values Percentage of Missing\n",
       "Order ID                           0                  0.0%\n",
       "Order Date                         0                  0.0%\n",
       "Country                            0                  0.0%\n",
       "City                               0                  0.0%\n",
       "Region                             0                  0.0%\n",
       "Subregion                          0                  0.0%\n",
       "Customer                           0                  0.0%\n",
       "Customer ID                        0                  0.0%\n",
       "Industry                           0                  0.0%\n",
       "Segment                            0                  0.0%\n",
       "Product                            0                  0.0%\n",
       "License                            0                  0.0%\n",
       "Sales                              0                  0.0%\n",
       "Quantity                           0                  0.0%\n",
       "Discount                           0                  0.0%\n",
       "Profit                             0                  0.0%"
      ]
     },
     "execution_count": 6,
     "metadata": {},
     "output_type": "execute_result"
    }
   ],
   "source": [
    "# Mengidentifikasi/menghitung jumlah nilai yang kosong\n",
    "\n",
    "total_mv = df.isnull().sum().sum()\n",
    "total_mv_pct = total_mv / df.size\n",
    "\n",
    "print(\"Total values: \", df.size)\n",
    "print(f\"Total Missing Values on Dataset : {total_mv} ({total_mv_pct:.2%})\")\n",
    "\n",
    "# Periksa nilai yang kosong pada setiap kolom\n",
    "df_missing = pd.DataFrame(df.isnull().sum()).rename(columns={0: 'Count of Missing Values'})\n",
    "df_missing['Percentage of Missing']=100 * round(df_missing['Count of Missing Values'] / len(df),4)\n",
    "df_missing['Percentage of Missing'] = df_missing['Percentage of Missing'].astype(str) + '%'\n",
    "\n",
    "df_missing"
   ]
  },
  {
   "cell_type": "markdown",
   "id": "6dac9eb4",
   "metadata": {},
   "source": [
    "Terlihat bahwa untuk masing - masing kolom maupun baris tidak memiliki nilai yang kosong, sehingga tidak perlu dilakukan pengisian nilai yang kosong."
   ]
  },
  {
   "cell_type": "markdown",
   "id": "663275f0",
   "metadata": {},
   "source": [
    "#### **Missing Value in Row**"
   ]
  },
  {
   "cell_type": "code",
   "execution_count": 7,
   "id": "92e947eb",
   "metadata": {},
   "outputs": [
    {
     "name": "stdout",
     "output_type": "stream",
     "text": [
      "Total rows:  9994\n",
      "Total Rows that Have Missing Values on Dataset : 0 (0.00%)\n"
     ]
    }
   ],
   "source": [
    "#Mengidentifikasi/menghitung jumlah baris yang kosong\n",
    "\n",
    "total_mv = df.isnull().any(axis=1).sum()\n",
    "total_mv_pct = total_mv / df.shape[0]\n",
    "\n",
    "print(\"Total rows: \", df.shape[0])\n",
    "print(f\"Total Rows that Have Missing Values on Dataset : {total_mv} ({total_mv_pct:.2%})\")"
   ]
  },
  {
   "cell_type": "markdown",
   "id": "8c5ce699",
   "metadata": {},
   "source": [
    "#### **Missing Value in Column**"
   ]
  },
  {
   "cell_type": "code",
   "execution_count": 8,
   "id": "321dbb7a",
   "metadata": {},
   "outputs": [
    {
     "name": "stdout",
     "output_type": "stream",
     "text": [
      "Persentase nilai yang hilang per kolom:\n",
      "Order ID       0.0\n",
      "Order Date     0.0\n",
      "Country        0.0\n",
      "City           0.0\n",
      "Region         0.0\n",
      "Subregion      0.0\n",
      "Customer       0.0\n",
      "Customer ID    0.0\n",
      "Industry       0.0\n",
      "Segment        0.0\n",
      "Product        0.0\n",
      "License        0.0\n",
      "Sales          0.0\n",
      "Quantity       0.0\n",
      "Discount       0.0\n",
      "Profit         0.0\n",
      "dtype: float64\n"
     ]
    }
   ],
   "source": [
    "#Mengindentifikasi/menghitung kolom yang memiliki nilai kosong dalam persentase\n",
    "percentage_missing_columns = (df.isnull().sum() / len(df)) * 100\n",
    "print(f\"Persentase nilai yang hilang per kolom:\\n{percentage_missing_columns}\")\n"
   ]
  },
  {
   "cell_type": "markdown",
   "id": "0eb37364",
   "metadata": {},
   "source": [
    "Jika ada nilai yang kosong, bisa dilakukan penghapusan atau pengisian nilai menggunakan metode yang sesuai\n",
    "Untuk kolom yang kosong, ada beberapa panduan untuk mengisi nilai berikut : \n",
    "\n",
    "- Kosong > 90% : Kolom dihapus\n",
    "- Kosong < 5% : Baris Aman Untuk Dihapus\n",
    "-   5% < Kosong > 20% : Dipertahankan dan dianalisis \n",
    "-   Kosong > 40 - 50% : Kecuali kolom penting, kolom dihapus \n",
    "-   Kosong:\n",
    "\n",
    "    Asumsi MAR : Missing At Random \n",
    "\n",
    "    Asumsi MCAR : Missing Completely At Random\n",
    "    \n",
    "    Asumsi MNAR : Missing Not At Random"
   ]
  },
  {
   "cell_type": "markdown",
   "id": "73f94f2a",
   "metadata": {},
   "source": [
    "### **Checking Data Type**\n",
    "\n",
    "Langkah selanjutnya adalah melakukan pengecekan terhadap tipe data setiap kolom dan melakukan perbaikan jika diperlukan. Hal ini penting untuk memastikan bahwa analisis yang dilakukan sesuai dengan tipe data yang ada."
   ]
  },
  {
   "cell_type": "code",
   "execution_count": 9,
   "id": "05294334",
   "metadata": {},
   "outputs": [
    {
     "name": "stdout",
     "output_type": "stream",
     "text": [
      "<class 'pandas.core.frame.DataFrame'>\n",
      "RangeIndex: 9994 entries, 0 to 9993\n",
      "Data columns (total 16 columns):\n",
      " #   Column       Non-Null Count  Dtype  \n",
      "---  ------       --------------  -----  \n",
      " 0   Order ID     9994 non-null   object \n",
      " 1   Order Date   9994 non-null   object \n",
      " 2   Country      9994 non-null   object \n",
      " 3   City         9994 non-null   object \n",
      " 4   Region       9994 non-null   object \n",
      " 5   Subregion    9994 non-null   object \n",
      " 6   Customer     9994 non-null   object \n",
      " 7   Customer ID  9994 non-null   int64  \n",
      " 8   Industry     9994 non-null   object \n",
      " 9   Segment      9994 non-null   object \n",
      " 10  Product      9994 non-null   object \n",
      " 11  License      9994 non-null   object \n",
      " 12  Sales        9994 non-null   float64\n",
      " 13  Quantity     9994 non-null   int64  \n",
      " 14  Discount     9994 non-null   float64\n",
      " 15  Profit       9994 non-null   float64\n",
      "dtypes: float64(3), int64(2), object(11)\n",
      "memory usage: 1.2+ MB\n"
     ]
    }
   ],
   "source": [
    "# Melihat data secara keseluruhan\n",
    "df.info()"
   ]
  },
  {
   "cell_type": "markdown",
   "id": "a86c8e6b",
   "metadata": {},
   "source": [
    "Proses berikutnya merupakan mengubah tipe data pada fitur yang salah, dalam hal ini fitur ``order date`` memiliki tipe data object yang seharusnya merupakan tipe data datetime."
   ]
  },
  {
   "cell_type": "code",
   "execution_count": 10,
   "id": "ef02ef40",
   "metadata": {},
   "outputs": [
    {
     "name": "stdout",
     "output_type": "stream",
     "text": [
      "<class 'pandas.core.frame.DataFrame'>\n",
      "RangeIndex: 9994 entries, 0 to 9993\n",
      "Data columns (total 16 columns):\n",
      " #   Column       Non-Null Count  Dtype         \n",
      "---  ------       --------------  -----         \n",
      " 0   Order ID     9994 non-null   object        \n",
      " 1   Order Date   9994 non-null   datetime64[ns]\n",
      " 2   Country      9994 non-null   object        \n",
      " 3   City         9994 non-null   object        \n",
      " 4   Region       9994 non-null   object        \n",
      " 5   Subregion    9994 non-null   object        \n",
      " 6   Customer     9994 non-null   object        \n",
      " 7   Customer ID  9994 non-null   object        \n",
      " 8   Industry     9994 non-null   object        \n",
      " 9   Segment      9994 non-null   object        \n",
      " 10  Product      9994 non-null   object        \n",
      " 11  License      9994 non-null   object        \n",
      " 12  Sales        9994 non-null   float64       \n",
      " 13  Quantity     9994 non-null   int64         \n",
      " 14  Discount     9994 non-null   float64       \n",
      " 15  Profit       9994 non-null   float64       \n",
      "dtypes: datetime64[ns](1), float64(3), int64(1), object(11)\n",
      "memory usage: 1.2+ MB\n"
     ]
    }
   ],
   "source": [
    "# Mengubah tipe data tanggal contoh kolom 'Order Date' menjadi datetime\n",
    "df['Order Date'] = pd.to_datetime(df['Order Date'], errors='coerce')\n",
    "\n",
    "# Mengubah tipe data customer ID menjadi object karena kolom tersebut menunjukkan identitas unik dan bukan sebuah angka yang akan dilakukan operasi matematika\n",
    "df['Customer ID'] = df['Customer ID'].astype(str)\n",
    "\n",
    "# Pengecekan kembali tipe data setelah perubahan\n",
    "df.info()"
   ]
  },
  {
   "cell_type": "markdown",
   "id": "707104a2",
   "metadata": {},
   "source": [
    "### **Checking Inconsistent Data**\n",
    "\n",
    "Langkah selanjutnya adalah melakukan pengecekan terhadap konsistensi data setiap kolom dan melakukan perbaikan jika diperlukan. Hal ini penting untuk memastikan bahwa setiap data memiliki format penulisan yang sama."
   ]
  },
  {
   "cell_type": "code",
   "execution_count": 11,
   "id": "b467d40b",
   "metadata": {},
   "outputs": [
    {
     "name": "stdout",
     "output_type": "stream",
     "text": [
      "<class 'pandas.core.frame.DataFrame'>\n",
      "RangeIndex: 9994 entries, 0 to 9993\n",
      "Data columns (total 16 columns):\n",
      " #   Column       Non-Null Count  Dtype         \n",
      "---  ------       --------------  -----         \n",
      " 0   Order ID     9994 non-null   object        \n",
      " 1   Order Date   9994 non-null   datetime64[ns]\n",
      " 2   Country      9994 non-null   object        \n",
      " 3   City         9994 non-null   object        \n",
      " 4   Region       9994 non-null   object        \n",
      " 5   Subregion    9994 non-null   object        \n",
      " 6   Customer     9994 non-null   object        \n",
      " 7   Customer ID  9994 non-null   object        \n",
      " 8   Industry     9994 non-null   object        \n",
      " 9   Segment      9994 non-null   object        \n",
      " 10  Product      9994 non-null   object        \n",
      " 11  License      9994 non-null   object        \n",
      " 12  Sales        9994 non-null   float64       \n",
      " 13  Quantity     9994 non-null   int64         \n",
      " 14  Discount     9994 non-null   float64       \n",
      " 15  Profit       9994 non-null   float64       \n",
      "dtypes: datetime64[ns](1), float64(3), int64(1), object(11)\n",
      "memory usage: 1.2+ MB\n"
     ]
    }
   ],
   "source": [
    "df.info()"
   ]
  },
  {
   "cell_type": "code",
   "execution_count": 92,
   "id": "63284d6f",
   "metadata": {},
   "outputs": [
    {
     "name": "stdout",
     "output_type": "stream",
     "text": [
      "['EMEA-2022-152156' 'AMER-2022-138688' 'EMEA-2021-108966' ...\n",
      " 'EMEA-2020-110422' 'AMER-2023-121258' 'AMER-2023-119914']\n",
      "Jumlah data unik : 5009 \n"
     ]
    }
   ],
   "source": [
    "df['Order ID'].unique()\n",
    "\n",
    "df_unique = df['Order ID'].nunique()\n",
    "\n",
    "print(df['Order ID'].unique())\n",
    "print(f'Jumlah data unik : {df_unique} ')"
   ]
  },
  {
   "cell_type": "code",
   "execution_count": 12,
   "id": "1f0362c9",
   "metadata": {},
   "outputs": [
    {
     "name": "stdout",
     "output_type": "stream",
     "text": [
      "<DatetimeArray>\n",
      "['2022-11-09 00:00:00', '2022-06-13 00:00:00', '2021-10-11 00:00:00',\n",
      " '2020-06-09 00:00:00', '2023-04-16 00:00:00', '2022-12-06 00:00:00',\n",
      " '2021-11-22 00:00:00', '2020-11-11 00:00:00', '2020-05-13 00:00:00',\n",
      " '2020-08-27 00:00:00',\n",
      " ...\n",
      " '2022-10-12 00:00:00', '2020-06-18 00:00:00', '2023-03-01 00:00:00',\n",
      " '2021-05-09 00:00:00', '2020-11-06 00:00:00', '2021-12-29 00:00:00',\n",
      " '2020-04-03 00:00:00', '2022-06-04 00:00:00', '2021-04-12 00:00:00',\n",
      " '2020-01-22 00:00:00']\n",
      "Length: 1237, dtype: datetime64[ns]\n",
      "Jumlah data unik : 1237 \n"
     ]
    }
   ],
   "source": [
    "df['Order Date'].unique()\n",
    "\n",
    "df_unique = df['Order Date'].nunique()\n",
    "\n",
    "print(df['Order Date'].unique())\n",
    "print(f'Jumlah data unik : {df_unique} ')"
   ]
  },
  {
   "cell_type": "markdown",
   "id": "21e2667e",
   "metadata": {},
   "source": [
    "Pada setiap data pada `order date` sudah memiliki format penulisan yang sama sehingga tidak perlu dilakukan adanya perbaikan dengan jumlah data unik sebanyak `1237` buah"
   ]
  },
  {
   "cell_type": "code",
   "execution_count": 13,
   "id": "7b33d41b",
   "metadata": {},
   "outputs": [
    {
     "name": "stdout",
     "output_type": "stream",
     "text": [
      "['Ireland' 'United States' 'Germany' 'Sweden' 'Canada' 'Japan' 'Italy'\n",
      " 'Turkey' 'Costa Rica' 'France' 'Australia' 'Luxembourg' 'Brazil'\n",
      " 'Philippines' 'India' 'United Kingdom' 'Chile' 'Spain' 'South Africa'\n",
      " 'Portugal' 'Colombia' 'Belgium' 'Russia' 'Netherlands' 'Mexico' 'Poland'\n",
      " 'Singapore' 'New Zealand' 'Czech Republic' 'Saudi Arabia' 'Argentina'\n",
      " 'South Korea' 'Finland' 'Israel' 'Norway' 'Ukraine'\n",
      " 'United Arab Emirates' 'Greece' 'China' 'Austria' 'Indonesia' 'Egypt'\n",
      " 'Denmark' 'Croatia' 'Taiwan' 'Qatar' 'Slovenia' 'Iceland']\n",
      "Jumlah data unik : 48 \n"
     ]
    }
   ],
   "source": [
    "df['Country'].unique()\n",
    "\n",
    "df_unique = df['Country'].nunique()\n",
    "\n",
    "print(df['Country'].unique())\n",
    "print(f'Jumlah data unik : {df_unique} ')"
   ]
  },
  {
   "cell_type": "markdown",
   "id": "5c8f9834",
   "metadata": {},
   "source": [
    "Pada setiap data pada `Country` sudah memiliki format penulisan yang sama sehingga tidak perlu dilakukan adanya perbaikan dengan jumlah data unik sebanyak `48` buah"
   ]
  },
  {
   "cell_type": "code",
   "execution_count": 14,
   "id": "373bc3a0",
   "metadata": {},
   "outputs": [
    {
     "name": "stdout",
     "output_type": "stream",
     "text": [
      "['Dublin' 'New York City' 'Stuttgart' 'Stockholm' 'Toronto' 'Saitama'\n",
      " 'Naples' 'Ankara' 'Los Angeles' 'San José' 'Paris' 'Istanbul' 'Tokyo'\n",
      " 'Aichi' 'Wollongong' 'Hanover' 'Luxembourg' 'Salvador' 'Davao City'\n",
      " 'Kolkata' 'London' 'Brighton' 'Sydney' 'Puente Alto' 'Madrid'\n",
      " 'Rio de Janeiro' 'Cape Town' 'Lisboa' 'Uppsala' 'Bogotá' 'Brussels'\n",
      " 'Moscow' 'Canberra' 'The Hague' 'Mexico City' 'Manila' 'Geelong'\n",
      " 'Santiago' 'Aurora' 'Warsaw' 'Newark' 'Monterrey' 'Rome' 'Chicago'\n",
      " 'Singapore' 'Wellington' 'Osaka' 'Melbourne' 'Prague' 'Riyadh' 'Raleigh'\n",
      " 'Providence' 'Córdoba' 'Guadalajara' 'Oklahoma City' 'Puerto Vallarta'\n",
      " 'São Paulo' 'Johannesburg' 'Cologne' 'Rochester' 'Seattle' 'Detroit'\n",
      " 'Lafayette' 'Munich' 'St Petersburg' 'Buenos Aires' 'Mendoza' 'Leipzig'\n",
      " 'Jacksonville' 'Long Beach' 'Chiba' 'Incheon' 'Helsinki' 'Dhahran'\n",
      " 'Seoul' 'Dresden' 'Vancouver' 'Adelaide' 'Tel Aviv' 'Hordaland' 'Hamburg'\n",
      " 'Henderson' 'Kyiv' 'Leicester' 'Malmö' 'Berlin' 'Mumbai' 'Cardiff'\n",
      " 'Columbus' 'Fukuoka' 'Birmingham' 'Kanagawa' 'Liverpool' 'Abu Dhabi'\n",
      " 'Milwaukee' 'Yekaterinburg' 'Krakow' 'Frankfurt' 'Porto' 'Antofagasta'\n",
      " 'Genoa' 'Toluca' 'San Francisco' 'Hamilton' 'Tampere' 'Miami' 'Yonkers'\n",
      " 'Manaus' 'Rosario' 'Ottawa' 'Hyogo' 'Tijuana' 'Gothenburg' 'Lyon'\n",
      " 'Edinburgh' 'Leeds' 'Brisbane' 'Belo Horizonte' 'Ostrava' 'Amsterdam'\n",
      " 'Roswell' 'Murcia' 'Baltimore' 'Brno' 'Montreal' 'Atlanta' 'Milan' 'Cork'\n",
      " 'Jackson' 'Nice' 'Athens' 'Shanghai' 'Alicante' 'Cancun' 'Auckland'\n",
      " 'Springfield' 'Sapporo' 'Richmond' 'Seville' 'Huntsville' 'Calgary'\n",
      " 'Vienna' 'Woking' 'San Diego' 'Shenzhen' 'Louisville' 'Dubai' 'Tampa'\n",
      " 'Jerusalem' 'Zaragoza' 'Virginia Beach' 'Guangzhou' 'Manchester'\n",
      " 'Kharkiv' 'Philadelphia' 'Vantaa' 'Oslo' 'Novosibirsk' 'Columbia'\n",
      " 'Belfast' 'Oakland' 'Izmir' 'Cabo San Lucas' 'Daegu' 'Dallas' 'Phoenix'\n",
      " 'Bristol' 'Venice' 'Quebec' 'Shizuoka' 'Kyoto' 'Antwerp' 'Ibaraki'\n",
      " 'Barcelona' 'Delhi' 'Beijing' 'Turin' 'Jakarta' 'Jeddah' 'Valencia'\n",
      " 'Anaheim' 'Gwangju' 'Lawrence' 'Austin' 'Burlington' 'Sacramento'\n",
      " 'Nantes' 'Fort Worth' 'Brasília' 'Cairo' 'Copenhagen' 'Odessa' 'Zagreb'\n",
      " 'Nizhny Novogorod' 'Houston' 'Nashville' 'Hobart' 'Medellín' 'Granada'\n",
      " 'Glasgow' 'Bangalore' 'Gold Coast' 'Wilmington' 'Bologna' 'Indianapolis'\n",
      " 'Nuremberg' 'Hiroshima' 'Lakewood' 'Chennai' 'Florence' 'Ghent' 'Taipei'\n",
      " 'Arlington' 'San Jose' 'Fresno' 'Busan' 'Lakeland' 'Rotterdam' 'Mannheim'\n",
      " 'Cali' 'Brescia' 'Bari' 'Regina' 'Surabaya' 'Newcastle' 'Hyderabad'\n",
      " 'Doha' 'Palermo' 'Donetsk' 'Lancaster' 'Espoo' 'Catania' 'Tianjin'\n",
      " 'Bursa' 'Buffalo' 'Limerick' 'Quezon City' 'Perth' 'Marseille'\n",
      " 'San Antonio' 'Cleveland' 'Charlotte' 'Tucson' 'Ljubljana' 'Tulsa'\n",
      " 'Winnipeg' 'Thessaloniki' 'Denver' 'Victoria' 'Alexandria' 'Las Vegas'\n",
      " 'Minneapolis' 'Omaha' 'Bandung' 'Franklin' 'Reykjavík' 'Tallahassee'\n",
      " 'Suzhou' 'Chengdu' 'Everett' 'Clinton' 'Memphis']\n",
      "Jumlah data unik : 262 \n"
     ]
    }
   ],
   "source": [
    "df['City'].unique()\n",
    "\n",
    "df_unique = df['City'].nunique()\n",
    "\n",
    "print(df['City'].unique())\n",
    "print(f'Jumlah data unik : {df_unique} ')"
   ]
  },
  {
   "cell_type": "markdown",
   "id": "c5382f53",
   "metadata": {},
   "source": [
    "Pada setiap data pada `City` sudah memiliki format penulisan yang sama sehingga tidak perlu dilakukan adanya perbaikan dengan jumlah data unik sebanyak `262` buah"
   ]
  },
  {
   "cell_type": "code",
   "execution_count": 15,
   "id": "fa4866b2",
   "metadata": {},
   "outputs": [
    {
     "name": "stdout",
     "output_type": "stream",
     "text": [
      "['EMEA' 'AMER' 'APJ']\n",
      "Jumlah data unik : 3 \n"
     ]
    }
   ],
   "source": [
    "df['Region'].unique()\n",
    "\n",
    "df_unique = df['Region'].nunique()\n",
    "\n",
    "print(df['Region'].unique())\n",
    "print(f'Jumlah data unik : {df_unique} ')"
   ]
  },
  {
   "cell_type": "markdown",
   "id": "76232928",
   "metadata": {},
   "source": [
    "Pada setiap data pada `Region` sudah memiliki format penulisan yang sama sehingga tidak perlu dilakukan adanya perbaikan dengan jumlah data unik sebanyak `3` buah"
   ]
  },
  {
   "cell_type": "code",
   "execution_count": 16,
   "id": "f1d7e1da",
   "metadata": {},
   "outputs": [
    {
     "name": "stdout",
     "output_type": "stream",
     "text": [
      "['UKIR' 'NAMER' 'EU-WEST' 'NOR' 'JAPN' 'EU' 'MEA' 'LATAM' 'ANZ' 'APAC'\n",
      " 'IND' 'EU-EAST']\n",
      "Jumlah data unik : 12 \n"
     ]
    }
   ],
   "source": [
    "df['Subregion'].unique()\n",
    "\n",
    "df_unique = df['Subregion'].nunique()\n",
    "\n",
    "print(df['Subregion'].unique())\n",
    "print(f'Jumlah data unik : {df_unique} ')\n"
   ]
  },
  {
   "cell_type": "markdown",
   "id": "5bb16bad",
   "metadata": {},
   "source": [
    "Pada setiap data pada `Subregion` sudah memiliki format penulisan yang sama sehingga tidak perlu dilakukan adanya perbaikan dengan jumlah data unik sebanyak `12` buah"
   ]
  },
  {
   "cell_type": "code",
   "execution_count": 17,
   "id": "15b6c452",
   "metadata": {},
   "outputs": [
    {
     "name": "stdout",
     "output_type": "stream",
     "text": [
      "['Chevron' 'Phillips 66' 'Royal Dutch Shell' 'BNP Paribas' 'Engie'\n",
      " 'Microsoft' 'Pfizer' 'Toyota Motor' 'Home Depot' 'Wells Fargo'\n",
      " 'Carrefour' 'Costco Wholesale' 'McKesson' 'Siemens' 'Intel' 'Glencore'\n",
      " 'Procter & Gamble' 'Banco Santander' 'Pemex' 'Samsung Electronics' 'Sony'\n",
      " 'Morgan Stanley' 'Bank of America Corp.' 'Tesco' 'Aviva'\n",
      " 'Mondelez International' 'Abbott Laboratories' 'Fannie Mae' 'Aetna'\n",
      " 'Oracle' 'Nissan Motor' 'Tyson Foods' 'Verizon Communications' 'Itochu'\n",
      " 'Daimler' 'Walgreens' 'Boeing' 'Valero Energy' 'Nestle'\n",
      " 'Philip Morris International' 'Trafigura Group' 'Walmart' 'Cisco Systems'\n",
      " 'Prudential Financial' 'Amazon' 'Gazprom' 'FedEx' 'Honda Motor'\n",
      " 'CVS Health' 'General Motors' 'State Farm Insurance Cos.' 'Comcast'\n",
      " 'AmerisourceBergen' 'Johnson & Johnson' 'HonHai Precision Industry'\n",
      " 'American Express' 'J.P. Morgan Chase & Co.' 'Kroger' 'Volkswagen'\n",
      " 'Merck' 'AT&T' 'Allstate' 'BMW' 'Humana' 'Sprint Nextel' 'Allianz'\n",
      " 'United Parcel Service' 'Target' 'Airbus' 'Cigna' 'Goldman Sachs Group'\n",
      " 'Lowes' 'Ford Motor' 'Apple' 'China National Petroleum' 'ConocoPhillips'\n",
      " 'Bosch' 'HSBC Holdings' 'Enel' 'Sysco' 'Marathon Petroleum'\n",
      " 'UnitedHealth Group' 'Mitsubishi' 'Exxon Mobil' 'Anthem' 'Petrobras'\n",
      " 'Lukoil' 'Coca-Cola' 'PepsiCo' 'General Electric' 'Berkshire Hathaway'\n",
      " 'Walt Disney' 'Alphabet' 'Huawei' 'News Corp.' 'Caterpillar' 'Citigroup'\n",
      " 'Panasonic' 'Safeway']\n",
      "Jumlah data unik : 99 \n"
     ]
    }
   ],
   "source": [
    "df['Customer'].unique()\n",
    "\n",
    "df_unique = df['Customer'].nunique()\n",
    "\n",
    "print(df['Customer'].unique())\n",
    "print(f'Jumlah data unik : {df_unique} ')"
   ]
  },
  {
   "cell_type": "markdown",
   "id": "71ebbed6",
   "metadata": {},
   "source": [
    "Pada setiap data pada `Customer` sudah memiliki format penulisan yang sama sehingga tidak perlu dilakukan adanya perbaikan dengan jumlah data unik sebanyak `99` buah. Artinya terdapat total jumlah pelanggan dalam data ada 99 orang/perusahaan"
   ]
  },
  {
   "cell_type": "code",
   "execution_count": 18,
   "id": "275b4af5",
   "metadata": {},
   "outputs": [
    {
     "name": "stdout",
     "output_type": "stream",
     "text": [
      "['1017' '1056' '1031' '1065' '1062' '1066' '1074' '1087' '1047' '1099'\n",
      " '1048' '1025' '1063' '1043' '1051' '1083' '1077' '1101' '1058' '1015'\n",
      " '1028' '1068' '1011' '1059' '1006' '1067' '1001' '1035' '1002' '1072'\n",
      " '1098' '1088' '1094' '1032' '1052' '1095' '1014' '1093' '1089' '1075'\n",
      " '1100' '1096' '1019' '1078' '1004' '1027' '1036' '1045' '1026' '1041'\n",
      " '1082' '1022' '1007' '1055' '1033' '1005' '1054' '1057' '1046' '1064'\n",
      " '1010' '1003' '1039' '1049' '1081' '1080' '1090' '1085' '1030' '1038'\n",
      " '1042' '1060' '1009' '1008' '1023' '1024' '1076' '1070' '1013' '1084'\n",
      " '1061' '1092' '1050' '1034' '1029' '1018' '1044' '1021' '1073' '1040'\n",
      " '1012' '1097' '1053' '1086' '1071' '1016' '1020' '1091' '1079']\n",
      "Jumlah data unik : 99 \n"
     ]
    }
   ],
   "source": [
    "df['Customer ID'].unique()\n",
    "\n",
    "df_unique = df['Customer ID'].nunique()\n",
    "\n",
    "print(df['Customer ID'].unique())\n",
    "print(f'Jumlah data unik : {df_unique} ')"
   ]
  },
  {
   "cell_type": "markdown",
   "id": "50edf171",
   "metadata": {},
   "source": [
    "Pada setiap data pada `Customer ID` sudah memiliki format penulisan yang sama sehingga tidak perlu dilakukan adanya perbaikan dengan jumlah data unik sebanyak `99` buah. "
   ]
  },
  {
   "cell_type": "code",
   "execution_count": 19,
   "id": "fbafa81b",
   "metadata": {},
   "outputs": [
    {
     "name": "stdout",
     "output_type": "stream",
     "text": [
      "['Energy' 'Finance' 'Tech' 'Healthcare' 'Manufacturing' 'Retail'\n",
      " 'Consumer Products' 'Misc' 'Transportation' 'Communications']\n",
      "Jumlah data unik : 10 \n"
     ]
    }
   ],
   "source": [
    "df['Industry'].unique()\n",
    "\n",
    "df_unique = df['Industry'].nunique()\n",
    "\n",
    "print(df['Industry'].unique())\n",
    "print(f'Jumlah data unik : {df_unique} ')"
   ]
  },
  {
   "cell_type": "markdown",
   "id": "d2fa68bf",
   "metadata": {},
   "source": [
    "Pada setiap data pada `Industry` sudah memiliki format penulisan yang sama sehingga tidak perlu dilakukan adanya perbaikan dengan jumlah data unik sebanyak `10` buah"
   ]
  },
  {
   "cell_type": "code",
   "execution_count": 20,
   "id": "1cc58f66",
   "metadata": {},
   "outputs": [
    {
     "name": "stdout",
     "output_type": "stream",
     "text": [
      "['SMB' 'Strategic' 'Enterprise']\n",
      "Jumlah data unik : 3 \n"
     ]
    }
   ],
   "source": [
    "df['Segment'].unique()\n",
    "\n",
    "df_unique = df['Segment'].nunique()\n",
    "\n",
    "print(df['Segment'].unique())\n",
    "print(f'Jumlah data unik : {df_unique} ')"
   ]
  },
  {
   "cell_type": "markdown",
   "id": "5727db17",
   "metadata": {},
   "source": [
    "Pada setiap data pada `Segment` sudah memiliki format penulisan yang sama sehingga tidak perlu dilakukan adanya perbaikan dengan jumlah data unik sebanyak `3` buah"
   ]
  },
  {
   "cell_type": "code",
   "execution_count": 21,
   "id": "7d94f6be",
   "metadata": {},
   "outputs": [
    {
     "name": "stdout",
     "output_type": "stream",
     "text": [
      "['Marketing Suite' 'FinanceHub' 'ContactMatcher' 'Marketing Suite - Gold'\n",
      " 'SaaS Connector Pack' 'ChatBot Plugin' 'Site Analytics' 'OneView'\n",
      " 'Support' 'Data Smasher' 'SaaS Connector Pack - Gold' 'Storage'\n",
      " 'Big Ol Database' 'Alchemy']\n",
      "Jumlah data unik : 14 \n"
     ]
    }
   ],
   "source": [
    "df['Product'].unique()\n",
    "\n",
    "df_unique = df['Product'].nunique()\n",
    "\n",
    "print(df['Product'].unique())\n",
    "print(f'Jumlah data unik : {df_unique} ')"
   ]
  },
  {
   "cell_type": "markdown",
   "id": "0b1a46b5",
   "metadata": {},
   "source": [
    "Pada setiap data pada `Product` sudah memiliki format penulisan yang sama sehingga tidak perlu dilakukan adanya perbaikan dengan jumlah data unik sebanyak `14` buah"
   ]
  },
  {
   "cell_type": "code",
   "execution_count": 22,
   "id": "a81aab90",
   "metadata": {},
   "outputs": [
    {
     "name": "stdout",
     "output_type": "stream",
     "text": [
      "['16GRM07R1K' 'QLIW57KZUV' 'JI6BVL70HQ' ... 'I5SVMI6M88' 'JHLW4P6LQ2'\n",
      " '3NTBV9B3PS']\n",
      "Jumlah data unik : 9994 \n"
     ]
    }
   ],
   "source": [
    "df['License'].unique()\n",
    "\n",
    "df_unique = df['License'].nunique()\n",
    "\n",
    "print(df['License'].unique())\n",
    "print(f'Jumlah data unik : {df_unique} ')"
   ]
  },
  {
   "cell_type": "markdown",
   "id": "fb93052a",
   "metadata": {},
   "source": [
    "Pada setiap data pada `License` sudah memiliki format penulisan yang sama sehingga tidak perlu dilakukan adanya perbaikan dengan jumlah data unik sebanyak `9994` buah"
   ]
  },
  {
   "cell_type": "markdown",
   "id": "d36ad65e",
   "metadata": {},
   "source": [
    "### **Checking Data Outlier**\n",
    "\n",
    "Langkah selanjutnya adalah melakukan pengecekan terhadap data outler pada kolom numerik dan melakukan perbaikan jika diperlukan. Hal ini penting untuk memastikan bahwa setiap data memiliki distribusi yang tidak bias dan dapat mewakili populasi dengan baik, namun harus diperhatikan / ditinjau terlebih dahulu apakah data tersebut merupakan hal yang wajar dan bukan kondisi yang salah karena penulisan atau input data.\n",
    "\n",
    "Menggunakan bantuan visualisasi Boxplot untuk melihat distribusi data "
   ]
  },
  {
   "cell_type": "markdown",
   "id": "d0873169",
   "metadata": {},
   "source": [
    "#### **Data Outlier in Sales**\n",
    "\n",
    "Melihat persebaran data dalam kolom sales menggunakan bantuan Boxplot"
   ]
  },
  {
   "cell_type": "code",
   "execution_count": 23,
   "id": "6e093d92",
   "metadata": {},
   "outputs": [
    {
     "data": {
      "image/png": "[encoded data removed]",
      "text/plain": [
       "<Figure size 640x480 with 1 Axes>"
      ]
     },
     "metadata": {},
     "output_type": "display_data"
    }
   ],
   "source": [
    "# boxplot dari sales\n",
    "plt.boxplot(df['Sales'])\n",
    "plt.title('Total Sales Boxplot', size = 15)\n",
    "plt.xlabel('Sales')\n",
    "plt.ylabel('Value')\n",
    "plt.show()"
   ]
  },
  {
   "cell_type": "markdown",
   "id": "1514369b",
   "metadata": {},
   "source": [
    "**Insight** : Terdapat data outlier yang terlihat pada boxplot, namun tidak akan dihapus karena outlier masih relevan dengan analisis yang akan dilakukan. Outlier ini mungkin mencerminkan transaksi yang sangat besar, namun tetap penting untuk analisis bisnis."
   ]
  },
  {
   "cell_type": "markdown",
   "id": "4a8d0a67",
   "metadata": {},
   "source": [
    "#### **Data Outlier in Profit**\n",
    "\n",
    "Melihat persebaran data dalam kolom profit menggunakan bantuan Boxplot"
   ]
  },
  {
   "cell_type": "code",
   "execution_count": 24,
   "id": "d04af94b",
   "metadata": {},
   "outputs": [
    {
     "data": {
      "image/png": "[encoded data removed]",
      "text/plain": [
       "<Figure size 640x480 with 1 Axes>"
      ]
     },
     "metadata": {},
     "output_type": "display_data"
    }
   ],
   "source": [
    "plt.boxplot(df['Profit'])\n",
    "plt.title('Total Profit', size = 15)\n",
    "plt.xlabel('Profit')\n",
    "plt.ylabel('Value')\n",
    "plt.show()"
   ]
  },
  {
   "cell_type": "markdown",
   "id": "4a862d47",
   "metadata": {},
   "source": [
    "**Insight** : Terdapat data outlier yang terlihat pada boxplot, namun tidak akan dihapus karena outlier masih relevan dengan analisis yang akan dilakukan. Outlier ini mungkin mencerminkan transaksi yang sangat besar, namun tetap penting untuk analisis bisnis."
   ]
  },
  {
   "cell_type": "markdown",
   "id": "09ccf062",
   "metadata": {},
   "source": [
    "Berdasarkan visualisasi boxplot tersebut, dapat dilihat bahwa masing - masing kolom `Sales` dan `Profit` memiliki data yang diluar range IQR atau data outlier. Hal ini mungkin terjadi karena ada kemungkinan terjadinya transaksi dalam jumlah yang besar dikarenakan jenis transaksi penjualan SaaS ini menggunakan sistem B2b yang menghubungkan antara perusahaan dan perusahaan bukan perseorangan sehingga dapat dilakukan penjualan dalam jumlah yang besar."
   ]
  },
  {
   "cell_type": "markdown",
   "id": "e1dbf554",
   "metadata": {},
   "source": [
    "### **Checking Duplicate Data**\n",
    "\n",
    "Langkah selanjutnya adalah melakukan pengecekan terhadap duplikasi data pada setiap kolom dan melakukan perbaikan jika diperlukan. Hal ini penting untuk memastikan bahwa setiap data tidak mengalami kesalahan input dan akan memunculkan bias, namun harus diperhatikan / ditinjau terlebih dahulu apakah data tersebut merupakan memang merupakan kesalahan input pada salah satu kolom."
   ]
  },
  {
   "cell_type": "code",
   "execution_count": 25,
   "id": "79a8f28e",
   "metadata": {},
   "outputs": [
    {
     "name": "stdout",
     "output_type": "stream",
     "text": [
      "Tidak ditemukan data duplikat pada tabel\n",
      "Data duplikat sebanyak : 0\n"
     ]
    }
   ],
   "source": [
    "df_duplicate = df.duplicated().sum()\n",
    "\n",
    "if df_duplicate == 0:\n",
    "    print(f'Tidak ditemukan data duplikat pada tabel')\n",
    "    print(f'Data duplikat sebanyak : {df_duplicate}')\n",
    "else:\n",
    "    print(f'Jumlah duplikat pada tabel sebanyak : {df_duplicate}')"
   ]
  },
  {
   "cell_type": "markdown",
   "id": "61cfa79a",
   "metadata": {},
   "source": [
    "Dapat dilihat bahwa dalam dataset tidak memiliki data duplikat atau data yang sama persis, sehingga tidak perlu dilakukan penanganan/perbaikan lanjutan."
   ]
  },
  {
   "cell_type": "markdown",
   "id": "200963c9",
   "metadata": {},
   "source": [
    "## **Exploratory Data Analysis (EDA)**\n",
    "Proses selanjutnya adalah mengenal data lebih lanjut melalui hubungan antara masing - masing kolom sehingga dapat memahami lebih dalam sehingga mengetahui aspek mana yang perlu di analisis. Beberapa caranya adalah melihat dari distribusi maupun proporsi data."
   ]
  },
  {
   "cell_type": "markdown",
   "id": "22695abb",
   "metadata": {},
   "source": [
    "#### **Data Distribution in Sales**\n",
    "\n",
    "Melihat persebaran data dalam kolom sales menggunakan bantuan Histogram"
   ]
  },
  {
   "cell_type": "code",
   "execution_count": 26,
   "id": "bb868af0",
   "metadata": {},
   "outputs": [
    {
     "data": {
      "application/vnd.microsoft.datawrangler.viewer.v0+json": {
       "columns": [
        {
         "name": "index",
         "rawType": "object",
         "type": "string"
        },
        {
         "name": "Sales",
         "rawType": "float64",
         "type": "float"
        }
       ],
       "ref": "e1ff5810-9e9d-43a7-afda-7ce391f11eee",
       "rows": [
        [
         "count",
         "9994.0"
        ],
        [
         "mean",
         "229.85800083049827"
        ],
        [
         "std",
         "623.2451005086808"
        ],
        [
         "min",
         "0.444"
        ],
        [
         "25%",
         "17.28"
        ],
        [
         "50%",
         "54.489999999999995"
        ],
        [
         "75%",
         "209.94"
        ],
        [
         "max",
         "22638.48"
        ]
       ],
       "shape": {
        "columns": 1,
        "rows": 8
       }
      },
      "text/plain": [
       "count     9994.000000\n",
       "mean       229.858001\n",
       "std        623.245101\n",
       "min          0.444000\n",
       "25%         17.280000\n",
       "50%         54.490000\n",
       "75%        209.940000\n",
       "max      22638.480000\n",
       "Name: Sales, dtype: float64"
      ]
     },
     "execution_count": 26,
     "metadata": {},
     "output_type": "execute_result"
    }
   ],
   "source": [
    "df['Sales'].describe()"
   ]
  },
  {
   "cell_type": "code",
   "execution_count": 27,
   "id": "5e1ef03a",
   "metadata": {},
   "outputs": [
    {
     "data": {
      "image/png": "[encoded data removed]",
      "text/plain": [
       "<Figure size 640x480 with 1 Axes>"
      ]
     },
     "metadata": {},
     "output_type": "display_data"
    }
   ],
   "source": [
    "# Histogram untuk kolom Sales\n",
    "\n",
    "plt.hist(df['Sales'], bins=100, color='orange', edgecolor='black')\n",
    "plt.title('Sales Distribution', size=20)\n",
    "plt.xlabel('Sales')\n",
    "plt.ylabel('County')\n",
    "plt.grid()\n",
    "plt.show()\n"
   ]
  },
  {
   "cell_type": "markdown",
   "id": "7e7b6ac1",
   "metadata": {},
   "source": [
    "`Insight` : Terlihat distribusi penjualan (Sales) cenderung memiliki tumpang satu sisi (right skewed) sehingga dapat diketahui bahwa dalam data terdapat banyak variasi penjualan (sales kecil dalam jumlah banyak / sales besar dalam jumlah sedikit) yang dapat dipengaruhi oleh kebiasaan beli (behaviour) customer yang perlu dianalisis lebih lanjut. Perlu adanya analisis terkait aspek penjualan melalui LRFM analisis untuk memberikan gambaran lebih mendalam terkait pola beli customer."
   ]
  },
  {
   "cell_type": "markdown",
   "id": "48d0c9aa",
   "metadata": {},
   "source": [
    "#### **Data Distribution in Profit**\n",
    "\n",
    "Melihat persebaran data dalam kolom profit menggunakan bantuan Histogram"
   ]
  },
  {
   "cell_type": "code",
   "execution_count": 28,
   "id": "1e19235a",
   "metadata": {},
   "outputs": [
    {
     "data": {
      "image/png": "[encoded data removed]",
      "text/plain": [
       "<Figure size 640x480 with 1 Axes>"
      ]
     },
     "metadata": {},
     "output_type": "display_data"
    }
   ],
   "source": [
    "# Histogram untuk kolom Profit\n",
    "\n",
    "plt.hist(df['Profit'], bins=100, color='orange', edgecolor='black')\n",
    "plt.title('Profit Distribution', size=20)\n",
    "plt.xlabel('Profit')\n",
    "plt.ylabel('County')\n",
    "plt.grid()\n",
    "plt.show()"
   ]
  },
  {
   "cell_type": "markdown",
   "id": "2810f990",
   "metadata": {},
   "source": [
    "`Insight` : Dalam distribusi profit, dapat dilihat bahwa ada perbedaan antara distribusinya dibandingkan dengan Sales. Hal ini tentu saja bisa dipengaruhi oleh aspek lain yang mempengaruhinya, contohnya adalah diskon ataupun aspek yang diluar dari data."
   ]
  },
  {
   "cell_type": "markdown",
   "id": "e19723df",
   "metadata": {},
   "source": [
    "#### **Data Comparison in Region**\n",
    "\n",
    "Melihat persebaran data dalam kolom region menggunakan bantuan Barplot"
   ]
  },
  {
   "cell_type": "code",
   "execution_count": 29,
   "id": "bfd845f2",
   "metadata": {},
   "outputs": [
    {
     "name": "stderr",
     "output_type": "stream",
     "text": [
      "C:\\Users\\ardin\\AppData\\Local\\Temp\\ipykernel_12828\\1035439013.py:5: FutureWarning: \n",
      "\n",
      "Passing `palette` without assigning `hue` is deprecated and will be removed in v0.14.0. Assign the `x` variable to `hue` and set `legend=False` for the same effect.\n",
      "\n",
      "  ax = sns.countplot(x='Region', data=df, palette=['green', 'yellow', 'orange'])\n"
     ]
    },
    {
     "data": {
      "image/png": "[encoded data removed]",
      "text/plain": [
       "<Figure size 1000x600 with 1 Axes>"
      ]
     },
     "metadata": {},
     "output_type": "display_data"
    }
   ],
   "source": [
    "x = df['Region'].unique().tolist()\n",
    "y = df['Region'].value_counts().values\n",
    "\n",
    "plt.figure(figsize=(10,6))\n",
    "ax = sns.countplot(x='Region', data=df, palette=['green', 'yellow', 'orange'])\n",
    "for p in ax.patches:\n",
    "     ax.text(p.get_x() + p.get_width()/2., p.get_height(), int(p.get_height()),\n",
    "            ha='center', va='bottom')\n",
    "\n",
    "plt.title('Customer by Region', size = 15)\n",
    "plt.xlabel('Region')\n",
    "plt.ylabel('Count')\n",
    "plt.show()"
   ]
  },
  {
   "cell_type": "markdown",
   "id": "d7713a96",
   "metadata": {},
   "source": [
    "`Insight` : Jika dikelompokkan berdasarkan regionnya, ditemukan bahwa pengguna yang paling banyak menggunakan layanan berasal dari EMEA atau Eropa dibandingkan dengan region lainnya. Jika dibandingkan secara angka, maka region EMEA memiliki 15,11% lebih banyak pelanggan dari region AMER dan 99,95% lebih banyak dari region APJ"
   ]
  },
  {
   "cell_type": "markdown",
   "id": "ce2e6fe4",
   "metadata": {},
   "source": [
    "#### **Data Comparison in Industry**\n",
    "\n",
    "Melihat persebaran data dalam kolom Industry menggunakan bantuan Barplot"
   ]
  },
  {
   "cell_type": "code",
   "execution_count": 30,
   "id": "8f6e662f",
   "metadata": {},
   "outputs": [
    {
     "data": {
      "image/png": "[encoded data removed]",
      "text/plain": [
       "<Figure size 1000x600 with 1 Axes>"
      ]
     },
     "metadata": {},
     "output_type": "display_data"
    }
   ],
   "source": [
    "industry_counts = df['Industry'].value_counts().sort_values(ascending=True)\n",
    "y = industry_counts.index.tolist()\n",
    "x = industry_counts.values\n",
    "\n",
    "plt.figure(figsize=(10,6))\n",
    "bars = plt.barh(y, x, color='orange')\n",
    "\n",
    "for bar in bars:\n",
    "    width = bar.get_width()\n",
    "    plt.text(width + 0.5, bar.get_y() + bar.get_height()/2,\n",
    "             str(int(width)), va='center')\n",
    "\n",
    "plt.title('Customer by Industry', size = 15)\n",
    "plt.xlabel('Count')\n",
    "plt.ylabel('Industry')\n",
    "plt.show()"
   ]
  },
  {
   "cell_type": "markdown",
   "id": "6f924b72",
   "metadata": {},
   "source": [
    "`Insight` : Berdasarkan industri yang menggunakan jasa layanan, dapat dilihat bahwa industri Finance memiliki nilai pengguna yang paling banyak dengan jumlah 2127 pengguna dan diurutan terakhir yaitu Misc dengan jumlah 107 pengguna. "
   ]
  },
  {
   "cell_type": "markdown",
   "id": "023a4e62",
   "metadata": {},
   "source": [
    "#### **Data Comparison in Segment**\n",
    "\n",
    "Melihat persebaran data dalam kolom Segment menggunakan bantuan Barplot"
   ]
  },
  {
   "cell_type": "code",
   "execution_count": 31,
   "id": "add2e44d",
   "metadata": {},
   "outputs": [
    {
     "name": "stderr",
     "output_type": "stream",
     "text": [
      "C:\\Users\\ardin\\AppData\\Local\\Temp\\ipykernel_12828\\2208371204.py:5: FutureWarning: \n",
      "\n",
      "Passing `palette` without assigning `hue` is deprecated and will be removed in v0.14.0. Assign the `x` variable to `hue` and set `legend=False` for the same effect.\n",
      "\n",
      "  ax = sns.countplot(x='Segment', data=df, palette=['green', 'yellow', 'orange'])\n"
     ]
    },
    {
     "data": {
      "image/png": "[encoded data removed]",
      "text/plain": [
       "<Figure size 1000x600 with 1 Axes>"
      ]
     },
     "metadata": {},
     "output_type": "display_data"
    }
   ],
   "source": [
    "x = df['Segment'].unique().tolist()\n",
    "y = df['Segment'].value_counts().values\n",
    "\n",
    "plt.figure(figsize=(10,6))\n",
    "ax = sns.countplot(x='Segment', data=df, palette=['green', 'yellow', 'orange'])\n",
    "for p in ax.patches:\n",
    "     ax.text(p.get_x() + p.get_width()/2., p.get_height(), int(p.get_height()),\n",
    "            ha='center', va='bottom')\n",
    "\n",
    "plt.title('Customer by Segment', size = 15)\n",
    "plt.xlabel('Segment')\n",
    "plt.ylabel('Count')\n",
    "plt.show()"
   ]
  },
  {
   "cell_type": "markdown",
   "id": "be5a1804",
   "metadata": {},
   "source": [
    "`Insight` : Dari perbandingan berdasarkan segment bisnis yang menggunakan jasa layanan, dapat dilihat bahwa segment SMB memiliki angka yang signifikan jika dibandingkan dengan bagian lainnya. Hal ini menunjukkan bahwa dalam penjualan sudah sangat dipengaruhi oleh model bisnis Small, Middle Business (UMKM) yang nilai kontraknya cenderung kecil."
   ]
  },
  {
   "cell_type": "markdown",
   "id": "7ac7864f",
   "metadata": {},
   "source": [
    "#### **Data Comparison in Product**\n",
    "\n",
    "Melihat persebaran data dalam kolom Product menggunakan bantuan Barplot"
   ]
  },
  {
   "cell_type": "code",
   "execution_count": 32,
   "id": "fd8bf024",
   "metadata": {},
   "outputs": [
    {
     "data": {
      "image/png": "[encoded data removed]",
      "text/plain": [
       "<Figure size 1000x600 with 1 Axes>"
      ]
     },
     "metadata": {},
     "output_type": "display_data"
    }
   ],
   "source": [
    "industry_counts = df['Product'].value_counts().sort_values(ascending=True)\n",
    "y = industry_counts.index.tolist()\n",
    "x = industry_counts.values\n",
    "\n",
    "plt.figure(figsize=(10,6))\n",
    "bars = plt.barh(y, x, color='orange')\n",
    "\n",
    "for bar in bars:\n",
    "    width = bar.get_width()\n",
    "    plt.text(width + 0.5, bar.get_y() + bar.get_height()/2,\n",
    "             str(int(width)), va='center')\n",
    "\n",
    "plt.title('Customer by ProductProduct', size = 15)\n",
    "plt.xlabel('Count')\n",
    "plt.ylabel('Product')\n",
    "plt.show()"
   ]
  },
  {
   "cell_type": "markdown",
   "id": "b275879e",
   "metadata": {},
   "source": [
    "`Insight` : Berdasarkan jenis produk yang digunakan oleh pelanggan, jenis layanan yang paling signifikan digunakan adalah ContactMatcher, Support dan disusul dengan jenis layanan lainnya yang cenderung memiliki jumlah pengguna yang berdekatan. Hal ini dapat berkaitan dengan jenis industri yang menggunakan layanan dan kebutuhan mereka."
   ]
  },
  {
   "cell_type": "markdown",
   "id": "2df52dbd",
   "metadata": {},
   "source": [
    "#### **Correlation Sales vs Profit**\n",
    "\n",
    "Melihat hubungan antara sales dan profit menggunakan bantuan scatterplot"
   ]
  },
  {
   "cell_type": "code",
   "execution_count": 33,
   "id": "34edf970",
   "metadata": {},
   "outputs": [
    {
     "data": {
      "image/png": "[encoded data removed]",
      "text/plain": [
       "<Figure size 800x600 with 1 Axes>"
      ]
     },
     "metadata": {},
     "output_type": "display_data"
    }
   ],
   "source": [
    "plt.figure(figsize=(8,6))\n",
    "plt.scatter(df['Sales'], df['Profit'])\n",
    "plt.title('Sales vs Profit', size = 15)\n",
    "plt.xlabel('Sales')\n",
    "plt.ylabel('Profit')\n",
    "plt.show()\n"
   ]
  },
  {
   "cell_type": "markdown",
   "id": "99c395d9",
   "metadata": {},
   "source": [
    "`Insight` : Dapat dilihat berdasarkan hubungan Sales dan Profit melalui grafik/visualisasi diatas dapat dilihat bahwa sales tidak berbanding lurus terhadap profit. Hal ini bisa disebabkan oleh berbagai aspek yang mempengaruhi perhitungan profit, contohnya diskon, customer acquisition cost (CAC), strategi harga, biaya operasional dan support. Hal ini tentu saja akan sangat dianalisis karena keterbatasan dari data yang tersedia dimana hanya ada kolom diskon saja."
   ]
  },
  {
   "cell_type": "markdown",
   "id": "4fb9a810",
   "metadata": {},
   "source": [
    "#### **Average Sales per Region**\n",
    "\n",
    "Melihat perbandingan penjualan per Region menggunakan bantuan boxplot"
   ]
  },
  {
   "cell_type": "code",
   "execution_count": 34,
   "id": "2c5246f1",
   "metadata": {},
   "outputs": [
    {
     "name": "stderr",
     "output_type": "stream",
     "text": [
      "C:\\Users\\ardin\\AppData\\Local\\Temp\\ipykernel_12828\\1035652070.py:5: FutureWarning: \n",
      "\n",
      "Passing `palette` without assigning `hue` is deprecated and will be removed in v0.14.0. Assign the `x` variable to `hue` and set `legend=False` for the same effect.\n",
      "\n",
      "  ax = sns.barplot(x=region_sales.index, y=region_sales.values, palette=['green', 'yellow', 'orange'])\n"
     ]
    },
    {
     "data": {
      "image/png": "[encoded data removed]",
      "text/plain": [
       "<Figure size 1000x600 with 1 Axes>"
      ]
     },
     "metadata": {},
     "output_type": "display_data"
    }
   ],
   "source": [
    "# Calculate average sales per region\n",
    "region_sales = df.groupby('Region')['Sales'].mean().sort_values(ascending=False)\n",
    "\n",
    "plt.figure(figsize=(10,6))\n",
    "ax = sns.barplot(x=region_sales.index, y=region_sales.values, palette=['green', 'yellow', 'orange'])\n",
    "for p in ax.patches:\n",
    "    ax.text(p.get_x() + p.get_width()/2., p.get_height(), f'{p.get_height():.2f}',\n",
    "            ha='center', va='bottom')\n",
    "\n",
    "plt.title('Average Sales by Region', size = 15)\n",
    "plt.xlabel('Region')\n",
    "plt.ylabel('Average Sales')\n",
    "plt.show()"
   ]
  },
  {
   "cell_type": "markdown",
   "id": "f39a2035",
   "metadata": {},
   "source": [
    "`Insight` : Jika dibagi berdasarkan region, rata - rata nilai jual yang didapatkan dari penjualan memiliki nilai yang cukup berdekatan atau saling bersaing. Hal ini menunjukkan walaupun dalam jumlah pengguna yang tinggi pada suatu region belum tentu memiliki nilai sales yang tinggi juga jika dibandingkan dengan region lainnya."
   ]
  },
  {
   "cell_type": "markdown",
   "id": "9e712706",
   "metadata": {},
   "source": [
    "#### **Average Profit per Segmen**\n",
    "\n",
    "Melihat perbandingan keuntungan per Segmen menggunakan bantuan boxplot"
   ]
  },
  {
   "cell_type": "code",
   "execution_count": 35,
   "id": "cc30f537",
   "metadata": {},
   "outputs": [
    {
     "name": "stderr",
     "output_type": "stream",
     "text": [
      "C:\\Users\\ardin\\AppData\\Local\\Temp\\ipykernel_12828\\834582045.py:5: FutureWarning: \n",
      "\n",
      "Passing `palette` without assigning `hue` is deprecated and will be removed in v0.14.0. Assign the `x` variable to `hue` and set `legend=False` for the same effect.\n",
      "\n",
      "  ax = sns.barplot(x=segment_profit.index, y=segment_profit.values, palette=['green', 'yellow', 'orange'])\n"
     ]
    },
    {
     "data": {
      "image/png": "[encoded data removed]",
      "text/plain": [
       "<Figure size 1000x600 with 1 Axes>"
      ]
     },
     "metadata": {},
     "output_type": "display_data"
    }
   ],
   "source": [
    "# Calculate average profit per segmen\n",
    "segment_profit = df.groupby('Segment')['Profit'].mean().sort_values(ascending=False)\n",
    "\n",
    "plt.figure(figsize=(10,6))\n",
    "ax = sns.barplot(x=segment_profit.index, y=segment_profit.values, palette=['green', 'yellow', 'orange'])\n",
    "for p in ax.patches:\n",
    "    ax.text(p.get_x() + p.get_width()/2., p.get_height(), f'{p.get_height():.2f}',\n",
    "            ha='center', va='bottom')\n",
    "\n",
    "plt.title('Average Profit per Segment', size = 15)\n",
    "plt.xlabel('Segment')\n",
    "plt.ylabel('Average Profit')\n",
    "plt.show()"
   ]
  },
  {
   "cell_type": "markdown",
   "id": "afe5fa3f",
   "metadata": {},
   "source": [
    "`Insight` : Berdasarkan visualisasi diatas ditemukan bahwa berdasarkan keuntungan yang didapatkan, segment bisnis Enterprise memiliki nilai yang paling tinggi. Hal ini menarik karena jika dikaitkan dengan jumlah total customer pada setiap segmen, bahwa segmen SMB (UKM) dengan jumlah pelanggan yang sangat banyak memiliki pengaruh terhadap rata - rata profit yang kecil. Sedangkan pengguna Enterprise dengan urutan pengguna yang paling sedikit memberikan rata - rata profit yang paling banyak."
   ]
  },
  {
   "cell_type": "markdown",
   "id": "38cb02f2",
   "metadata": {},
   "source": [
    "## **Data Analysis by LRFM Segmentation**\n",
    "Proses selanjutnya adalah melakukan analisis data terhadap durasi pengguna, waktu terakhir pembelian, jumlah pembelian, total pembelian menggunakan metode LRFM Analysis untuk mengetahui tingkah laku pembelian layanan (customer behaviour) sehingga bisa memberikan pembagian kelompok terhadap customer dan menyusun strategi bisnis berdasarkan kelompok segmentasi. Setiap nilai perhitungan LRFM akan dihubungkan dengan kolom `Customer`"
   ]
  },
  {
   "cell_type": "markdown",
   "id": "f1878e79",
   "metadata": {},
   "source": [
    "#### **Calculate LRFM Value**"
   ]
  },
  {
   "cell_type": "markdown",
   "id": "4a910b5e",
   "metadata": {},
   "source": [
    "##### **Length and Recency Analysis**\n",
    "\n",
    "Perhitungan untuk setiap aspek sebagai berikut : \n",
    "\n",
    "- Length akan mengukur durasi lama pelanggan dari awal pembelian pertama sekali dan perusahaan.\n",
    "- Recency melihat lama durasi pelanggan terhadap transaksi terakhirnya. \n",
    "\n",
    "Disini menggunakan asumsi bahwa hari analisis diperoleh dari hari transaksi terakhir +1 bulan."
   ]
  },
  {
   "cell_type": "code",
   "execution_count": 36,
   "id": "6ecbf8ff",
   "metadata": {},
   "outputs": [
    {
     "name": "stdout",
     "output_type": "stream",
     "text": [
      "Waktu analisis diasumsikan dilakukan pada tanggal : 2024-01-30 00:00:00\n",
      "Dengan tanggal awal data analisis yang digunakan dari tanggal : 2023-12-31 00:00:00\n",
      "Dengan tanggal akhir data analisis yang digunakan dari tanggal : 2020-01-04 00:00:00\n",
      "Dengan durasi selama : 1457 days 00:00:00\n"
     ]
    }
   ],
   "source": [
    "import datetime\n",
    "\n",
    "# Rentang data yang digunakan\n",
    "start_date = df['Order Date'].max()\n",
    "end_date = df['Order Date'].min()\n",
    "duration_date = start_date - end_date\n",
    "\n",
    "# Asumsi waktu analisis dilakukan h+30 dari transaksi terakhir\n",
    "analysis_date = df['Order Date'].max() + datetime.timedelta(days=30)\n",
    "analysis_date\n",
    "\n",
    "print(f'Waktu analisis diasumsikan dilakukan pada tanggal : {analysis_date}')\n",
    "print(f'Dengan tanggal awal data analisis yang digunakan dari tanggal : {start_date}')\n",
    "print(f'Dengan tanggal akhir data analisis yang digunakan dari tanggal : {end_date}')\n",
    "print(f'Dengan durasi selama : {duration_date}')"
   ]
  },
  {
   "cell_type": "code",
   "execution_count": 37,
   "id": "70f2c740",
   "metadata": {},
   "outputs": [
    {
     "data": {
      "application/vnd.microsoft.datawrangler.viewer.v0+json": {
       "columns": [
        {
         "name": "Customer",
         "rawType": "object",
         "type": "string"
        },
        {
         "name": "length",
         "rawType": "int64",
         "type": "integer"
        },
        {
         "name": "recency",
         "rawType": "int64",
         "type": "integer"
        }
       ],
       "ref": "79ff9a7e-d48f-4edf-9743-bac102a71f9d",
       "rows": [
        [
         "Mondelez International",
         "1455",
         "32"
        ],
        [
         "General Electric",
         "1448",
         "35"
        ],
        [
         "Walgreens",
         "1448",
         "44"
        ],
        [
         "Boeing",
         "1460",
         "34"
        ],
        [
         "Walt Disney",
         "1398",
         "52"
        ],
        [
         "Sysco",
         "1438",
         "63"
        ],
        [
         "Nestle",
         "1483",
         "147"
        ],
        [
         "Glencore",
         "1403",
         "80"
        ],
        [
         "Anthem",
         "1477",
         "37"
        ],
        [
         "AT&T",
         "1420",
         "39"
        ]
       ],
       "shape": {
        "columns": 2,
        "rows": 10
       }
      },
      "text/html": [
       "<div>\n",
       "<style scoped>\n",
       "    .dataframe tbody tr th:only-of-type {\n",
       "        vertical-align: middle;\n",
       "    }\n",
       "\n",
       "    .dataframe tbody tr th {\n",
       "        vertical-align: top;\n",
       "    }\n",
       "\n",
       "    .dataframe thead th {\n",
       "        text-align: right;\n",
       "    }\n",
       "</style>\n",
       "<table border=\"1\" class=\"dataframe\">\n",
       "  <thead>\n",
       "    <tr style=\"text-align: right;\">\n",
       "      <th></th>\n",
       "      <th>length</th>\n",
       "      <th>recency</th>\n",
       "    </tr>\n",
       "    <tr>\n",
       "      <th>Customer</th>\n",
       "      <th></th>\n",
       "      <th></th>\n",
       "    </tr>\n",
       "  </thead>\n",
       "  <tbody>\n",
       "    <tr>\n",
       "      <th>Mondelez International</th>\n",
       "      <td>1455</td>\n",
       "      <td>32</td>\n",
       "    </tr>\n",
       "    <tr>\n",
       "      <th>General Electric</th>\n",
       "      <td>1448</td>\n",
       "      <td>35</td>\n",
       "    </tr>\n",
       "    <tr>\n",
       "      <th>Walgreens</th>\n",
       "      <td>1448</td>\n",
       "      <td>44</td>\n",
       "    </tr>\n",
       "    <tr>\n",
       "      <th>Boeing</th>\n",
       "      <td>1460</td>\n",
       "      <td>34</td>\n",
       "    </tr>\n",
       "    <tr>\n",
       "      <th>Walt Disney</th>\n",
       "      <td>1398</td>\n",
       "      <td>52</td>\n",
       "    </tr>\n",
       "    <tr>\n",
       "      <th>Sysco</th>\n",
       "      <td>1438</td>\n",
       "      <td>63</td>\n",
       "    </tr>\n",
       "    <tr>\n",
       "      <th>Nestle</th>\n",
       "      <td>1483</td>\n",
       "      <td>147</td>\n",
       "    </tr>\n",
       "    <tr>\n",
       "      <th>Glencore</th>\n",
       "      <td>1403</td>\n",
       "      <td>80</td>\n",
       "    </tr>\n",
       "    <tr>\n",
       "      <th>Anthem</th>\n",
       "      <td>1477</td>\n",
       "      <td>37</td>\n",
       "    </tr>\n",
       "    <tr>\n",
       "      <th>AT&amp;T</th>\n",
       "      <td>1420</td>\n",
       "      <td>39</td>\n",
       "    </tr>\n",
       "  </tbody>\n",
       "</table>\n",
       "</div>"
      ],
      "text/plain": [
       "                        length  recency\n",
       "Customer                               \n",
       "Mondelez International    1455       32\n",
       "General Electric          1448       35\n",
       "Walgreens                 1448       44\n",
       "Boeing                    1460       34\n",
       "Walt Disney               1398       52\n",
       "Sysco                     1438       63\n",
       "Nestle                    1483      147\n",
       "Glencore                  1403       80\n",
       "Anthem                    1477       37\n",
       "AT&T                      1420       39"
      ]
     },
     "execution_count": 37,
     "metadata": {},
     "output_type": "execute_result"
    }
   ],
   "source": [
    "##### **Length and Recency Calculation**\n",
    "\n",
    "df_length_recency = df.groupby('Customer').agg(\n",
    "    length=('Order Date', lambda x: (analysis_date - x.min()).days),\n",
    "    recency=('Order Date', lambda x: (analysis_date - x.max()).days),\n",
    ")\n",
    "\n",
    "df_length_recency.sample(10, random_state=42)"
   ]
  },
  {
   "cell_type": "markdown",
   "id": "18a97ed9",
   "metadata": {},
   "source": [
    "Dari segi **Length** (lama menjadi pelanggan), dapat terlihat bahwa customer Mondelez International memiliki length yang cukup tinggi, yaitu 1455 hari sedangkan customer Nestle baru bergabung selama 1483 hari. Dari segi recency, dapat dilihat bahwa customer Mondelez International memiliki recency yang tergolong kecil yaitu 32 hari, sedangkan customer Nestle memiliki nilai recency yang cukup besar yaitu 147 hari, artinya customer ini sudah lama tidak bertransaksi lagi. \n",
    "\n",
    "Dapat dilihat bahwa terdapat 2 kondisi yang berbeda oleh tiap pengguna layanan tersebut, sehingga analisis LRFM dapat membantu dalam membagi kelompok pengguna yang dapat berguna untuk strategi penjualan perusahaan."
   ]
  },
  {
   "cell_type": "markdown",
   "id": "ac57ebe9",
   "metadata": {},
   "source": [
    "##### **Frequency Analysis**\n",
    "\n",
    "Tujuannya ingin mengetahui seberapa sering customer melakukan transaksi selama menjadi pelanggan yang dilihat dari jumlah pemesanan.\n",
    "\n",
    "Perhitungan untuk setiap aspek sebagai berikut : \n",
    "\n",
    "- Total banyaknya pengguna / perusahaan menggunakan layanan selama menjadi pelanggan yang dilihat dari jumlah pesanan Order ID\n",
    "\n",
    "Disini kolom Order ID akan dikaitkan dengan kolom Customer"
   ]
  },
  {
   "cell_type": "code",
   "execution_count": 38,
   "id": "591899b0",
   "metadata": {},
   "outputs": [
    {
     "name": "stdout",
     "output_type": "stream",
     "text": [
      "<class 'pandas.core.frame.DataFrame'>\n",
      "RangeIndex: 9994 entries, 0 to 9993\n",
      "Data columns (total 16 columns):\n",
      " #   Column       Non-Null Count  Dtype         \n",
      "---  ------       --------------  -----         \n",
      " 0   Order ID     9994 non-null   object        \n",
      " 1   Order Date   9994 non-null   datetime64[ns]\n",
      " 2   Country      9994 non-null   object        \n",
      " 3   City         9994 non-null   object        \n",
      " 4   Region       9994 non-null   object        \n",
      " 5   Subregion    9994 non-null   object        \n",
      " 6   Customer     9994 non-null   object        \n",
      " 7   Customer ID  9994 non-null   object        \n",
      " 8   Industry     9994 non-null   object        \n",
      " 9   Segment      9994 non-null   object        \n",
      " 10  Product      9994 non-null   object        \n",
      " 11  License      9994 non-null   object        \n",
      " 12  Sales        9994 non-null   float64       \n",
      " 13  Quantity     9994 non-null   int64         \n",
      " 14  Discount     9994 non-null   float64       \n",
      " 15  Profit       9994 non-null   float64       \n",
      "dtypes: datetime64[ns](1), float64(3), int64(1), object(11)\n",
      "memory usage: 1.2+ MB\n"
     ]
    }
   ],
   "source": [
    "df.info()"
   ]
  },
  {
   "cell_type": "code",
   "execution_count": 39,
   "id": "6b8f139c",
   "metadata": {},
   "outputs": [
    {
     "data": {
      "application/vnd.microsoft.datawrangler.viewer.v0+json": {
       "columns": [
        {
         "name": "Customer",
         "rawType": "object",
         "type": "string"
        },
        {
         "name": "frequency",
         "rawType": "int64",
         "type": "integer"
        }
       ],
       "ref": "bb2de247-2fba-4e74-a303-2a81a1543678",
       "rows": [
        [
         "Mondelez International",
         "61"
        ],
        [
         "General Electric",
         "22"
        ],
        [
         "Walgreens",
         "33"
        ],
        [
         "Boeing",
         "49"
        ],
        [
         "Walt Disney",
         "53"
        ]
       ],
       "shape": {
        "columns": 1,
        "rows": 5
       }
      },
      "text/html": [
       "<div>\n",
       "<style scoped>\n",
       "    .dataframe tbody tr th:only-of-type {\n",
       "        vertical-align: middle;\n",
       "    }\n",
       "\n",
       "    .dataframe tbody tr th {\n",
       "        vertical-align: top;\n",
       "    }\n",
       "\n",
       "    .dataframe thead th {\n",
       "        text-align: right;\n",
       "    }\n",
       "</style>\n",
       "<table border=\"1\" class=\"dataframe\">\n",
       "  <thead>\n",
       "    <tr style=\"text-align: right;\">\n",
       "      <th></th>\n",
       "      <th>frequency</th>\n",
       "    </tr>\n",
       "    <tr>\n",
       "      <th>Customer</th>\n",
       "      <th></th>\n",
       "    </tr>\n",
       "  </thead>\n",
       "  <tbody>\n",
       "    <tr>\n",
       "      <th>Mondelez International</th>\n",
       "      <td>61</td>\n",
       "    </tr>\n",
       "    <tr>\n",
       "      <th>General Electric</th>\n",
       "      <td>22</td>\n",
       "    </tr>\n",
       "    <tr>\n",
       "      <th>Walgreens</th>\n",
       "      <td>33</td>\n",
       "    </tr>\n",
       "    <tr>\n",
       "      <th>Boeing</th>\n",
       "      <td>49</td>\n",
       "    </tr>\n",
       "    <tr>\n",
       "      <th>Walt Disney</th>\n",
       "      <td>53</td>\n",
       "    </tr>\n",
       "  </tbody>\n",
       "</table>\n",
       "</div>"
      ],
      "text/plain": [
       "                        frequency\n",
       "Customer                         \n",
       "Mondelez International         61\n",
       "General Electric               22\n",
       "Walgreens                      33\n",
       "Boeing                         49\n",
       "Walt Disney                    53"
      ]
     },
     "execution_count": 39,
     "metadata": {},
     "output_type": "execute_result"
    }
   ],
   "source": [
    "# Perhitungan banyaknya jumlah pembelian layanan berdasarkan kolom Order ID\n",
    "df_frequency = df.groupby('Customer').agg(\n",
    "    frequency=('Order ID', lambda x: x.nunique())\n",
    ")\n",
    "\n",
    "df_frequency.sample(5, random_state=42)"
   ]
  },
  {
   "cell_type": "markdown",
   "id": "dfe84503",
   "metadata": {},
   "source": [
    "Kita mengetahui bahwa customer Mondelez International sudah lama menjadi pelanggan dan frekuensinya juga cukup banyak melakukan transaksi sebanyak 61 kali pemesanan. Sedangkan jika dibandingkan customer General Electric yang sudah lama juga menjadi pelanggan, frekuensinya termasuk sedikit melakukan transaksi sebanyak 22 kali."
   ]
  },
  {
   "cell_type": "markdown",
   "id": "0237de24",
   "metadata": {},
   "source": [
    "##### **Monetary Analysis**\n",
    "\n",
    "Tujuannya ingin mengetahui jumlah keuntungan (sales) yang dihasilkan selama pengguna menggunakan layanan.\n",
    "\n",
    "Perhitungan untuk setiap aspek sebagai berikut : \n",
    "\n",
    "- Total banyaknya keuntungan pengguna / perusahaan menggunakan layanan selama menjadi pelanggan yang dilihat dari jumlah Profit\n",
    "\n",
    "Perhitungan monetary menggunakan kolom `Profit` karena tujuannya ingin mengetahui pelanggan yang paling menguntungkan, bukan hanya volume penjualannya saja sehingga dapat dilakukan penyusunan strategi terkait efisiensi, profitabilitas."
   ]
  },
  {
   "cell_type": "code",
   "execution_count": 40,
   "id": "0d4113a1",
   "metadata": {},
   "outputs": [
    {
     "data": {
      "application/vnd.microsoft.datawrangler.viewer.v0+json": {
       "columns": [
        {
         "name": "Customer",
         "rawType": "object",
         "type": "string"
        },
        {
         "name": "monetary",
         "rawType": "float64",
         "type": "float"
        }
       ],
       "ref": "5f3ad97c-33be-4a87-a278-3664c76e5f7f",
       "rows": [
        [
         "Mondelez International",
         "8577.652399999999"
        ],
        [
         "General Electric",
         "687.1512"
        ],
        [
         "Walgreens",
         "-740.6747"
        ],
        [
         "Boeing",
         "666.5414"
        ],
        [
         "Walt Disney",
         "5786.8297"
        ]
       ],
       "shape": {
        "columns": 1,
        "rows": 5
       }
      },
      "text/html": [
       "<div>\n",
       "<style scoped>\n",
       "    .dataframe tbody tr th:only-of-type {\n",
       "        vertical-align: middle;\n",
       "    }\n",
       "\n",
       "    .dataframe tbody tr th {\n",
       "        vertical-align: top;\n",
       "    }\n",
       "\n",
       "    .dataframe thead th {\n",
       "        text-align: right;\n",
       "    }\n",
       "</style>\n",
       "<table border=\"1\" class=\"dataframe\">\n",
       "  <thead>\n",
       "    <tr style=\"text-align: right;\">\n",
       "      <th></th>\n",
       "      <th>monetary</th>\n",
       "    </tr>\n",
       "    <tr>\n",
       "      <th>Customer</th>\n",
       "      <th></th>\n",
       "    </tr>\n",
       "  </thead>\n",
       "  <tbody>\n",
       "    <tr>\n",
       "      <th>Mondelez International</th>\n",
       "      <td>8577.6524</td>\n",
       "    </tr>\n",
       "    <tr>\n",
       "      <th>General Electric</th>\n",
       "      <td>687.1512</td>\n",
       "    </tr>\n",
       "    <tr>\n",
       "      <th>Walgreens</th>\n",
       "      <td>-740.6747</td>\n",
       "    </tr>\n",
       "    <tr>\n",
       "      <th>Boeing</th>\n",
       "      <td>666.5414</td>\n",
       "    </tr>\n",
       "    <tr>\n",
       "      <th>Walt Disney</th>\n",
       "      <td>5786.8297</td>\n",
       "    </tr>\n",
       "  </tbody>\n",
       "</table>\n",
       "</div>"
      ],
      "text/plain": [
       "                         monetary\n",
       "Customer                         \n",
       "Mondelez International  8577.6524\n",
       "General Electric         687.1512\n",
       "Walgreens               -740.6747\n",
       "Boeing                   666.5414\n",
       "Walt Disney             5786.8297"
      ]
     },
     "execution_count": 40,
     "metadata": {},
     "output_type": "execute_result"
    }
   ],
   "source": [
    "# Perhitungan jumlah profit masing - masing customer \n",
    "df_monetary = df.groupby('Customer').agg(\n",
    "    monetary=('Profit', 'sum'),\n",
    ")\n",
    "\n",
    "df_monetary.sample(5, random_state=42)"
   ]
  },
  {
   "cell_type": "markdown",
   "id": "bcf82f4a",
   "metadata": {},
   "source": [
    "Dapat dilihat bahwa customer Mondelez International telah memberikan profit sebesar 8577 dollar dari 61 kali transaksi yang dilakukan. Sedangkan customer Walgreens memberikan profit yang negatif, artinya bahwa dari penjualan malah menghasilkan kerugian sebesar 740.67 dollar. Hal ini bisa dipengaruhi oleh banyak hal, salah satunya adalah nilai diskon yang terlalu besar. Namun untuk lebih jelasnya perlu dilakukan analisis berbeda untuk mengetahui penyebabnya."
   ]
  },
  {
   "cell_type": "markdown",
   "id": "9ec39433",
   "metadata": {},
   "source": [
    "Langkah selanjutnya adalah menggabungkan tiap tabel Length, Recency, Frequency, dan Monetary menjadi satu tabel yang sama sehingga memudahkan dalam memberikan skor dan mengelompokkannya."
   ]
  },
  {
   "cell_type": "code",
   "execution_count": 41,
   "id": "13274b82",
   "metadata": {},
   "outputs": [
    {
     "data": {
      "application/vnd.microsoft.datawrangler.viewer.v0+json": {
       "columns": [
        {
         "name": "Customer",
         "rawType": "object",
         "type": "string"
        },
        {
         "name": "length",
         "rawType": "int64",
         "type": "integer"
        },
        {
         "name": "recency",
         "rawType": "int64",
         "type": "integer"
        },
        {
         "name": "frequency",
         "rawType": "int64",
         "type": "integer"
        },
        {
         "name": "monetary",
         "rawType": "float64",
         "type": "float"
        }
       ],
       "ref": "c982f284-4e5b-4373-9da3-dc015cb607ab",
       "rows": [
        [
         "Siemens",
         "1487",
         "73",
         "86",
         "6519.51"
        ],
        [
         "Walgreens",
         "1448",
         "44",
         "33",
         "-740.67"
        ],
        [
         "Allstate",
         "1441",
         "31",
         "61",
         "-2796.29"
        ],
        [
         "Boeing",
         "1460",
         "34",
         "49",
         "666.54"
        ],
        [
         "Humana",
         "1365",
         "35",
         "37",
         "2581.92"
        ],
        [
         "CVS Health",
         "1486",
         "46",
         "61",
         "4181.26"
        ],
        [
         "Gazprom",
         "1270",
         "73",
         "23",
         "-13.97"
        ],
        [
         "UnitedHealth Group",
         "1445",
         "32",
         "57",
         "4876.58"
        ],
        [
         "Engie",
         "1472",
         "57",
         "54",
         "1159.38"
        ],
        [
         "Enel",
         "1444",
         "35",
         "41",
         "1001.47"
        ],
        [
         "Coca-Cola",
         "1432",
         "39",
         "38",
         "9449.02"
        ],
        [
         "Itochu",
         "1451",
         "32",
         "69",
         "1690.48"
        ],
        [
         "J.P. Morgan Chase & Co.",
         "1352",
         "36",
         "54",
         "1752.52"
        ],
        [
         "Procter & Gamble",
         "1406",
         "43",
         "30",
         "2157.4"
        ],
        [
         "Pfizer",
         "1364",
         "34",
         "47",
         "1037.14"
        ]
       ],
       "shape": {
        "columns": 4,
        "rows": 15
       }
      },
      "text/html": [
       "<div>\n",
       "<style scoped>\n",
       "    .dataframe tbody tr th:only-of-type {\n",
       "        vertical-align: middle;\n",
       "    }\n",
       "\n",
       "    .dataframe tbody tr th {\n",
       "        vertical-align: top;\n",
       "    }\n",
       "\n",
       "    .dataframe thead th {\n",
       "        text-align: right;\n",
       "    }\n",
       "</style>\n",
       "<table border=\"1\" class=\"dataframe\">\n",
       "  <thead>\n",
       "    <tr style=\"text-align: right;\">\n",
       "      <th></th>\n",
       "      <th>length</th>\n",
       "      <th>recency</th>\n",
       "      <th>frequency</th>\n",
       "      <th>monetary</th>\n",
       "    </tr>\n",
       "    <tr>\n",
       "      <th>Customer</th>\n",
       "      <th></th>\n",
       "      <th></th>\n",
       "      <th></th>\n",
       "      <th></th>\n",
       "    </tr>\n",
       "  </thead>\n",
       "  <tbody>\n",
       "    <tr>\n",
       "      <th>Siemens</th>\n",
       "      <td>1487</td>\n",
       "      <td>73</td>\n",
       "      <td>86</td>\n",
       "      <td>6519.51</td>\n",
       "    </tr>\n",
       "    <tr>\n",
       "      <th>Walgreens</th>\n",
       "      <td>1448</td>\n",
       "      <td>44</td>\n",
       "      <td>33</td>\n",
       "      <td>-740.67</td>\n",
       "    </tr>\n",
       "    <tr>\n",
       "      <th>Allstate</th>\n",
       "      <td>1441</td>\n",
       "      <td>31</td>\n",
       "      <td>61</td>\n",
       "      <td>-2796.29</td>\n",
       "    </tr>\n",
       "    <tr>\n",
       "      <th>Boeing</th>\n",
       "      <td>1460</td>\n",
       "      <td>34</td>\n",
       "      <td>49</td>\n",
       "      <td>666.54</td>\n",
       "    </tr>\n",
       "    <tr>\n",
       "      <th>Humana</th>\n",
       "      <td>1365</td>\n",
       "      <td>35</td>\n",
       "      <td>37</td>\n",
       "      <td>2581.92</td>\n",
       "    </tr>\n",
       "    <tr>\n",
       "      <th>CVS Health</th>\n",
       "      <td>1486</td>\n",
       "      <td>46</td>\n",
       "      <td>61</td>\n",
       "      <td>4181.26</td>\n",
       "    </tr>\n",
       "    <tr>\n",
       "      <th>Gazprom</th>\n",
       "      <td>1270</td>\n",
       "      <td>73</td>\n",
       "      <td>23</td>\n",
       "      <td>-13.97</td>\n",
       "    </tr>\n",
       "    <tr>\n",
       "      <th>UnitedHealth Group</th>\n",
       "      <td>1445</td>\n",
       "      <td>32</td>\n",
       "      <td>57</td>\n",
       "      <td>4876.58</td>\n",
       "    </tr>\n",
       "    <tr>\n",
       "      <th>Engie</th>\n",
       "      <td>1472</td>\n",
       "      <td>57</td>\n",
       "      <td>54</td>\n",
       "      <td>1159.38</td>\n",
       "    </tr>\n",
       "    <tr>\n",
       "      <th>Enel</th>\n",
       "      <td>1444</td>\n",
       "      <td>35</td>\n",
       "      <td>41</td>\n",
       "      <td>1001.47</td>\n",
       "    </tr>\n",
       "    <tr>\n",
       "      <th>Coca-Cola</th>\n",
       "      <td>1432</td>\n",
       "      <td>39</td>\n",
       "      <td>38</td>\n",
       "      <td>9449.02</td>\n",
       "    </tr>\n",
       "    <tr>\n",
       "      <th>Itochu</th>\n",
       "      <td>1451</td>\n",
       "      <td>32</td>\n",
       "      <td>69</td>\n",
       "      <td>1690.48</td>\n",
       "    </tr>\n",
       "    <tr>\n",
       "      <th>J.P. Morgan Chase &amp; Co.</th>\n",
       "      <td>1352</td>\n",
       "      <td>36</td>\n",
       "      <td>54</td>\n",
       "      <td>1752.52</td>\n",
       "    </tr>\n",
       "    <tr>\n",
       "      <th>Procter &amp; Gamble</th>\n",
       "      <td>1406</td>\n",
       "      <td>43</td>\n",
       "      <td>30</td>\n",
       "      <td>2157.40</td>\n",
       "    </tr>\n",
       "    <tr>\n",
       "      <th>Pfizer</th>\n",
       "      <td>1364</td>\n",
       "      <td>34</td>\n",
       "      <td>47</td>\n",
       "      <td>1037.14</td>\n",
       "    </tr>\n",
       "  </tbody>\n",
       "</table>\n",
       "</div>"
      ],
      "text/plain": [
       "                         length  recency  frequency  monetary\n",
       "Customer                                                     \n",
       "Siemens                    1487       73         86   6519.51\n",
       "Walgreens                  1448       44         33   -740.67\n",
       "Allstate                   1441       31         61  -2796.29\n",
       "Boeing                     1460       34         49    666.54\n",
       "Humana                     1365       35         37   2581.92\n",
       "CVS Health                 1486       46         61   4181.26\n",
       "Gazprom                    1270       73         23    -13.97\n",
       "UnitedHealth Group         1445       32         57   4876.58\n",
       "Engie                      1472       57         54   1159.38\n",
       "Enel                       1444       35         41   1001.47\n",
       "Coca-Cola                  1432       39         38   9449.02\n",
       "Itochu                     1451       32         69   1690.48\n",
       "J.P. Morgan Chase & Co.    1352       36         54   1752.52\n",
       "Procter & Gamble           1406       43         30   2157.40\n",
       "Pfizer                     1364       34         47   1037.14"
      ]
     },
     "execution_count": 41,
     "metadata": {},
     "output_type": "execute_result"
    }
   ],
   "source": [
    "# Penggabungan setiap tabel LRFM\n",
    "df_customer = pd.concat([df_length_recency, df_frequency, df_monetary], axis=1, join='inner')\n",
    "df_customer = df_customer.round({'monetary': 2})\n",
    "df_customer.sample(15)"
   ]
  },
  {
   "cell_type": "code",
   "execution_count": 42,
   "id": "31466de3",
   "metadata": {},
   "outputs": [
    {
     "data": {
      "application/vnd.microsoft.datawrangler.viewer.v0+json": {
       "columns": [
        {
         "name": "index",
         "rawType": "object",
         "type": "string"
        },
        {
         "name": "length",
         "rawType": "float64",
         "type": "float"
        },
        {
         "name": "recency",
         "rawType": "float64",
         "type": "float"
        },
        {
         "name": "frequency",
         "rawType": "float64",
         "type": "float"
        },
        {
         "name": "monetary",
         "rawType": "float64",
         "type": "float"
        }
       ],
       "ref": "9472b4de-71dd-4a1a-ae0d-0fa3afdbbfdb",
       "rows": [
        [
         "count",
         "99.0",
         "99.0",
         "99.0",
         "99.0"
        ],
        [
         "mean",
         "1416.858585858586",
         "49.343434343434346",
         "50.5959595959596",
         "2892.899393939395"
        ],
        [
         "std",
         "57.57373446303978",
         "30.589834784885053",
         "17.537667445442175",
         "2473.043424993526"
        ],
        [
         "min",
         "1228.0",
         "30.0",
         "13.0",
         "-2796.29"
        ],
        [
         "25%",
         "1395.0",
         "34.5",
         "38.5",
         "1183.345"
        ],
        [
         "50%",
         "1428.0",
         "39.0",
         "52.0",
         "2579.16"
        ],
        [
         "75%",
         "1462.5",
         "52.0",
         "60.0",
         "4483.24"
        ],
        [
         "max",
         "1487.0",
         "269.0",
         "103.0",
         "10308.63"
        ]
       ],
       "shape": {
        "columns": 4,
        "rows": 8
       }
      },
      "text/html": [
       "<div>\n",
       "<style scoped>\n",
       "    .dataframe tbody tr th:only-of-type {\n",
       "        vertical-align: middle;\n",
       "    }\n",
       "\n",
       "    .dataframe tbody tr th {\n",
       "        vertical-align: top;\n",
       "    }\n",
       "\n",
       "    .dataframe thead th {\n",
       "        text-align: right;\n",
       "    }\n",
       "</style>\n",
       "<table border=\"1\" class=\"dataframe\">\n",
       "  <thead>\n",
       "    <tr style=\"text-align: right;\">\n",
       "      <th></th>\n",
       "      <th>length</th>\n",
       "      <th>recency</th>\n",
       "      <th>frequency</th>\n",
       "      <th>monetary</th>\n",
       "    </tr>\n",
       "  </thead>\n",
       "  <tbody>\n",
       "    <tr>\n",
       "      <th>count</th>\n",
       "      <td>99.000000</td>\n",
       "      <td>99.000000</td>\n",
       "      <td>99.000000</td>\n",
       "      <td>99.000000</td>\n",
       "    </tr>\n",
       "    <tr>\n",
       "      <th>mean</th>\n",
       "      <td>1416.858586</td>\n",
       "      <td>49.343434</td>\n",
       "      <td>50.595960</td>\n",
       "      <td>2892.899394</td>\n",
       "    </tr>\n",
       "    <tr>\n",
       "      <th>std</th>\n",
       "      <td>57.573734</td>\n",
       "      <td>30.589835</td>\n",
       "      <td>17.537667</td>\n",
       "      <td>2473.043425</td>\n",
       "    </tr>\n",
       "    <tr>\n",
       "      <th>min</th>\n",
       "      <td>1228.000000</td>\n",
       "      <td>30.000000</td>\n",
       "      <td>13.000000</td>\n",
       "      <td>-2796.290000</td>\n",
       "    </tr>\n",
       "    <tr>\n",
       "      <th>25%</th>\n",
       "      <td>1395.000000</td>\n",
       "      <td>34.500000</td>\n",
       "      <td>38.500000</td>\n",
       "      <td>1183.345000</td>\n",
       "    </tr>\n",
       "    <tr>\n",
       "      <th>50%</th>\n",
       "      <td>1428.000000</td>\n",
       "      <td>39.000000</td>\n",
       "      <td>52.000000</td>\n",
       "      <td>2579.160000</td>\n",
       "    </tr>\n",
       "    <tr>\n",
       "      <th>75%</th>\n",
       "      <td>1462.500000</td>\n",
       "      <td>52.000000</td>\n",
       "      <td>60.000000</td>\n",
       "      <td>4483.240000</td>\n",
       "    </tr>\n",
       "    <tr>\n",
       "      <th>max</th>\n",
       "      <td>1487.000000</td>\n",
       "      <td>269.000000</td>\n",
       "      <td>103.000000</td>\n",
       "      <td>10308.630000</td>\n",
       "    </tr>\n",
       "  </tbody>\n",
       "</table>\n",
       "</div>"
      ],
      "text/plain": [
       "            length     recency   frequency      monetary\n",
       "count    99.000000   99.000000   99.000000     99.000000\n",
       "mean   1416.858586   49.343434   50.595960   2892.899394\n",
       "std      57.573734   30.589835   17.537667   2473.043425\n",
       "min    1228.000000   30.000000   13.000000  -2796.290000\n",
       "25%    1395.000000   34.500000   38.500000   1183.345000\n",
       "50%    1428.000000   39.000000   52.000000   2579.160000\n",
       "75%    1462.500000   52.000000   60.000000   4483.240000\n",
       "max    1487.000000  269.000000  103.000000  10308.630000"
      ]
     },
     "execution_count": 42,
     "metadata": {},
     "output_type": "execute_result"
    }
   ],
   "source": [
    "df_customer.describe()"
   ]
  },
  {
   "cell_type": "markdown",
   "id": "4f71df85",
   "metadata": {},
   "source": [
    "#### **Assigning Score**\n",
    "\n",
    "Dalam penentuan skor, kita akan menggunakan aturan sebagai berikut : \n",
    "\n",
    "- Ruled Based : *Recency*\n",
    "- Statistical Approach : *Length*, *Frequency*, *Monetary*\n",
    "\n",
    "Recency menggunakan sistem ruled based karena asumsi pembelian layanan merupakan subscription based yaitu per bulan/per tahun dengan menggunakan asumsi bulanan. Untuk pembagian sistem skor nya akan dijelaskan lebih lanjut pada masing - masing bagian."
   ]
  },
  {
   "cell_type": "markdown",
   "id": "4401a0cf",
   "metadata": {},
   "source": [
    "##### **Length Segmentation**"
   ]
  },
  {
   "cell_type": "code",
   "execution_count": 43,
   "id": "d4e1e29e",
   "metadata": {},
   "outputs": [
    {
     "data": {
      "image/png": "[encoded data removed]",
      "text/plain": [
       "<Figure size 750x500 with 2 Axes>"
      ]
     },
     "metadata": {},
     "output_type": "display_data"
    },
    {
     "data": {
      "application/vnd.microsoft.datawrangler.viewer.v0+json": {
       "columns": [
        {
         "name": "index",
         "rawType": "float64",
         "type": "float"
        },
        {
         "name": "length",
         "rawType": "float64",
         "type": "float"
        }
       ],
       "ref": "4811e2ce-3fe0-45ad-ac08-eaf948abbb26",
       "rows": [
        [
         "0.0",
         "1228.0"
        ],
        [
         "0.25",
         "1395.0"
        ],
        [
         "0.5",
         "1428.0"
        ],
        [
         "0.75",
         "1462.5"
        ],
        [
         "1.0",
         "1487.0"
        ]
       ],
       "shape": {
        "columns": 1,
        "rows": 5
       }
      },
      "text/plain": [
       "0.00    1228.0\n",
       "0.25    1395.0\n",
       "0.50    1428.0\n",
       "0.75    1462.5\n",
       "1.00    1487.0\n",
       "Name: length, dtype: float64"
      ]
     },
     "metadata": {},
     "output_type": "display_data"
    }
   ],
   "source": [
    "fig, (ax_top, ax_bot) = plt.subplots(\n",
    "                            nrows=2, \n",
    "                            ncols=1, \n",
    "                            figsize=(7.5, 5),\n",
    "                            gridspec_kw={\n",
    "                                'height_ratios': (0.15, 0.85),\n",
    "                                'hspace': 0.05\n",
    "                            }\n",
    "                        )\n",
    "\n",
    "sns.boxplot(data=df_customer, x='length', ax=ax_top)\n",
    "sns.histplot(data=df_customer, x='length', ax=ax_bot)\n",
    "\n",
    "ax_top.set(\n",
    "    title='Days Since First Purchase'\n",
    ")\n",
    "\n",
    "plt.show()\n",
    "display(df_customer['length'].quantile([0, 0.25, 0.5, 0.75, 1]))\n"
   ]
  },
  {
   "cell_type": "markdown",
   "id": "ddf7dc2b",
   "metadata": {},
   "source": [
    "Data distribusi durasi pelanggan tersebut termasuk dalam rentang yang cukup banyak dengan batas.\n",
    "\n",
    "Berdasarkan distribusi di atas, kita akan kelompokkan customer berdasarkan length-nya ke dalam 4 kelompok yaitu :\n",
    "- 4 (Strategic) : telah bergabung lebih dari 1463 hari\n",
    "- 3 (Loyal) : telah bergabung antara 1429 hingga 1462 hari terakhir\n",
    "- 2 (Retained) : telah bergabung antara 1396 hingga 1428 hari terakhir\n",
    "- 1 (Developing) : baru bergabung antara 1 hingga 1395 hari terakhir"
   ]
  },
  {
   "cell_type": "code",
   "execution_count": 44,
   "id": "08be3c1a",
   "metadata": {},
   "outputs": [
    {
     "data": {
      "application/vnd.microsoft.datawrangler.viewer.v0+json": {
       "columns": [
        {
         "name": "Customer",
         "rawType": "object",
         "type": "string"
        },
        {
         "name": "length",
         "rawType": "int64",
         "type": "integer"
        },
        {
         "name": "recency",
         "rawType": "int64",
         "type": "integer"
        },
        {
         "name": "frequency",
         "rawType": "int64",
         "type": "integer"
        },
        {
         "name": "monetary",
         "rawType": "float64",
         "type": "float"
        },
        {
         "name": "l_score",
         "rawType": "int64",
         "type": "integer"
        }
       ],
       "ref": "22d0b1c1-6655-4315-9d97-ea2ffe89b175",
       "rows": [
        [
         "Mondelez International",
         "1455",
         "32",
         "61",
         "8577.65",
         "3"
        ],
        [
         "General Electric",
         "1448",
         "35",
         "22",
         "687.15",
         "3"
        ],
        [
         "Walgreens",
         "1448",
         "44",
         "33",
         "-740.67",
         "3"
        ],
        [
         "Boeing",
         "1460",
         "34",
         "49",
         "666.54",
         "3"
        ],
        [
         "Walt Disney",
         "1398",
         "52",
         "53",
         "5786.83",
         "2"
        ]
       ],
       "shape": {
        "columns": 5,
        "rows": 5
       }
      },
      "text/html": [
       "<div>\n",
       "<style scoped>\n",
       "    .dataframe tbody tr th:only-of-type {\n",
       "        vertical-align: middle;\n",
       "    }\n",
       "\n",
       "    .dataframe tbody tr th {\n",
       "        vertical-align: top;\n",
       "    }\n",
       "\n",
       "    .dataframe thead th {\n",
       "        text-align: right;\n",
       "    }\n",
       "</style>\n",
       "<table border=\"1\" class=\"dataframe\">\n",
       "  <thead>\n",
       "    <tr style=\"text-align: right;\">\n",
       "      <th></th>\n",
       "      <th>length</th>\n",
       "      <th>recency</th>\n",
       "      <th>frequency</th>\n",
       "      <th>monetary</th>\n",
       "      <th>l_score</th>\n",
       "    </tr>\n",
       "    <tr>\n",
       "      <th>Customer</th>\n",
       "      <th></th>\n",
       "      <th></th>\n",
       "      <th></th>\n",
       "      <th></th>\n",
       "      <th></th>\n",
       "    </tr>\n",
       "  </thead>\n",
       "  <tbody>\n",
       "    <tr>\n",
       "      <th>Mondelez International</th>\n",
       "      <td>1455</td>\n",
       "      <td>32</td>\n",
       "      <td>61</td>\n",
       "      <td>8577.65</td>\n",
       "      <td>3</td>\n",
       "    </tr>\n",
       "    <tr>\n",
       "      <th>General Electric</th>\n",
       "      <td>1448</td>\n",
       "      <td>35</td>\n",
       "      <td>22</td>\n",
       "      <td>687.15</td>\n",
       "      <td>3</td>\n",
       "    </tr>\n",
       "    <tr>\n",
       "      <th>Walgreens</th>\n",
       "      <td>1448</td>\n",
       "      <td>44</td>\n",
       "      <td>33</td>\n",
       "      <td>-740.67</td>\n",
       "      <td>3</td>\n",
       "    </tr>\n",
       "    <tr>\n",
       "      <th>Boeing</th>\n",
       "      <td>1460</td>\n",
       "      <td>34</td>\n",
       "      <td>49</td>\n",
       "      <td>666.54</td>\n",
       "      <td>3</td>\n",
       "    </tr>\n",
       "    <tr>\n",
       "      <th>Walt Disney</th>\n",
       "      <td>1398</td>\n",
       "      <td>52</td>\n",
       "      <td>53</td>\n",
       "      <td>5786.83</td>\n",
       "      <td>2</td>\n",
       "    </tr>\n",
       "  </tbody>\n",
       "</table>\n",
       "</div>"
      ],
      "text/plain": [
       "                        length  recency  frequency  monetary  l_score\n",
       "Customer                                                             \n",
       "Mondelez International    1455       32         61   8577.65        3\n",
       "General Electric          1448       35         22    687.15        3\n",
       "Walgreens                 1448       44         33   -740.67        3\n",
       "Boeing                    1460       34         49    666.54        3\n",
       "Walt Disney               1398       52         53   5786.83        2"
      ]
     },
     "execution_count": 44,
     "metadata": {},
     "output_type": "execute_result"
    }
   ],
   "source": [
    "df_customer['l_score'] = pd.qcut(\n",
    "    df_customer['length'],              # data\n",
    "    q=4,                                # dibagi menjadi 4 kelompok sama banyak\n",
    "    labels=[1, 2, 3, 4]                 # pelabelan, untuk length: semakin lama, maka semakin besar skornya\n",
    ").astype(int)\n",
    "\n",
    "df_customer.sample(5, random_state=42)"
   ]
  },
  {
   "cell_type": "markdown",
   "id": "8b4649f2",
   "metadata": {},
   "source": [
    "##### **Recency Segmentation**"
   ]
  },
  {
   "cell_type": "code",
   "execution_count": 45,
   "id": "281b3855",
   "metadata": {},
   "outputs": [
    {
     "data": {
      "image/png": "[encoded data removed]",
      "text/plain": [
       "<Figure size 750x500 with 2 Axes>"
      ]
     },
     "metadata": {},
     "output_type": "display_data"
    },
    {
     "data": {
      "application/vnd.microsoft.datawrangler.viewer.v0+json": {
       "columns": [
        {
         "name": "index",
         "rawType": "float64",
         "type": "float"
        },
        {
         "name": "recency",
         "rawType": "float64",
         "type": "float"
        }
       ],
       "ref": "fc5904a1-05c4-4b68-a7e5-fbe730840e56",
       "rows": [
        [
         "0.0",
         "30.0"
        ],
        [
         "0.25",
         "34.5"
        ],
        [
         "0.5",
         "39.0"
        ],
        [
         "0.75",
         "52.0"
        ],
        [
         "1.0",
         "269.0"
        ]
       ],
       "shape": {
        "columns": 1,
        "rows": 5
       }
      },
      "text/plain": [
       "0.00     30.0\n",
       "0.25     34.5\n",
       "0.50     39.0\n",
       "0.75     52.0\n",
       "1.00    269.0\n",
       "Name: recency, dtype: float64"
      ]
     },
     "metadata": {},
     "output_type": "display_data"
    }
   ],
   "source": [
    "fig, (ax_top, ax_bot) = plt.subplots(\n",
    "                            nrows=2, \n",
    "                            ncols=1, \n",
    "                            figsize=(7.5, 5),\n",
    "                            gridspec_kw={\n",
    "                                'height_ratios': (0.15, 0.85),\n",
    "                                'hspace': 0.05\n",
    "                            }\n",
    "                        )\n",
    "\n",
    "sns.boxplot(data=df_customer, x='recency', ax=ax_top)\n",
    "sns.histplot(data=df_customer, x='recency', ax=ax_bot)\n",
    "\n",
    "ax_top.set(\n",
    "    title='Last Time Customer Order'\n",
    ")\n",
    "\n",
    "plt.show()\n",
    "display(df_customer['recency'].quantile([0, 0.25, 0.5, 0.75, 1]))"
   ]
  },
  {
   "cell_type": "markdown",
   "id": "c861a183",
   "metadata": {},
   "source": [
    "Berdasarkan distribusi di atas, akan dikelompokkan customer berdasarkan recency-nya ke dalam 4 kelompok yaitu :\n",
    "- 4 (Highly Enganged) : melakukan transaksi kurang dari 30 hari terakhir\n",
    "- 3 (Enganged) : melakukan transaksi antara 30 hingga 60 hari terakhir\n",
    "- 2 (At-Risk) : melakukan transaksi antara 60 hingga 90 hari terakhir\n",
    "- 1 (Inactive) : melakukan transaksi lebih dari 90 hari terakhir"
   ]
  },
  {
   "cell_type": "code",
   "execution_count": 46,
   "id": "13e84ec7",
   "metadata": {},
   "outputs": [
    {
     "data": {
      "application/vnd.microsoft.datawrangler.viewer.v0+json": {
       "columns": [
        {
         "name": "Customer",
         "rawType": "object",
         "type": "string"
        },
        {
         "name": "length",
         "rawType": "int64",
         "type": "integer"
        },
        {
         "name": "recency",
         "rawType": "int64",
         "type": "integer"
        },
        {
         "name": "frequency",
         "rawType": "int64",
         "type": "integer"
        },
        {
         "name": "monetary",
         "rawType": "float64",
         "type": "float"
        },
        {
         "name": "l_score",
         "rawType": "int64",
         "type": "integer"
        },
        {
         "name": "r_score",
         "rawType": "int64",
         "type": "integer"
        }
       ],
       "ref": "aec0427c-fb60-4841-af8f-7c04eccaa96f",
       "rows": [
        [
         "Mondelez International",
         "1455",
         "32",
         "61",
         "8577.65",
         "3",
         "3"
        ],
        [
         "General Electric",
         "1448",
         "35",
         "22",
         "687.15",
         "3",
         "3"
        ],
        [
         "Walgreens",
         "1448",
         "44",
         "33",
         "-740.67",
         "3",
         "3"
        ],
        [
         "Boeing",
         "1460",
         "34",
         "49",
         "666.54",
         "3",
         "3"
        ],
        [
         "Walt Disney",
         "1398",
         "52",
         "53",
         "5786.83",
         "2",
         "3"
        ],
        [
         "Sysco",
         "1438",
         "63",
         "40",
         "3383.37",
         "3",
         "2"
        ],
        [
         "Nestle",
         "1483",
         "147",
         "54",
         "2110.45",
         "4",
         "1"
        ],
        [
         "Glencore",
         "1403",
         "80",
         "26",
         "4470.15",
         "2",
         "2"
        ],
        [
         "Anthem",
         "1477",
         "37",
         "58",
         "5953.2",
         "4",
         "3"
        ],
        [
         "AT&T",
         "1420",
         "39",
         "67",
         "4520.66",
         "2",
         "3"
        ],
        [
         "Costco Wholesale",
         "1374",
         "31",
         "37",
         "-1354.85",
         "1",
         "3"
        ],
        [
         "Prudential Financial",
         "1470",
         "35",
         "73",
         "2728.76",
         "4",
         "3"
        ],
        [
         "Honda Motor",
         "1462",
         "39",
         "42",
         "2752.0",
         "3",
         "3"
        ],
        [
         "Cisco Systems",
         "1403",
         "46",
         "42",
         "3219.84",
         "2",
         "3"
        ],
        [
         "HSBC Holdings",
         "1452",
         "91",
         "41",
         "-104.4",
         "3",
         "1"
        ],
        [
         "Allianz",
         "1414",
         "31",
         "102",
         "5531.88",
         "2",
         "3"
        ],
        [
         "Caterpillar",
         "1403",
         "46",
         "42",
         "2579.16",
         "2",
         "3"
        ],
        [
         "Aviva",
         "1475",
         "30",
         "42",
         "1474.36",
         "4",
         "4"
        ],
        [
         "Trafigura Group",
         "1429",
         "37",
         "52",
         "8867.83",
         "3",
         "3"
        ],
        [
         "Philip Morris International",
         "1417",
         "36",
         "58",
         "3223.17",
         "2",
         "3"
        ]
       ],
       "shape": {
        "columns": 6,
        "rows": 20
       }
      },
      "text/html": [
       "<div>\n",
       "<style scoped>\n",
       "    .dataframe tbody tr th:only-of-type {\n",
       "        vertical-align: middle;\n",
       "    }\n",
       "\n",
       "    .dataframe tbody tr th {\n",
       "        vertical-align: top;\n",
       "    }\n",
       "\n",
       "    .dataframe thead th {\n",
       "        text-align: right;\n",
       "    }\n",
       "</style>\n",
       "<table border=\"1\" class=\"dataframe\">\n",
       "  <thead>\n",
       "    <tr style=\"text-align: right;\">\n",
       "      <th></th>\n",
       "      <th>length</th>\n",
       "      <th>recency</th>\n",
       "      <th>frequency</th>\n",
       "      <th>monetary</th>\n",
       "      <th>l_score</th>\n",
       "      <th>r_score</th>\n",
       "    </tr>\n",
       "    <tr>\n",
       "      <th>Customer</th>\n",
       "      <th></th>\n",
       "      <th></th>\n",
       "      <th></th>\n",
       "      <th></th>\n",
       "      <th></th>\n",
       "      <th></th>\n",
       "    </tr>\n",
       "  </thead>\n",
       "  <tbody>\n",
       "    <tr>\n",
       "      <th>Mondelez International</th>\n",
       "      <td>1455</td>\n",
       "      <td>32</td>\n",
       "      <td>61</td>\n",
       "      <td>8577.65</td>\n",
       "      <td>3</td>\n",
       "      <td>3</td>\n",
       "    </tr>\n",
       "    <tr>\n",
       "      <th>General Electric</th>\n",
       "      <td>1448</td>\n",
       "      <td>35</td>\n",
       "      <td>22</td>\n",
       "      <td>687.15</td>\n",
       "      <td>3</td>\n",
       "      <td>3</td>\n",
       "    </tr>\n",
       "    <tr>\n",
       "      <th>Walgreens</th>\n",
       "      <td>1448</td>\n",
       "      <td>44</td>\n",
       "      <td>33</td>\n",
       "      <td>-740.67</td>\n",
       "      <td>3</td>\n",
       "      <td>3</td>\n",
       "    </tr>\n",
       "    <tr>\n",
       "      <th>Boeing</th>\n",
       "      <td>1460</td>\n",
       "      <td>34</td>\n",
       "      <td>49</td>\n",
       "      <td>666.54</td>\n",
       "      <td>3</td>\n",
       "      <td>3</td>\n",
       "    </tr>\n",
       "    <tr>\n",
       "      <th>Walt Disney</th>\n",
       "      <td>1398</td>\n",
       "      <td>52</td>\n",
       "      <td>53</td>\n",
       "      <td>5786.83</td>\n",
       "      <td>2</td>\n",
       "      <td>3</td>\n",
       "    </tr>\n",
       "    <tr>\n",
       "      <th>Sysco</th>\n",
       "      <td>1438</td>\n",
       "      <td>63</td>\n",
       "      <td>40</td>\n",
       "      <td>3383.37</td>\n",
       "      <td>3</td>\n",
       "      <td>2</td>\n",
       "    </tr>\n",
       "    <tr>\n",
       "      <th>Nestle</th>\n",
       "      <td>1483</td>\n",
       "      <td>147</td>\n",
       "      <td>54</td>\n",
       "      <td>2110.45</td>\n",
       "      <td>4</td>\n",
       "      <td>1</td>\n",
       "    </tr>\n",
       "    <tr>\n",
       "      <th>Glencore</th>\n",
       "      <td>1403</td>\n",
       "      <td>80</td>\n",
       "      <td>26</td>\n",
       "      <td>4470.15</td>\n",
       "      <td>2</td>\n",
       "      <td>2</td>\n",
       "    </tr>\n",
       "    <tr>\n",
       "      <th>Anthem</th>\n",
       "      <td>1477</td>\n",
       "      <td>37</td>\n",
       "      <td>58</td>\n",
       "      <td>5953.20</td>\n",
       "      <td>4</td>\n",
       "      <td>3</td>\n",
       "    </tr>\n",
       "    <tr>\n",
       "      <th>AT&amp;T</th>\n",
       "      <td>1420</td>\n",
       "      <td>39</td>\n",
       "      <td>67</td>\n",
       "      <td>4520.66</td>\n",
       "      <td>2</td>\n",
       "      <td>3</td>\n",
       "    </tr>\n",
       "    <tr>\n",
       "      <th>Costco Wholesale</th>\n",
       "      <td>1374</td>\n",
       "      <td>31</td>\n",
       "      <td>37</td>\n",
       "      <td>-1354.85</td>\n",
       "      <td>1</td>\n",
       "      <td>3</td>\n",
       "    </tr>\n",
       "    <tr>\n",
       "      <th>Prudential Financial</th>\n",
       "      <td>1470</td>\n",
       "      <td>35</td>\n",
       "      <td>73</td>\n",
       "      <td>2728.76</td>\n",
       "      <td>4</td>\n",
       "      <td>3</td>\n",
       "    </tr>\n",
       "    <tr>\n",
       "      <th>Honda Motor</th>\n",
       "      <td>1462</td>\n",
       "      <td>39</td>\n",
       "      <td>42</td>\n",
       "      <td>2752.00</td>\n",
       "      <td>3</td>\n",
       "      <td>3</td>\n",
       "    </tr>\n",
       "    <tr>\n",
       "      <th>Cisco Systems</th>\n",
       "      <td>1403</td>\n",
       "      <td>46</td>\n",
       "      <td>42</td>\n",
       "      <td>3219.84</td>\n",
       "      <td>2</td>\n",
       "      <td>3</td>\n",
       "    </tr>\n",
       "    <tr>\n",
       "      <th>HSBC Holdings</th>\n",
       "      <td>1452</td>\n",
       "      <td>91</td>\n",
       "      <td>41</td>\n",
       "      <td>-104.40</td>\n",
       "      <td>3</td>\n",
       "      <td>1</td>\n",
       "    </tr>\n",
       "    <tr>\n",
       "      <th>Allianz</th>\n",
       "      <td>1414</td>\n",
       "      <td>31</td>\n",
       "      <td>102</td>\n",
       "      <td>5531.88</td>\n",
       "      <td>2</td>\n",
       "      <td>3</td>\n",
       "    </tr>\n",
       "    <tr>\n",
       "      <th>Caterpillar</th>\n",
       "      <td>1403</td>\n",
       "      <td>46</td>\n",
       "      <td>42</td>\n",
       "      <td>2579.16</td>\n",
       "      <td>2</td>\n",
       "      <td>3</td>\n",
       "    </tr>\n",
       "    <tr>\n",
       "      <th>Aviva</th>\n",
       "      <td>1475</td>\n",
       "      <td>30</td>\n",
       "      <td>42</td>\n",
       "      <td>1474.36</td>\n",
       "      <td>4</td>\n",
       "      <td>4</td>\n",
       "    </tr>\n",
       "    <tr>\n",
       "      <th>Trafigura Group</th>\n",
       "      <td>1429</td>\n",
       "      <td>37</td>\n",
       "      <td>52</td>\n",
       "      <td>8867.83</td>\n",
       "      <td>3</td>\n",
       "      <td>3</td>\n",
       "    </tr>\n",
       "    <tr>\n",
       "      <th>Philip Morris International</th>\n",
       "      <td>1417</td>\n",
       "      <td>36</td>\n",
       "      <td>58</td>\n",
       "      <td>3223.17</td>\n",
       "      <td>2</td>\n",
       "      <td>3</td>\n",
       "    </tr>\n",
       "  </tbody>\n",
       "</table>\n",
       "</div>"
      ],
      "text/plain": [
       "                             length  recency  frequency  monetary  l_score  \\\n",
       "Customer                                                                     \n",
       "Mondelez International         1455       32         61   8577.65        3   \n",
       "General Electric               1448       35         22    687.15        3   \n",
       "Walgreens                      1448       44         33   -740.67        3   \n",
       "Boeing                         1460       34         49    666.54        3   \n",
       "Walt Disney                    1398       52         53   5786.83        2   \n",
       "Sysco                          1438       63         40   3383.37        3   \n",
       "Nestle                         1483      147         54   2110.45        4   \n",
       "Glencore                       1403       80         26   4470.15        2   \n",
       "Anthem                         1477       37         58   5953.20        4   \n",
       "AT&T                           1420       39         67   4520.66        2   \n",
       "Costco Wholesale               1374       31         37  -1354.85        1   \n",
       "Prudential Financial           1470       35         73   2728.76        4   \n",
       "Honda Motor                    1462       39         42   2752.00        3   \n",
       "Cisco Systems                  1403       46         42   3219.84        2   \n",
       "HSBC Holdings                  1452       91         41   -104.40        3   \n",
       "Allianz                        1414       31        102   5531.88        2   \n",
       "Caterpillar                    1403       46         42   2579.16        2   \n",
       "Aviva                          1475       30         42   1474.36        4   \n",
       "Trafigura Group                1429       37         52   8867.83        3   \n",
       "Philip Morris International    1417       36         58   3223.17        2   \n",
       "\n",
       "                             r_score  \n",
       "Customer                              \n",
       "Mondelez International             3  \n",
       "General Electric                   3  \n",
       "Walgreens                          3  \n",
       "Boeing                             3  \n",
       "Walt Disney                        3  \n",
       "Sysco                              2  \n",
       "Nestle                             1  \n",
       "Glencore                           2  \n",
       "Anthem                             3  \n",
       "AT&T                               3  \n",
       "Costco Wholesale                   3  \n",
       "Prudential Financial               3  \n",
       "Honda Motor                        3  \n",
       "Cisco Systems                      3  \n",
       "HSBC Holdings                      1  \n",
       "Allianz                            3  \n",
       "Caterpillar                        3  \n",
       "Aviva                              4  \n",
       "Trafigura Group                    3  \n",
       "Philip Morris International        3  "
      ]
     },
     "execution_count": 46,
     "metadata": {},
     "output_type": "execute_result"
    }
   ],
   "source": [
    "def r_score(x):\n",
    "    if x<=30:\n",
    "        return 4                    # data\n",
    "    elif x <= 60:                    # dibagi menjadi 4 kelompok sama banyak\n",
    "        return 3                    # pelabelan, untuk recency: semakin kecil, maka semakin besar skornya\n",
    "    elif x <= 90:\n",
    "        return 2\n",
    "    else:\n",
    "        return 1\n",
    "    \n",
    "df_customer['r_score'] = df_customer['recency'].apply(r_score)\n",
    "df_customer.sample(20, random_state=42)\n"
   ]
  },
  {
   "cell_type": "markdown",
   "id": "7febdafb",
   "metadata": {},
   "source": [
    "##### **Frequency Segmentation**"
   ]
  },
  {
   "cell_type": "code",
   "execution_count": 47,
   "id": "72ab571a",
   "metadata": {},
   "outputs": [
    {
     "data": {
      "image/png": "[encoded data removed]",
      "text/plain": [
       "<Figure size 750x500 with 2 Axes>"
      ]
     },
     "metadata": {},
     "output_type": "display_data"
    },
    {
     "data": {
      "application/vnd.microsoft.datawrangler.viewer.v0+json": {
       "columns": [
        {
         "name": "index",
         "rawType": "float64",
         "type": "float"
        },
        {
         "name": "frequency",
         "rawType": "float64",
         "type": "float"
        }
       ],
       "ref": "b71c443e-adc3-4b58-9b77-a31f32070567",
       "rows": [
        [
         "0.0",
         "13.0"
        ],
        [
         "0.25",
         "38.5"
        ],
        [
         "0.5",
         "52.0"
        ],
        [
         "0.75",
         "60.0"
        ],
        [
         "1.0",
         "103.0"
        ]
       ],
       "shape": {
        "columns": 1,
        "rows": 5
       }
      },
      "text/plain": [
       "0.00     13.0\n",
       "0.25     38.5\n",
       "0.50     52.0\n",
       "0.75     60.0\n",
       "1.00    103.0\n",
       "Name: frequency, dtype: float64"
      ]
     },
     "metadata": {},
     "output_type": "display_data"
    }
   ],
   "source": [
    "fig, (ax_top, ax_bot) = plt.subplots(\n",
    "                            nrows=2, \n",
    "                            ncols=1, \n",
    "                            figsize=(7.5, 5),\n",
    "                            gridspec_kw={\n",
    "                                'height_ratios': (0.15, 0.85),\n",
    "                                'hspace': 0.05\n",
    "                            }\n",
    "                        )\n",
    "\n",
    "sns.boxplot(data=df_customer, x='frequency', ax=ax_top)\n",
    "sns.histplot(data=df_customer, x='frequency', ax=ax_bot)\n",
    "\n",
    "ax_top.set(\n",
    "    title='Total Transactions'\n",
    ")\n",
    "\n",
    "plt.show()\n",
    "display(df_customer['frequency'].quantile([0, 0.25, 0.5, 0.75, 1]))"
   ]
  },
  {
   "cell_type": "markdown",
   "id": "34df6ca3",
   "metadata": {},
   "source": [
    "Berdasarkan distribusi di atas, kita akan kelompokkan customer berdasarkan frequency-nya ke dalam 4 kelompok mengacu pada jumlah transaksi yang kita tentukan yaitu:\n",
    "- 4 (Frequent) : melakukan transaki lebih dari 60 kali\n",
    "- 3 (Regular) : melakukan transaksi 53 hingga 60 kali\n",
    "- 2 (Casual) : melakukan transaksi 39 hingga 52 kali\n",
    "- 1 (Inregular) : melakukan transaksi dibawah 39 kali."
   ]
  },
  {
   "cell_type": "code",
   "execution_count": 48,
   "id": "7dda0fb9",
   "metadata": {},
   "outputs": [
    {
     "data": {
      "application/vnd.microsoft.datawrangler.viewer.v0+json": {
       "columns": [
        {
         "name": "Customer",
         "rawType": "object",
         "type": "string"
        },
        {
         "name": "length",
         "rawType": "int64",
         "type": "integer"
        },
        {
         "name": "recency",
         "rawType": "int64",
         "type": "integer"
        },
        {
         "name": "frequency",
         "rawType": "int64",
         "type": "integer"
        },
        {
         "name": "monetary",
         "rawType": "float64",
         "type": "float"
        },
        {
         "name": "l_score",
         "rawType": "int64",
         "type": "integer"
        },
        {
         "name": "r_score",
         "rawType": "int64",
         "type": "integer"
        },
        {
         "name": "f_score",
         "rawType": "int64",
         "type": "integer"
        }
       ],
       "ref": "cc5e3190-34b4-40ab-b79d-1b63a803fc67",
       "rows": [
        [
         "Mondelez International",
         "1455",
         "32",
         "61",
         "8577.65",
         "3",
         "3",
         "4"
        ],
        [
         "General Electric",
         "1448",
         "35",
         "22",
         "687.15",
         "3",
         "3",
         "1"
        ],
        [
         "Walgreens",
         "1448",
         "44",
         "33",
         "-740.67",
         "3",
         "3",
         "1"
        ],
        [
         "Boeing",
         "1460",
         "34",
         "49",
         "666.54",
         "3",
         "3",
         "2"
        ],
        [
         "Walt Disney",
         "1398",
         "52",
         "53",
         "5786.83",
         "2",
         "3",
         "3"
        ]
       ],
       "shape": {
        "columns": 7,
        "rows": 5
       }
      },
      "text/html": [
       "<div>\n",
       "<style scoped>\n",
       "    .dataframe tbody tr th:only-of-type {\n",
       "        vertical-align: middle;\n",
       "    }\n",
       "\n",
       "    .dataframe tbody tr th {\n",
       "        vertical-align: top;\n",
       "    }\n",
       "\n",
       "    .dataframe thead th {\n",
       "        text-align: right;\n",
       "    }\n",
       "</style>\n",
       "<table border=\"1\" class=\"dataframe\">\n",
       "  <thead>\n",
       "    <tr style=\"text-align: right;\">\n",
       "      <th></th>\n",
       "      <th>length</th>\n",
       "      <th>recency</th>\n",
       "      <th>frequency</th>\n",
       "      <th>monetary</th>\n",
       "      <th>l_score</th>\n",
       "      <th>r_score</th>\n",
       "      <th>f_score</th>\n",
       "    </tr>\n",
       "    <tr>\n",
       "      <th>Customer</th>\n",
       "      <th></th>\n",
       "      <th></th>\n",
       "      <th></th>\n",
       "      <th></th>\n",
       "      <th></th>\n",
       "      <th></th>\n",
       "      <th></th>\n",
       "    </tr>\n",
       "  </thead>\n",
       "  <tbody>\n",
       "    <tr>\n",
       "      <th>Mondelez International</th>\n",
       "      <td>1455</td>\n",
       "      <td>32</td>\n",
       "      <td>61</td>\n",
       "      <td>8577.65</td>\n",
       "      <td>3</td>\n",
       "      <td>3</td>\n",
       "      <td>4</td>\n",
       "    </tr>\n",
       "    <tr>\n",
       "      <th>General Electric</th>\n",
       "      <td>1448</td>\n",
       "      <td>35</td>\n",
       "      <td>22</td>\n",
       "      <td>687.15</td>\n",
       "      <td>3</td>\n",
       "      <td>3</td>\n",
       "      <td>1</td>\n",
       "    </tr>\n",
       "    <tr>\n",
       "      <th>Walgreens</th>\n",
       "      <td>1448</td>\n",
       "      <td>44</td>\n",
       "      <td>33</td>\n",
       "      <td>-740.67</td>\n",
       "      <td>3</td>\n",
       "      <td>3</td>\n",
       "      <td>1</td>\n",
       "    </tr>\n",
       "    <tr>\n",
       "      <th>Boeing</th>\n",
       "      <td>1460</td>\n",
       "      <td>34</td>\n",
       "      <td>49</td>\n",
       "      <td>666.54</td>\n",
       "      <td>3</td>\n",
       "      <td>3</td>\n",
       "      <td>2</td>\n",
       "    </tr>\n",
       "    <tr>\n",
       "      <th>Walt Disney</th>\n",
       "      <td>1398</td>\n",
       "      <td>52</td>\n",
       "      <td>53</td>\n",
       "      <td>5786.83</td>\n",
       "      <td>2</td>\n",
       "      <td>3</td>\n",
       "      <td>3</td>\n",
       "    </tr>\n",
       "  </tbody>\n",
       "</table>\n",
       "</div>"
      ],
      "text/plain": [
       "                        length  recency  frequency  monetary  l_score  \\\n",
       "Customer                                                                \n",
       "Mondelez International    1455       32         61   8577.65        3   \n",
       "General Electric          1448       35         22    687.15        3   \n",
       "Walgreens                 1448       44         33   -740.67        3   \n",
       "Boeing                    1460       34         49    666.54        3   \n",
       "Walt Disney               1398       52         53   5786.83        2   \n",
       "\n",
       "                        r_score  f_score  \n",
       "Customer                                  \n",
       "Mondelez International        3        4  \n",
       "General Electric              3        1  \n",
       "Walgreens                     3        1  \n",
       "Boeing                        3        2  \n",
       "Walt Disney                   3        3  "
      ]
     },
     "execution_count": 48,
     "metadata": {},
     "output_type": "execute_result"
    }
   ],
   "source": [
    "df_customer.sample(5, random_state=42)\n",
    "\n",
    "df_customer['f_score'] = pd.qcut(\n",
    "    df_customer['frequency'],           # data\n",
    "    q=4,                                # dibagi menjadi 4 kelompok sama banyak\n",
    "    labels=[1, 2, 3, 4]                 # pelabelan, untuk recency: semakin kecil, maka semakin besar skornya\n",
    ").astype(int)\n",
    "\n",
    "df_customer.sample(5, random_state=42)\n"
   ]
  },
  {
   "cell_type": "markdown",
   "id": "e668da5f",
   "metadata": {},
   "source": [
    "##### **Monetary Segmentation**"
   ]
  },
  {
   "cell_type": "code",
   "execution_count": 49,
   "id": "8370a3cb",
   "metadata": {},
   "outputs": [
    {
     "data": {
      "image/png": "[encoded data removed]",
      "text/plain": [
       "<Figure size 750x500 with 2 Axes>"
      ]
     },
     "metadata": {},
     "output_type": "display_data"
    },
    {
     "data": {
      "application/vnd.microsoft.datawrangler.viewer.v0+json": {
       "columns": [
        {
         "name": "index",
         "rawType": "float64",
         "type": "float"
        },
        {
         "name": "monetary",
         "rawType": "float64",
         "type": "float"
        }
       ],
       "ref": "5ee889ff-1200-45d2-a192-f21462d5a37e",
       "rows": [
        [
         "0.0",
         "-2796.29"
        ],
        [
         "0.25",
         "1183.345"
        ],
        [
         "0.5",
         "2579.16"
        ],
        [
         "0.75",
         "4483.24"
        ],
        [
         "1.0",
         "10308.63"
        ]
       ],
       "shape": {
        "columns": 1,
        "rows": 5
       }
      },
      "text/plain": [
       "0.00    -2796.290\n",
       "0.25     1183.345\n",
       "0.50     2579.160\n",
       "0.75     4483.240\n",
       "1.00    10308.630\n",
       "Name: monetary, dtype: float64"
      ]
     },
     "metadata": {},
     "output_type": "display_data"
    }
   ],
   "source": [
    "fig, (ax_top, ax_bot) = plt.subplots(\n",
    "                            nrows=2, \n",
    "                            ncols=1, \n",
    "                            figsize=(7.5, 5),\n",
    "                            gridspec_kw={\n",
    "                                'height_ratios': (0.15, 0.85),\n",
    "                                'hspace': 0.05\n",
    "                            }\n",
    "                        )\n",
    "\n",
    "sns.boxplot(data=df_customer, x='monetary', ax=ax_top)\n",
    "sns.histplot(data=df_customer, x='monetary', ax=ax_bot)\n",
    "\n",
    "ax_top.set(\n",
    "    title='Total Revenue by Customer'\n",
    ")\n",
    "\n",
    "plt.show()\n",
    "display(df_customer['monetary'].quantile([0, 0.25, 0.5, 0.75, 1]))"
   ]
  },
  {
   "cell_type": "markdown",
   "id": "7de74964",
   "metadata": {},
   "source": [
    "Berdasarkan distribusi di atas, kita akan kelompokkan customer berdasarkan monetary-nya ke dalam 4 kelompok yaitu :\n",
    "- 4 (Top Value) : melakukan transaksi lebih dari 4483.24 dollar\n",
    "- 3 (High Value) : melakukan transaksi antara 2579.16 hingga 4483.24 dollar\n",
    "- 2 (Medium Value) : melakukan transaksi antara 1183.34 hingga 2579.16 dollar\n",
    "- 1 (Low Value) : melakukan transaksi kurang dari dari 1183.34 dollar"
   ]
  },
  {
   "cell_type": "code",
   "execution_count": 50,
   "id": "9a78b7df",
   "metadata": {},
   "outputs": [
    {
     "data": {
      "application/vnd.microsoft.datawrangler.viewer.v0+json": {
       "columns": [
        {
         "name": "Customer",
         "rawType": "object",
         "type": "string"
        },
        {
         "name": "length",
         "rawType": "int64",
         "type": "integer"
        },
        {
         "name": "recency",
         "rawType": "int64",
         "type": "integer"
        },
        {
         "name": "frequency",
         "rawType": "int64",
         "type": "integer"
        },
        {
         "name": "monetary",
         "rawType": "float64",
         "type": "float"
        },
        {
         "name": "l_score",
         "rawType": "int64",
         "type": "integer"
        },
        {
         "name": "r_score",
         "rawType": "int64",
         "type": "integer"
        },
        {
         "name": "f_score",
         "rawType": "int64",
         "type": "integer"
        },
        {
         "name": "m_score",
         "rawType": "int64",
         "type": "integer"
        }
       ],
       "ref": "32688f2c-38f1-40dd-ae0b-711eb4781045",
       "rows": [
        [
         "Mondelez International",
         "1455",
         "32",
         "61",
         "8577.65",
         "3",
         "3",
         "4",
         "4"
        ],
        [
         "General Electric",
         "1448",
         "35",
         "22",
         "687.15",
         "3",
         "3",
         "1",
         "1"
        ],
        [
         "Walgreens",
         "1448",
         "44",
         "33",
         "-740.67",
         "3",
         "3",
         "1",
         "1"
        ],
        [
         "Boeing",
         "1460",
         "34",
         "49",
         "666.54",
         "3",
         "3",
         "2",
         "1"
        ],
        [
         "Walt Disney",
         "1398",
         "52",
         "53",
         "5786.83",
         "2",
         "3",
         "3",
         "4"
        ]
       ],
       "shape": {
        "columns": 8,
        "rows": 5
       }
      },
      "text/html": [
       "<div>\n",
       "<style scoped>\n",
       "    .dataframe tbody tr th:only-of-type {\n",
       "        vertical-align: middle;\n",
       "    }\n",
       "\n",
       "    .dataframe tbody tr th {\n",
       "        vertical-align: top;\n",
       "    }\n",
       "\n",
       "    .dataframe thead th {\n",
       "        text-align: right;\n",
       "    }\n",
       "</style>\n",
       "<table border=\"1\" class=\"dataframe\">\n",
       "  <thead>\n",
       "    <tr style=\"text-align: right;\">\n",
       "      <th></th>\n",
       "      <th>length</th>\n",
       "      <th>recency</th>\n",
       "      <th>frequency</th>\n",
       "      <th>monetary</th>\n",
       "      <th>l_score</th>\n",
       "      <th>r_score</th>\n",
       "      <th>f_score</th>\n",
       "      <th>m_score</th>\n",
       "    </tr>\n",
       "    <tr>\n",
       "      <th>Customer</th>\n",
       "      <th></th>\n",
       "      <th></th>\n",
       "      <th></th>\n",
       "      <th></th>\n",
       "      <th></th>\n",
       "      <th></th>\n",
       "      <th></th>\n",
       "      <th></th>\n",
       "    </tr>\n",
       "  </thead>\n",
       "  <tbody>\n",
       "    <tr>\n",
       "      <th>Mondelez International</th>\n",
       "      <td>1455</td>\n",
       "      <td>32</td>\n",
       "      <td>61</td>\n",
       "      <td>8577.65</td>\n",
       "      <td>3</td>\n",
       "      <td>3</td>\n",
       "      <td>4</td>\n",
       "      <td>4</td>\n",
       "    </tr>\n",
       "    <tr>\n",
       "      <th>General Electric</th>\n",
       "      <td>1448</td>\n",
       "      <td>35</td>\n",
       "      <td>22</td>\n",
       "      <td>687.15</td>\n",
       "      <td>3</td>\n",
       "      <td>3</td>\n",
       "      <td>1</td>\n",
       "      <td>1</td>\n",
       "    </tr>\n",
       "    <tr>\n",
       "      <th>Walgreens</th>\n",
       "      <td>1448</td>\n",
       "      <td>44</td>\n",
       "      <td>33</td>\n",
       "      <td>-740.67</td>\n",
       "      <td>3</td>\n",
       "      <td>3</td>\n",
       "      <td>1</td>\n",
       "      <td>1</td>\n",
       "    </tr>\n",
       "    <tr>\n",
       "      <th>Boeing</th>\n",
       "      <td>1460</td>\n",
       "      <td>34</td>\n",
       "      <td>49</td>\n",
       "      <td>666.54</td>\n",
       "      <td>3</td>\n",
       "      <td>3</td>\n",
       "      <td>2</td>\n",
       "      <td>1</td>\n",
       "    </tr>\n",
       "    <tr>\n",
       "      <th>Walt Disney</th>\n",
       "      <td>1398</td>\n",
       "      <td>52</td>\n",
       "      <td>53</td>\n",
       "      <td>5786.83</td>\n",
       "      <td>2</td>\n",
       "      <td>3</td>\n",
       "      <td>3</td>\n",
       "      <td>4</td>\n",
       "    </tr>\n",
       "  </tbody>\n",
       "</table>\n",
       "</div>"
      ],
      "text/plain": [
       "                        length  recency  frequency  monetary  l_score  \\\n",
       "Customer                                                                \n",
       "Mondelez International    1455       32         61   8577.65        3   \n",
       "General Electric          1448       35         22    687.15        3   \n",
       "Walgreens                 1448       44         33   -740.67        3   \n",
       "Boeing                    1460       34         49    666.54        3   \n",
       "Walt Disney               1398       52         53   5786.83        2   \n",
       "\n",
       "                        r_score  f_score  m_score  \n",
       "Customer                                           \n",
       "Mondelez International        3        4        4  \n",
       "General Electric              3        1        1  \n",
       "Walgreens                     3        1        1  \n",
       "Boeing                        3        2        1  \n",
       "Walt Disney                   3        3        4  "
      ]
     },
     "execution_count": 50,
     "metadata": {},
     "output_type": "execute_result"
    }
   ],
   "source": [
    "df_customer['m_score'] = pd.qcut(\n",
    "    df_customer['monetary'],            # data\n",
    "    q=4,                                # dibagi menjadi 4 kelompok sama banyak\n",
    "    labels=[1, 2, 3, 4]                 # pelabelan, untuk monetary: semakin besar, maka semakin besar skornya\n",
    ").astype(int)\n",
    "\n",
    "df_customer.sample(5, random_state=42)\n"
   ]
  },
  {
   "cell_type": "markdown",
   "id": "05981b74",
   "metadata": {},
   "source": [
    "#### **Labelling Segment**\n",
    "\n",
    "Langkah selanjutnya dalam analisis LRFM adalah melakukan labelling dari tiap segmen sehingga kita bisa mengelompokkan behaviour customer berdasarkan nilai LRFM yang sudah kita dapatkan\n",
    "\n",
    "Kita akan menggunakan metode **Combining Individual Score Approach** sehingga metode ini akan memberikan segmentasi yang spesifik berdasarkan hasil individu nilai LRFM nya sehingga cocok untuk penentuan strategi per masing customer"
   ]
  },
  {
   "cell_type": "markdown",
   "id": "ec4e5f59",
   "metadata": {},
   "source": [
    "##### **Combining Individual Score Approach**"
   ]
  },
  {
   "cell_type": "code",
   "execution_count": 51,
   "id": "8a965328",
   "metadata": {},
   "outputs": [
    {
     "data": {
      "application/vnd.microsoft.datawrangler.viewer.v0+json": {
       "columns": [
        {
         "name": "Customer",
         "rawType": "object",
         "type": "string"
        },
        {
         "name": "length",
         "rawType": "int64",
         "type": "integer"
        },
        {
         "name": "recency",
         "rawType": "int64",
         "type": "integer"
        },
        {
         "name": "frequency",
         "rawType": "int64",
         "type": "integer"
        },
        {
         "name": "monetary",
         "rawType": "float64",
         "type": "float"
        },
        {
         "name": "l_score",
         "rawType": "int64",
         "type": "integer"
        },
        {
         "name": "r_score",
         "rawType": "int64",
         "type": "integer"
        },
        {
         "name": "f_score",
         "rawType": "int64",
         "type": "integer"
        },
        {
         "name": "m_score",
         "rawType": "int64",
         "type": "integer"
        },
        {
         "name": "lrfm_score_combined",
         "rawType": "object",
         "type": "string"
        }
       ],
       "ref": "3840434c-a468-46e2-8f39-b3ecbcabd660",
       "rows": [
        [
         "Mondelez International",
         "1455",
         "32",
         "61",
         "8577.65",
         "3",
         "3",
         "4",
         "4",
         "3344"
        ],
        [
         "General Electric",
         "1448",
         "35",
         "22",
         "687.15",
         "3",
         "3",
         "1",
         "1",
         "3311"
        ],
        [
         "Walgreens",
         "1448",
         "44",
         "33",
         "-740.67",
         "3",
         "3",
         "1",
         "1",
         "3311"
        ],
        [
         "Boeing",
         "1460",
         "34",
         "49",
         "666.54",
         "3",
         "3",
         "2",
         "1",
         "3321"
        ],
        [
         "Walt Disney",
         "1398",
         "52",
         "53",
         "5786.83",
         "2",
         "3",
         "3",
         "4",
         "2334"
        ]
       ],
       "shape": {
        "columns": 9,
        "rows": 5
       }
      },
      "text/html": [
       "<div>\n",
       "<style scoped>\n",
       "    .dataframe tbody tr th:only-of-type {\n",
       "        vertical-align: middle;\n",
       "    }\n",
       "\n",
       "    .dataframe tbody tr th {\n",
       "        vertical-align: top;\n",
       "    }\n",
       "\n",
       "    .dataframe thead th {\n",
       "        text-align: right;\n",
       "    }\n",
       "</style>\n",
       "<table border=\"1\" class=\"dataframe\">\n",
       "  <thead>\n",
       "    <tr style=\"text-align: right;\">\n",
       "      <th></th>\n",
       "      <th>length</th>\n",
       "      <th>recency</th>\n",
       "      <th>frequency</th>\n",
       "      <th>monetary</th>\n",
       "      <th>l_score</th>\n",
       "      <th>r_score</th>\n",
       "      <th>f_score</th>\n",
       "      <th>m_score</th>\n",
       "      <th>lrfm_score_combined</th>\n",
       "    </tr>\n",
       "    <tr>\n",
       "      <th>Customer</th>\n",
       "      <th></th>\n",
       "      <th></th>\n",
       "      <th></th>\n",
       "      <th></th>\n",
       "      <th></th>\n",
       "      <th></th>\n",
       "      <th></th>\n",
       "      <th></th>\n",
       "      <th></th>\n",
       "    </tr>\n",
       "  </thead>\n",
       "  <tbody>\n",
       "    <tr>\n",
       "      <th>Mondelez International</th>\n",
       "      <td>1455</td>\n",
       "      <td>32</td>\n",
       "      <td>61</td>\n",
       "      <td>8577.65</td>\n",
       "      <td>3</td>\n",
       "      <td>3</td>\n",
       "      <td>4</td>\n",
       "      <td>4</td>\n",
       "      <td>3344</td>\n",
       "    </tr>\n",
       "    <tr>\n",
       "      <th>General Electric</th>\n",
       "      <td>1448</td>\n",
       "      <td>35</td>\n",
       "      <td>22</td>\n",
       "      <td>687.15</td>\n",
       "      <td>3</td>\n",
       "      <td>3</td>\n",
       "      <td>1</td>\n",
       "      <td>1</td>\n",
       "      <td>3311</td>\n",
       "    </tr>\n",
       "    <tr>\n",
       "      <th>Walgreens</th>\n",
       "      <td>1448</td>\n",
       "      <td>44</td>\n",
       "      <td>33</td>\n",
       "      <td>-740.67</td>\n",
       "      <td>3</td>\n",
       "      <td>3</td>\n",
       "      <td>1</td>\n",
       "      <td>1</td>\n",
       "      <td>3311</td>\n",
       "    </tr>\n",
       "    <tr>\n",
       "      <th>Boeing</th>\n",
       "      <td>1460</td>\n",
       "      <td>34</td>\n",
       "      <td>49</td>\n",
       "      <td>666.54</td>\n",
       "      <td>3</td>\n",
       "      <td>3</td>\n",
       "      <td>2</td>\n",
       "      <td>1</td>\n",
       "      <td>3321</td>\n",
       "    </tr>\n",
       "    <tr>\n",
       "      <th>Walt Disney</th>\n",
       "      <td>1398</td>\n",
       "      <td>52</td>\n",
       "      <td>53</td>\n",
       "      <td>5786.83</td>\n",
       "      <td>2</td>\n",
       "      <td>3</td>\n",
       "      <td>3</td>\n",
       "      <td>4</td>\n",
       "      <td>2334</td>\n",
       "    </tr>\n",
       "  </tbody>\n",
       "</table>\n",
       "</div>"
      ],
      "text/plain": [
       "                        length  recency  frequency  monetary  l_score  \\\n",
       "Customer                                                                \n",
       "Mondelez International    1455       32         61   8577.65        3   \n",
       "General Electric          1448       35         22    687.15        3   \n",
       "Walgreens                 1448       44         33   -740.67        3   \n",
       "Boeing                    1460       34         49    666.54        3   \n",
       "Walt Disney               1398       52         53   5786.83        2   \n",
       "\n",
       "                        r_score  f_score  m_score lrfm_score_combined  \n",
       "Customer                                                               \n",
       "Mondelez International        3        4        4                3344  \n",
       "General Electric              3        1        1                3311  \n",
       "Walgreens                     3        1        1                3311  \n",
       "Boeing                        3        2        1                3321  \n",
       "Walt Disney                   3        3        4                2334  "
      ]
     },
     "execution_count": 51,
     "metadata": {},
     "output_type": "execute_result"
    }
   ],
   "source": [
    "## Menggabungkan tabel dari setiap kolom score LRFM menjadi tabel utama\n",
    "df_customer['lrfm_score_combined'] = df_customer['l_score'].astype(str) + df_customer['r_score'].astype(str) + df_customer['f_score'].astype(str) + df_customer['m_score'].astype(str)\n",
    "df_customer.sample(5, random_state=42)"
   ]
  },
  {
   "cell_type": "markdown",
   "id": "12abe3ac",
   "metadata": {},
   "source": [
    "Rentang L untuk pembagian kelompok hanya dikelompokkan sebagai rentang 1 - 4 saja karena untuk nilai min length dan max length berada pada rentang 1228 dan 1487 yang artinya setiap pelanggan sudah termasuk pelanggan yang cukup lama menggunakan layanan dan bukan termasuk pelanggan yang baru.\n",
    "\n",
    "Lalu kita akan kelompokkan kedalam 4 segmen dengan ketentuan berikut:"
   ]
  },
  {
   "cell_type": "code",
   "execution_count": 71,
   "id": "58cc06c7",
   "metadata": {},
   "outputs": [
    {
     "data": {
      "application/vnd.microsoft.datawrangler.viewer.v0+json": {
       "columns": [
        {
         "name": "index",
         "rawType": "int64",
         "type": "integer"
        },
        {
         "name": "Customer",
         "rawType": "object",
         "type": "string"
        },
        {
         "name": "length",
         "rawType": "int64",
         "type": "integer"
        },
        {
         "name": "recency",
         "rawType": "int64",
         "type": "integer"
        },
        {
         "name": "frequency",
         "rawType": "int64",
         "type": "integer"
        },
        {
         "name": "monetary",
         "rawType": "float64",
         "type": "float"
        },
        {
         "name": "l_score",
         "rawType": "int64",
         "type": "integer"
        },
        {
         "name": "r_score",
         "rawType": "int64",
         "type": "integer"
        },
        {
         "name": "f_score",
         "rawType": "int64",
         "type": "integer"
        },
        {
         "name": "m_score",
         "rawType": "int64",
         "type": "integer"
        },
        {
         "name": "lrfm_score_combined",
         "rawType": "object",
         "type": "string"
        },
        {
         "name": "lrfm_segment_combined",
         "rawType": "object",
         "type": "string"
        }
       ],
       "ref": "b44ea250-1f90-4ec0-b2f7-0b386c9bc0bc",
       "rows": [
        [
         "62",
         "Mondelez International",
         "1455",
         "32",
         "61",
         "8577.65",
         "3",
         "3",
         "4",
         "4",
         "3344",
         "Top Priority Cust"
        ],
        [
         "40",
         "General Electric",
         "1448",
         "35",
         "22",
         "687.15",
         "3",
         "3",
         "1",
         "1",
         "3311",
         "High Momentum Low Value"
        ],
        [
         "95",
         "Walgreens",
         "1448",
         "44",
         "33",
         "-740.67",
         "3",
         "3",
         "1",
         "1",
         "3311",
         "High Momentum Low Value"
        ],
        [
         "18",
         "Boeing",
         "1460",
         "34",
         "49",
         "666.54",
         "3",
         "3",
         "2",
         "1",
         "3321",
         "High Momentum Low Value"
        ],
        [
         "97",
         "Walt Disney",
         "1398",
         "52",
         "53",
         "5786.83",
         "2",
         "3",
         "3",
         "4",
         "2334",
         "Top Priority Cust"
        ],
        [
         "84",
         "Sysco",
         "1438",
         "63",
         "40",
         "3383.37",
         "3",
         "2",
         "2",
         "3",
         "3223",
         "Lost High Value Users"
        ],
        [
         "64",
         "Nestle",
         "1483",
         "147",
         "54",
         "2110.45",
         "4",
         "1",
         "3",
         "2",
         "4132",
         "Fading Frequent User"
        ],
        [
         "42",
         "Glencore",
         "1403",
         "80",
         "26",
         "4470.15",
         "2",
         "2",
         "1",
         "3",
         "2213",
         "Lost High Value Users"
        ],
        [
         "10",
         "Anthem",
         "1477",
         "37",
         "58",
         "5953.2",
         "4",
         "3",
         "3",
         "4",
         "4334",
         "Top Priority Cust"
        ],
        [
         "0",
         "AT&T",
         "1420",
         "39",
         "67",
         "4520.66",
         "2",
         "3",
         "4",
         "4",
         "2344",
         "Top Priority Cust"
        ],
        [
         "31",
         "Costco Wholesale",
         "1374",
         "31",
         "37",
         "-1354.85",
         "1",
         "3",
         "1",
         "1",
         "1311",
         "High Momentum Low Value"
        ],
        [
         "76",
         "Prudential Financial",
         "1470",
         "35",
         "73",
         "2728.76",
         "4",
         "3",
         "4",
         "3",
         "4343",
         "Top Priority Cust"
        ],
        [
         "47",
         "Honda Motor",
         "1462",
         "39",
         "42",
         "2752.0",
         "3",
         "3",
         "2",
         "3",
         "3323",
         "Potential Loyal Cust"
        ],
        [
         "26",
         "Cisco Systems",
         "1403",
         "46",
         "42",
         "3219.84",
         "2",
         "3",
         "2",
         "3",
         "2323",
         "Potential Loyal Cust"
        ],
        [
         "44",
         "HSBC Holdings",
         "1452",
         "91",
         "41",
         "-104.4",
         "3",
         "1",
         "2",
         "1",
         "3121",
         "Low Momentum Low Value"
        ],
        [
         "4",
         "Allianz",
         "1414",
         "31",
         "102",
         "5531.88",
         "2",
         "3",
         "4",
         "4",
         "2344",
         "Top Priority Cust"
        ],
        [
         "22",
         "Caterpillar",
         "1403",
         "46",
         "42",
         "2579.16",
         "2",
         "3",
         "2",
         "2",
         "2322",
         "High Momentum Low Value"
        ],
        [
         "12",
         "Aviva",
         "1475",
         "30",
         "42",
         "1474.36",
         "4",
         "4",
         "2",
         "2",
         "4422",
         "High Momentum Low Value"
        ],
        [
         "88",
         "Trafigura Group",
         "1429",
         "37",
         "52",
         "8867.83",
         "3",
         "3",
         "2",
         "4",
         "3324",
         "Potential Loyal Cust"
        ],
        [
         "73",
         "Philip Morris International",
         "1417",
         "36",
         "58",
         "3223.17",
         "2",
         "3",
         "3",
         "3",
         "2333",
         "Top Priority Cust"
        ],
        [
         "49",
         "Humana",
         "1365",
         "35",
         "37",
         "2581.92",
         "1",
         "3",
         "1",
         "3",
         "1313",
         "Potential Loyal Cust"
        ],
        [
         "70",
         "PepsiCo",
         "1412",
         "44",
         "69",
         "4676.08",
         "2",
         "3",
         "4",
         "4",
         "2344",
         "Top Priority Cust"
        ],
        [
         "68",
         "Panasonic",
         "1457",
         "35",
         "40",
         "993.86",
         "3",
         "3",
         "2",
         "1",
         "3321",
         "High Momentum Low Value"
        ],
        [
         "15",
         "Banco Santander",
         "1420",
         "69",
         "36",
         "604.48",
         "2",
         "2",
         "1",
         "1",
         "2211",
         "Low Momentum Low Value"
        ],
        [
         "39",
         "Gazprom",
         "1270",
         "73",
         "23",
         "-13.97",
         "1",
         "2",
         "1",
         "1",
         "1211",
         "Low Momentum Low Value"
        ],
        [
         "33",
         "Enel",
         "1444",
         "35",
         "41",
         "1001.47",
         "3",
         "3",
         "2",
         "1",
         "3321",
         "High Momentum Low Value"
        ],
        [
         "9",
         "AmerisourceBergen",
         "1436",
         "33",
         "68",
         "4202.88",
         "3",
         "3",
         "4",
         "3",
         "3343",
         "Top Priority Cust"
        ],
        [
         "81",
         "Sony",
         "1395",
         "42",
         "65",
         "1812.18",
         "1",
         "3",
         "4",
         "2",
         "1342",
         "High Momentum Low Value"
        ],
        [
         "11",
         "Apple",
         "1481",
         "32",
         "50",
         "3626.62",
         "4",
         "3",
         "2",
         "3",
         "4323",
         "Potential Loyal Cust"
        ],
        [
         "65",
         "News Corp.",
         "1394",
         "57",
         "30",
         "2693.48",
         "1",
         "3",
         "1",
         "3",
         "1313",
         "Potential Loyal Cust"
        ],
        [
         "94",
         "Volkswagen",
         "1453",
         "51",
         "65",
         "4546.19",
         "3",
         "3",
         "4",
         "4",
         "3344",
         "Top Priority Cust"
        ],
        [
         "30",
         "ConocoPhillips",
         "1484",
         "50",
         "61",
         "4136.34",
         "4",
         "3",
         "4",
         "3",
         "4343",
         "Top Priority Cust"
        ],
        [
         "28",
         "Coca-Cola",
         "1432",
         "39",
         "38",
         "9449.02",
         "3",
         "3",
         "1",
         "4",
         "3314",
         "Potential Loyal Cust"
        ],
        [
         "89",
         "Tyson Foods",
         "1410",
         "30",
         "87",
         "1690.58",
         "2",
         "4",
         "4",
         "2",
         "2442",
         "High Momentum Low Value"
        ],
        [
         "5",
         "Allstate",
         "1441",
         "31",
         "61",
         "-2796.29",
         "3",
         "3",
         "4",
         "1",
         "3341",
         "High Momentum Low Value"
        ],
        [
         "45",
         "Home Depot",
         "1413",
         "43",
         "51",
         "5279.81",
         "2",
         "3",
         "2",
         "4",
         "2324",
         "Potential Loyal Cust"
        ],
        [
         "69",
         "Pemex",
         "1471",
         "52",
         "40",
         "2194.25",
         "4",
         "3",
         "2",
         "2",
         "4322",
         "High Momentum Low Value"
        ],
        [
         "35",
         "Exxon Mobil",
         "1484",
         "60",
         "36",
         "227.11",
         "4",
         "3",
         "1",
         "1",
         "4311",
         "High Momentum Low Value"
        ],
        [
         "16",
         "Bank of America Corp.",
         "1324",
         "39",
         "65",
         "6449.86",
         "1",
         "3",
         "4",
         "4",
         "1344",
         "Top Priority Cust"
        ],
        [
         "72",
         "Pfizer",
         "1364",
         "34",
         "47",
         "1037.14",
         "1",
         "3",
         "2",
         "1",
         "1321",
         "High Momentum Low Value"
        ],
        [
         "34",
         "Engie",
         "1472",
         "57",
         "54",
         "1159.38",
         "4",
         "3",
         "3",
         "1",
         "4331",
         "High Momentum Low Value"
        ],
        [
         "7",
         "Amazon",
         "1477",
         "43",
         "62",
         "2163.98",
         "4",
         "3",
         "4",
         "2",
         "4342",
         "High Momentum Low Value"
        ],
        [
         "55",
         "Lowes",
         "1470",
         "37",
         "58",
         "7937.49",
         "4",
         "3",
         "3",
         "4",
         "4334",
         "Top Priority Cust"
        ],
        [
         "27",
         "Citigroup",
         "1375",
         "269",
         "13",
         "474.33",
         "1",
         "1",
         "1",
         "1",
         "1111",
         "Low Momentum Low Value"
        ],
        [
         "19",
         "Bosch",
         "1477",
         "52",
         "60",
         "-1823.78",
         "4",
         "3",
         "3",
         "1",
         "4331",
         "High Momentum Low Value"
        ],
        [
         "80",
         "Siemens",
         "1487",
         "73",
         "86",
         "6519.51",
         "4",
         "2",
         "4",
         "4",
         "4244",
         "Lost High Value Users"
        ],
        [
         "25",
         "Cigna",
         "1398",
         "45",
         "42",
         "2117.9",
         "2",
         "3",
         "2",
         "2",
         "2322",
         "High Momentum Low Value"
        ],
        [
         "53",
         "Johnson & Johnson",
         "1469",
         "31",
         "67",
         "4632.46",
         "4",
         "3",
         "4",
         "4",
         "4344",
         "Top Priority Cust"
        ],
        [
         "13",
         "BMW",
         "1464",
         "73",
         "56",
         "5948.1",
         "4",
         "2",
         "3",
         "4",
         "4234",
         "Lost High Value Users"
        ],
        [
         "24",
         "China National Petroleum",
         "1254",
         "67",
         "54",
         "4496.33",
         "1",
         "2",
         "3",
         "4",
         "1234",
         "Lost High Value Users"
        ]
       ],
       "shape": {
        "columns": 11,
        "rows": 99
       }
      },
      "text/html": [
       "<div>\n",
       "<style scoped>\n",
       "    .dataframe tbody tr th:only-of-type {\n",
       "        vertical-align: middle;\n",
       "    }\n",
       "\n",
       "    .dataframe tbody tr th {\n",
       "        vertical-align: top;\n",
       "    }\n",
       "\n",
       "    .dataframe thead th {\n",
       "        text-align: right;\n",
       "    }\n",
       "</style>\n",
       "<table border=\"1\" class=\"dataframe\">\n",
       "  <thead>\n",
       "    <tr style=\"text-align: right;\">\n",
       "      <th></th>\n",
       "      <th>Customer</th>\n",
       "      <th>length</th>\n",
       "      <th>recency</th>\n",
       "      <th>frequency</th>\n",
       "      <th>monetary</th>\n",
       "      <th>l_score</th>\n",
       "      <th>r_score</th>\n",
       "      <th>f_score</th>\n",
       "      <th>m_score</th>\n",
       "      <th>lrfm_score_combined</th>\n",
       "      <th>lrfm_segment_combined</th>\n",
       "    </tr>\n",
       "  </thead>\n",
       "  <tbody>\n",
       "    <tr>\n",
       "      <th>62</th>\n",
       "      <td>Mondelez International</td>\n",
       "      <td>1455</td>\n",
       "      <td>32</td>\n",
       "      <td>61</td>\n",
       "      <td>8577.65</td>\n",
       "      <td>3</td>\n",
       "      <td>3</td>\n",
       "      <td>4</td>\n",
       "      <td>4</td>\n",
       "      <td>3344</td>\n",
       "      <td>Top Priority Cust</td>\n",
       "    </tr>\n",
       "    <tr>\n",
       "      <th>40</th>\n",
       "      <td>General Electric</td>\n",
       "      <td>1448</td>\n",
       "      <td>35</td>\n",
       "      <td>22</td>\n",
       "      <td>687.15</td>\n",
       "      <td>3</td>\n",
       "      <td>3</td>\n",
       "      <td>1</td>\n",
       "      <td>1</td>\n",
       "      <td>3311</td>\n",
       "      <td>High Momentum Low Value</td>\n",
       "    </tr>\n",
       "    <tr>\n",
       "      <th>95</th>\n",
       "      <td>Walgreens</td>\n",
       "      <td>1448</td>\n",
       "      <td>44</td>\n",
       "      <td>33</td>\n",
       "      <td>-740.67</td>\n",
       "      <td>3</td>\n",
       "      <td>3</td>\n",
       "      <td>1</td>\n",
       "      <td>1</td>\n",
       "      <td>3311</td>\n",
       "      <td>High Momentum Low Value</td>\n",
       "    </tr>\n",
       "    <tr>\n",
       "      <th>18</th>\n",
       "      <td>Boeing</td>\n",
       "      <td>1460</td>\n",
       "      <td>34</td>\n",
       "      <td>49</td>\n",
       "      <td>666.54</td>\n",
       "      <td>3</td>\n",
       "      <td>3</td>\n",
       "      <td>2</td>\n",
       "      <td>1</td>\n",
       "      <td>3321</td>\n",
       "      <td>High Momentum Low Value</td>\n",
       "    </tr>\n",
       "    <tr>\n",
       "      <th>97</th>\n",
       "      <td>Walt Disney</td>\n",
       "      <td>1398</td>\n",
       "      <td>52</td>\n",
       "      <td>53</td>\n",
       "      <td>5786.83</td>\n",
       "      <td>2</td>\n",
       "      <td>3</td>\n",
       "      <td>3</td>\n",
       "      <td>4</td>\n",
       "      <td>2334</td>\n",
       "      <td>Top Priority Cust</td>\n",
       "    </tr>\n",
       "    <tr>\n",
       "      <th>...</th>\n",
       "      <td>...</td>\n",
       "      <td>...</td>\n",
       "      <td>...</td>\n",
       "      <td>...</td>\n",
       "      <td>...</td>\n",
       "      <td>...</td>\n",
       "      <td>...</td>\n",
       "      <td>...</td>\n",
       "      <td>...</td>\n",
       "      <td>...</td>\n",
       "      <td>...</td>\n",
       "    </tr>\n",
       "    <tr>\n",
       "      <th>60</th>\n",
       "      <td>Microsoft</td>\n",
       "      <td>1228</td>\n",
       "      <td>35</td>\n",
       "      <td>32</td>\n",
       "      <td>2501.43</td>\n",
       "      <td>1</td>\n",
       "      <td>3</td>\n",
       "      <td>1</td>\n",
       "      <td>2</td>\n",
       "      <td>1312</td>\n",
       "      <td>High Momentum Low Value</td>\n",
       "    </tr>\n",
       "    <tr>\n",
       "      <th>71</th>\n",
       "      <td>Petrobras</td>\n",
       "      <td>1333</td>\n",
       "      <td>59</td>\n",
       "      <td>26</td>\n",
       "      <td>184.10</td>\n",
       "      <td>1</td>\n",
       "      <td>3</td>\n",
       "      <td>1</td>\n",
       "      <td>1</td>\n",
       "      <td>1311</td>\n",
       "      <td>High Momentum Low Value</td>\n",
       "    </tr>\n",
       "    <tr>\n",
       "      <th>14</th>\n",
       "      <td>BNP Paribas</td>\n",
       "      <td>1392</td>\n",
       "      <td>32</td>\n",
       "      <td>81</td>\n",
       "      <td>5550.81</td>\n",
       "      <td>1</td>\n",
       "      <td>3</td>\n",
       "      <td>4</td>\n",
       "      <td>4</td>\n",
       "      <td>1344</td>\n",
       "      <td>Top Priority Cust</td>\n",
       "    </tr>\n",
       "    <tr>\n",
       "      <th>92</th>\n",
       "      <td>Valero Energy</td>\n",
       "      <td>1413</td>\n",
       "      <td>45</td>\n",
       "      <td>58</td>\n",
       "      <td>10308.63</td>\n",
       "      <td>2</td>\n",
       "      <td>3</td>\n",
       "      <td>3</td>\n",
       "      <td>4</td>\n",
       "      <td>2334</td>\n",
       "      <td>Top Priority Cust</td>\n",
       "    </tr>\n",
       "    <tr>\n",
       "      <th>51</th>\n",
       "      <td>Itochu</td>\n",
       "      <td>1451</td>\n",
       "      <td>32</td>\n",
       "      <td>69</td>\n",
       "      <td>1690.48</td>\n",
       "      <td>3</td>\n",
       "      <td>3</td>\n",
       "      <td>4</td>\n",
       "      <td>2</td>\n",
       "      <td>3342</td>\n",
       "      <td>High Momentum Low Value</td>\n",
       "    </tr>\n",
       "  </tbody>\n",
       "</table>\n",
       "<p>99 rows × 11 columns</p>\n",
       "</div>"
      ],
      "text/plain": [
       "                  Customer  length  recency  frequency  monetary  l_score  \\\n",
       "62  Mondelez International    1455       32         61   8577.65        3   \n",
       "40        General Electric    1448       35         22    687.15        3   \n",
       "95               Walgreens    1448       44         33   -740.67        3   \n",
       "18                  Boeing    1460       34         49    666.54        3   \n",
       "97             Walt Disney    1398       52         53   5786.83        2   \n",
       "..                     ...     ...      ...        ...       ...      ...   \n",
       "60               Microsoft    1228       35         32   2501.43        1   \n",
       "71               Petrobras    1333       59         26    184.10        1   \n",
       "14             BNP Paribas    1392       32         81   5550.81        1   \n",
       "92           Valero Energy    1413       45         58  10308.63        2   \n",
       "51                  Itochu    1451       32         69   1690.48        3   \n",
       "\n",
       "    r_score  f_score  m_score lrfm_score_combined    lrfm_segment_combined  \n",
       "62        3        4        4                3344        Top Priority Cust  \n",
       "40        3        1        1                3311  High Momentum Low Value  \n",
       "95        3        1        1                3311  High Momentum Low Value  \n",
       "18        3        2        1                3321  High Momentum Low Value  \n",
       "97        3        3        4                2334        Top Priority Cust  \n",
       "..      ...      ...      ...                 ...                      ...  \n",
       "60        3        1        2                1312  High Momentum Low Value  \n",
       "71        3        1        1                1311  High Momentum Low Value  \n",
       "14        3        4        4                1344        Top Priority Cust  \n",
       "92        3        3        4                2334        Top Priority Cust  \n",
       "51        3        4        2                3342  High Momentum Low Value  \n",
       "\n",
       "[99 rows x 11 columns]"
      ]
     },
     "execution_count": 71,
     "metadata": {},
     "output_type": "execute_result"
    }
   ],
   "source": [
    "seg_map = {\n",
    "    r'[1-4][1-2][1-2][1-2]': 'Low Momentum Low Value', # Customer yang kemungkinan churn, jarang bertransaksi dan keuntungannya kecil\n",
    "    r'[1-4][1-2][1-4][3-4]': 'Lost High Value Users', # Customer yang kemungkinan churn namun keuntungannya besar\n",
    "    r'[1-4][3-4][1-4][1-2]': 'High Momentum Low Value', # Customer yang sering bertransaksi namun keuntungannya kecil\n",
    "    r'[1-4][1-2][3-4][1-2]': 'Fading Frequent User', # Customer yang kemungkinan churn dan sering bertransaksi namun keuntungannya kecil\n",
    "    r'[1-4][3-4][1-2][1-4]': 'Potential Loyal Cust', # Customer yang cukup loyal namun keuntungannya kecil dan bisa meningkat\n",
    "    r'[1-4][3-4][3-4][3-4]': 'Top Priority Cust', # Customer yang loyal dan bertransaksi dengan keuntungan besar\n",
    "}\n",
    "    \n",
    "df_customer['lrfm_segment_combined'] = df_customer['lrfm_score_combined'].replace(seg_map, regex=True)\n",
    "df_customer.sample(99, random_state=42)"
   ]
  },
  {
   "cell_type": "code",
   "execution_count": 72,
   "id": "34c6ce9e",
   "metadata": {},
   "outputs": [
    {
     "name": "stdout",
     "output_type": "stream",
     "text": [
      "Terdapat beberapa pengelompokkan segmentasi customer berdasarkan nilai LRFM sebagai berikut:\n",
      "                Segment\n",
      "      Top Priority Cust\n",
      "High Momentum Low Value\n",
      "   Potential Loyal Cust\n",
      "  Lost High Value Users\n",
      " Low Momentum Low Value\n",
      "   Fading Frequent User\n",
      "\n",
      "Total pengelompokkan ada 6 kelompok\n"
     ]
    }
   ],
   "source": [
    "customer_segment = df_customer['lrfm_segment_combined'].unique()\n",
    "customer_segment = pd.DataFrame(customer_segment, columns=['Segment'])\n",
    "\n",
    "# Tampilkan tanpa index\n",
    "print(\"Terdapat beberapa pengelompokkan segmentasi customer berdasarkan nilai LRFM sebagai berikut:\")\n",
    "print(customer_segment.to_string(index=False))\n",
    "\n",
    "# Tampilkan total unik\n",
    "print(f'\\nTotal pengelompokkan ada {customer_segment[\"Segment\"].nunique()} kelompok')"
   ]
  },
  {
   "cell_type": "code",
   "execution_count": 74,
   "id": "74151da7",
   "metadata": {},
   "outputs": [
    {
     "name": "stdout",
     "output_type": "stream",
     "text": [
      "Seluruh tabel memiliki kelompok segmentasinya\n",
      "Jumlah tabel yang tidak memiliki kelompok : 0\n"
     ]
    }
   ],
   "source": [
    "count_missing_segment = df_customer['lrfm_segment_combined'].isnull().sum()\n",
    "\n",
    "if customer_segment is None:\n",
    "    print(f'Terdapat {count_missing_segment} tabel yang tidak memiliki segmentasi')\n",
    "else:\n",
    "    print(f'Seluruh tabel memiliki kelompok segmentasinya')\n",
    "    print(f'Jumlah tabel yang tidak memiliki kelompok : {count_missing_segment}')\n"
   ]
  },
  {
   "cell_type": "markdown",
   "id": "165ee4e5",
   "metadata": {},
   "source": [
    "##### **Heatmap Visualization**"
   ]
  },
  {
   "cell_type": "markdown",
   "id": "a82d5d12",
   "metadata": {},
   "source": [
    "Kita akan coba tampilkan karakteristik dari setiap segment dalam bentuk visualisasi sebagai berikut:"
   ]
  },
  {
   "cell_type": "code",
   "execution_count": 75,
   "id": "b99b0c75",
   "metadata": {},
   "outputs": [
    {
     "data": {
      "image/png": "[encoded data removed]",
      "text/plain": [
       "<Figure size 640x480 with 2 Axes>"
      ]
     },
     "metadata": {},
     "output_type": "display_data"
    }
   ],
   "source": [
    "lrfm_heatmap = df_customer.pivot_table(index='lrfm_segment_combined', values=['length', 'recency', 'frequency', 'monetary'], aggfunc='median')\n",
    "\n",
    "# Create the heatmap\n",
    "sns.heatmap(lrfm_heatmap, cmap='YlGnBu', annot=True, fmt=\".2f\")\n",
    "plt.title('LRFM Analysis Heatmap')\n",
    "plt.show()"
   ]
  },
  {
   "cell_type": "code",
   "execution_count": 76,
   "id": "85c84fd3",
   "metadata": {},
   "outputs": [
    {
     "data": {
      "application/vnd.plotly.v1+json": {
       "config": {
        "plotlyServerURL": "https://plot.ly"
       },
       "data": [
        {
         "hovertemplate": "lrfm_segment_combined=Top Priority Cust<br>recency=%{x}<br>frequency=%{y}<br>monetary=%{z}<extra></extra>",
         "legendgroup": "Top Priority Cust",
         "marker": {
          "color": "yellow",
          "size": 3,
          "symbol": "circle"
         },
         "mode": "markers",
         "name": "Top Priority Cust",
         "scene": "scene",
         "showlegend": true,
         "type": "scatter3d",
         "x": {
          "bdata": "JzM5HyUhJSAnLiIyOCUkHx8lICAsJCMgJCUgLTM0",
          "dtype": "i1"
         },
         "y": {
          "bdata": "Q0w6ZkdEOlFBPU09NjZnQ0w6NT1FOkk5Ojg5OkE1",
          "dtype": "i1"
         },
         "z": {
          "bdata": "XI/C9aiosUCkcD0KV+GpQIXrUbhe2bVAexSuR+GbtUD2KFyPQjy1QHsUrkfharBAMzMzMzNBt0DD9Shcz661QI/C9SjcMblA9ihcj0JVsEDNzMzMzOOrQKRwPQpXKLBAj8L1KFxfpEBI4XoULt+vQNejcD2KVa9AKVyPwnUYskCamZmZGXC4QArXo3B9Ab9ApHA9ChfNu0AzMzMz08DAQK5H4XoURLJApHA9ClcuqUDsUbgehVGlQAAAAACAGaZAuB6F61ENqEDhehSuR4WqQK5H4XqUDLNAPQrXo1AixEA9CtejMMKxQK5H4XrUmrZA",
          "dtype": "f8"
         }
        },
        {
         "hovertemplate": "lrfm_segment_combined=High Momentum Low Value<br>recency=%{x}<br>frequency=%{y}<br>monetary=%{z}<extra></extra>",
         "legendgroup": "High Momentum Low Value",
         "marker": {
          "color": "pink",
          "size": 3,
          "symbol": "circle"
         },
         "mode": "markers",
         "name": "High Momentum Low Value",
         "scene": "scene",
         "showlegend": true,
         "type": "scatter3d",
         "x": {
          "bdata": "Kh8rHiIiNCYuLSAfIzk8JiMzICsgJCQeIy8eHyQjNDsiKyojOR41LCA=",
          "dtype": "i1"
         },
         "y": {
          "bdata": "Hz0+KhkxPDoqKk0lKTYkORY5KDxFNicgIDA8KDwoKBovHkEzFFcwIS8=",
          "dtype": "i1"
         },
         "z": {
          "bdata": "FK5H4XrToUCuR+F6lNilwClcj8L156BAPQrXo3AJl0CkcD0K12WJQLgehetR1IRAhetRuB5/nMBxPQrXI/CgQLgehetRJqRAzczMzMyLoEC4HoXr0U2gQGZmZmZmK5XA9ihcj8JLj0DsUbgehR2SQOxRuB6FY2xA4XoUrkdCkUAzMzMzM3mFQD0K16PwqKNAZmZmZmYWYcDhehSuR/aaQFK4HoXraZpArkfhehRim0Bcj8L1KFmbQM3MzMzMZI5Aj8L1KNyKo0D2KFyPwhOaQClcj8L1nHbA9ihcj8LEmMAfhetRuEOXQHsUrkfhDo9AAAAAAIAkoUAzMzMzMwNnQMP1KFyPNJBAzczMzMzaoEAfhetRuFCcQMP1KFyP6nzACtejcD3dkkC4HoXrUWqaQGZmZmZm8p9Aj8L1KFwlh8DNzMzMTEqiQA==",
          "dtype": "f8"
         }
        },
        {
         "hovertemplate": "lrfm_segment_combined=Potential Loyal Cust<br>recency=%{x}<br>frequency=%{y}<br>monetary=%{z}<extra></extra>",
         "legendgroup": "Potential Loyal Cust",
         "marker": {
          "color": "green",
          "size": 3,
          "symbol": "circle"
         },
         "mode": "markers",
         "name": "Potential Loyal Cust",
         "scene": "scene",
         "showlegend": true,
         "type": "scatter3d",
         "x": {
          "bdata": "JCAuJysnIzkqOyUqMg==",
          "dtype": "i1"
         },
         "y": {
          "bdata": "GDIqJjMqJR4tMTQlLg==",
          "dtype": "i1"
         },
         "z": {
          "bdata": "MzMzM7MYr0AK16NwPVWsQEjhehSuJ6lA9ihcj4J0wkDD9Shcz5+0QAAAAAAAgKVApHA9CtcrpEApXI/C9QqlQGZmZmbmi7RAXI/C9ahppEDXo3A96lHBQHsUrkehm7RA9ihcj0JOqEA=",
          "dtype": "f8"
         }
        },
        {
         "hovertemplate": "lrfm_segment_combined=Lost High Value Users<br>recency=%{x}<br>frequency=%{y}<br>monetary=%{z}<extra></extra>",
         "legendgroup": "Lost High Value Users",
         "marker": {
          "color": "purple",
          "size": 3,
          "symbol": "circle"
         },
         "mode": "markers",
         "name": "Lost High Value Users",
         "scene": "scene",
         "showlegend": true,
         "type": "scatter3d",
         "x": {
          "bdata": "SUNQfkk/",
          "dtype": "i1"
         },
         "y": {
          "bdata": "ODYaJVYo",
          "dtype": "i1"
         },
         "z": {
          "bdata": "mpmZmRk8t0CuR+F6VJCxQGZmZmYmdrFAmpmZmRn6pUD2KFyPgne5QArXo3C9bqpA",
          "dtype": "f8"
         }
        },
        {
         "hovertemplate": "lrfm_segment_combined=Low Momentum Low Value<br>recency=%{x}<br>frequency=%{y}<br>monetary=%{z}<extra></extra>",
         "legendgroup": "Low Momentum Low Value",
         "marker": {
          "color": "gray",
          "size": 3,
          "symbol": "circle"
         },
         "mode": "markers",
         "name": "Low Momentum Low Value",
         "scene": "scene",
         "showlegend": true,
         "type": "scatter3d",
         "x": {
          "bdata": "RQANAUkAaQBbAGkAagBBAA==",
          "dtype": "i2"
         },
         "y": {
          "bdata": "JA0XHSkfFBg=",
          "dtype": "i1"
         },
         "z": {
          "bdata": "pHA9CtfjgkDhehSuR6V9QHE9Ctej8CvAhetRuB7vhkCamZmZmRlawI/C9ShcAJ9Aj8L1KFyHfUCkcD0K12aaQA==",
          "dtype": "f8"
         }
        },
        {
         "hovertemplate": "lrfm_segment_combined=Fading Frequent User<br>recency=%{x}<br>frequency=%{y}<br>monetary=%{z}<extra></extra>",
         "legendgroup": "Fading Frequent User",
         "marker": {
          "color": "blue",
          "size": 3,
          "symbol": "circle"
         },
         "mode": "markers",
         "name": "Fading Frequent User",
         "scene": "scene",
         "showlegend": true,
         "type": "scatter3d",
         "x": {
          "bdata": "kwA=",
          "dtype": "i2"
         },
         "y": {
          "bdata": "Ng==",
          "dtype": "i1"
         },
         "z": {
          "bdata": "ZmZmZuZ8oEA=",
          "dtype": "f8"
         }
        }
       ],
       "layout": {
        "legend": {
         "itemsizing": "constant",
         "itemwidth": 30,
         "title": {
          "text": "lrfm_segment_combined"
         },
         "tracegroupgap": 0,
         "x": 0.7,
         "xanchor": "left",
         "y": 0.97,
         "yanchor": "top"
        },
        "margin": {
         "b": 0,
         "l": 0,
         "r": 0,
         "t": 0
        },
        "scene": {
         "domain": {
          "x": [
           0,
           1
          ],
          "y": [
           0,
           1
          ]
         },
         "xaxis": {
          "title": {
           "text": "recency"
          }
         },
         "yaxis": {
          "title": {
           "text": "frequency"
          }
         },
         "zaxis": {
          "title": {
           "text": "monetary"
          }
         }
        },
        "template": {
         "data": {
          "bar": [
           {
            "error_x": {
             "color": "#2a3f5f"
            },
            "error_y": {
             "color": "#2a3f5f"
            },
            "marker": {
             "line": {
              "color": "#E5ECF6",
              "width": 0.5
             },
             "pattern": {
              "fillmode": "overlay",
              "size": 10,
              "solidity": 0.2
             }
            },
            "type": "bar"
           }
          ],
          "barpolar": [
           {
            "marker": {
             "line": {
              "color": "#E5ECF6",
              "width": 0.5
             },
             "pattern": {
              "fillmode": "overlay",
              "size": 10,
              "solidity": 0.2
             }
            },
            "type": "barpolar"
           }
          ],
          "carpet": [
           {
            "aaxis": {
             "endlinecolor": "#2a3f5f",
             "gridcolor": "white",
             "linecolor": "white",
             "minorgridcolor": "white",
             "startlinecolor": "#2a3f5f"
            },
            "baxis": {
             "endlinecolor": "#2a3f5f",
             "gridcolor": "white",
             "linecolor": "white",
             "minorgridcolor": "white",
             "startlinecolor": "#2a3f5f"
            },
            "type": "carpet"
           }
          ],
          "choropleth": [
           {
            "colorbar": {
             "outlinewidth": 0,
             "ticks": ""
            },
            "type": "choropleth"
           }
          ],
          "contour": [
           {
            "colorbar": {
             "outlinewidth": 0,
             "ticks": ""
            },
            "colorscale": [
             [
              0,
              "#0d0887"
             ],
             [
              0.1111111111111111,
              "#46039f"
             ],
             [
              0.2222222222222222,
              "#7201a8"
             ],
             [
              0.3333333333333333,
              "#9c179e"
             ],
             [
              0.4444444444444444,
              "#bd3786"
             ],
             [
              0.5555555555555556,
              "#d8576b"
             ],
             [
              0.6666666666666666,
              "#ed7953"
             ],
             [
              0.7777777777777778,
              "#fb9f3a"
             ],
             [
              0.8888888888888888,
              "#fdca26"
             ],
             [
              1,
              "#f0f921"
             ]
            ],
            "type": "contour"
           }
          ],
          "contourcarpet": [
           {
            "colorbar": {
             "outlinewidth": 0,
             "ticks": ""
            },
            "type": "contourcarpet"
           }
          ],
          "heatmap": [
           {
            "colorbar": {
             "outlinewidth": 0,
             "ticks": ""
            },
            "colorscale": [
             [
              0,
              "#0d0887"
             ],
             [
              0.1111111111111111,
              "#46039f"
             ],
             [
              0.2222222222222222,
              "#7201a8"
             ],
             [
              0.3333333333333333,
              "#9c179e"
             ],
             [
              0.4444444444444444,
              "#bd3786"
             ],
             [
              0.5555555555555556,
              "#d8576b"
             ],
             [
              0.6666666666666666,
              "#ed7953"
             ],
             [
              0.7777777777777778,
              "#fb9f3a"
             ],
             [
              0.8888888888888888,
              "#fdca26"
             ],
             [
              1,
              "#f0f921"
             ]
            ],
            "type": "heatmap"
           }
          ],
          "histogram": [
           {
            "marker": {
             "pattern": {
              "fillmode": "overlay",
              "size": 10,
              "solidity": 0.2
             }
            },
            "type": "histogram"
           }
          ],
          "histogram2d": [
           {
            "colorbar": {
             "outlinewidth": 0,
             "ticks": ""
            },
            "colorscale": [
             [
              0,
              "#0d0887"
             ],
             [
              0.1111111111111111,
              "#46039f"
             ],
             [
              0.2222222222222222,
              "#7201a8"
             ],
             [
              0.3333333333333333,
              "#9c179e"
             ],
             [
              0.4444444444444444,
              "#bd3786"
             ],
             [
              0.5555555555555556,
              "#d8576b"
             ],
             [
              0.6666666666666666,
              "#ed7953"
             ],
             [
              0.7777777777777778,
              "#fb9f3a"
             ],
             [
              0.8888888888888888,
              "#fdca26"
             ],
             [
              1,
              "#f0f921"
             ]
            ],
            "type": "histogram2d"
           }
          ],
          "histogram2dcontour": [
           {
            "colorbar": {
             "outlinewidth": 0,
             "ticks": ""
            },
            "colorscale": [
             [
              0,
              "#0d0887"
             ],
             [
              0.1111111111111111,
              "#46039f"
             ],
             [
              0.2222222222222222,
              "#7201a8"
             ],
             [
              0.3333333333333333,
              "#9c179e"
             ],
             [
              0.4444444444444444,
              "#bd3786"
             ],
             [
              0.5555555555555556,
              "#d8576b"
             ],
             [
              0.6666666666666666,
              "#ed7953"
             ],
             [
              0.7777777777777778,
              "#fb9f3a"
             ],
             [
              0.8888888888888888,
              "#fdca26"
             ],
             [
              1,
              "#f0f921"
             ]
            ],
            "type": "histogram2dcontour"
           }
          ],
          "mesh3d": [
           {
            "colorbar": {
             "outlinewidth": 0,
             "ticks": ""
            },
            "type": "mesh3d"
           }
          ],
          "parcoords": [
           {
            "line": {
             "colorbar": {
              "outlinewidth": 0,
              "ticks": ""
             }
            },
            "type": "parcoords"
           }
          ],
          "pie": [
           {
            "automargin": true,
            "type": "pie"
           }
          ],
          "scatter": [
           {
            "fillpattern": {
             "fillmode": "overlay",
             "size": 10,
             "solidity": 0.2
            },
            "type": "scatter"
           }
          ],
          "scatter3d": [
           {
            "line": {
             "colorbar": {
              "outlinewidth": 0,
              "ticks": ""
             }
            },
            "marker": {
             "colorbar": {
              "outlinewidth": 0,
              "ticks": ""
             }
            },
            "type": "scatter3d"
           }
          ],
          "scattercarpet": [
           {
            "marker": {
             "colorbar": {
              "outlinewidth": 0,
              "ticks": ""
             }
            },
            "type": "scattercarpet"
           }
          ],
          "scattergeo": [
           {
            "marker": {
             "colorbar": {
              "outlinewidth": 0,
              "ticks": ""
             }
            },
            "type": "scattergeo"
           }
          ],
          "scattergl": [
           {
            "marker": {
             "colorbar": {
              "outlinewidth": 0,
              "ticks": ""
             }
            },
            "type": "scattergl"
           }
          ],
          "scattermap": [
           {
            "marker": {
             "colorbar": {
              "outlinewidth": 0,
              "ticks": ""
             }
            },
            "type": "scattermap"
           }
          ],
          "scattermapbox": [
           {
            "marker": {
             "colorbar": {
              "outlinewidth": 0,
              "ticks": ""
             }
            },
            "type": "scattermapbox"
           }
          ],
          "scatterpolar": [
           {
            "marker": {
             "colorbar": {
              "outlinewidth": 0,
              "ticks": ""
             }
            },
            "type": "scatterpolar"
           }
          ],
          "scatterpolargl": [
           {
            "marker": {
             "colorbar": {
              "outlinewidth": 0,
              "ticks": ""
             }
            },
            "type": "scatterpolargl"
           }
          ],
          "scatterternary": [
           {
            "marker": {
             "colorbar": {
              "outlinewidth": 0,
              "ticks": ""
             }
            },
            "type": "scatterternary"
           }
          ],
          "surface": [
           {
            "colorbar": {
             "outlinewidth": 0,
             "ticks": ""
            },
            "colorscale": [
             [
              0,
              "#0d0887"
             ],
             [
              0.1111111111111111,
              "#46039f"
             ],
             [
              0.2222222222222222,
              "#7201a8"
             ],
             [
              0.3333333333333333,
              "#9c179e"
             ],
             [
              0.4444444444444444,
              "#bd3786"
             ],
             [
              0.5555555555555556,
              "#d8576b"
             ],
             [
              0.6666666666666666,
              "#ed7953"
             ],
             [
              0.7777777777777778,
              "#fb9f3a"
             ],
             [
              0.8888888888888888,
              "#fdca26"
             ],
             [
              1,
              "#f0f921"
             ]
            ],
            "type": "surface"
           }
          ],
          "table": [
           {
            "cells": {
             "fill": {
              "color": "#EBF0F8"
             },
             "line": {
              "color": "white"
             }
            },
            "header": {
             "fill": {
              "color": "#C8D4E3"
             },
             "line": {
              "color": "white"
             }
            },
            "type": "table"
           }
          ]
         },
         "layout": {
          "annotationdefaults": {
           "arrowcolor": "#2a3f5f",
           "arrowhead": 0,
           "arrowwidth": 1
          },
          "autotypenumbers": "strict",
          "coloraxis": {
           "colorbar": {
            "outlinewidth": 0,
            "ticks": ""
           }
          },
          "colorscale": {
           "diverging": [
            [
             0,
             "#8e0152"
            ],
            [
             0.1,
             "#c51b7d"
            ],
            [
             0.2,
             "#de77ae"
            ],
            [
             0.3,
             "#f1b6da"
            ],
            [
             0.4,
             "#fde0ef"
            ],
            [
             0.5,
             "#f7f7f7"
            ],
            [
             0.6,
             "#e6f5d0"
            ],
            [
             0.7,
             "#b8e186"
            ],
            [
             0.8,
             "#7fbc41"
            ],
            [
             0.9,
             "#4d9221"
            ],
            [
             1,
             "#276419"
            ]
           ],
           "sequential": [
            [
             0,
             "#0d0887"
            ],
            [
             0.1111111111111111,
             "#46039f"
            ],
            [
             0.2222222222222222,
             "#7201a8"
            ],
            [
             0.3333333333333333,
             "#9c179e"
            ],
            [
             0.4444444444444444,
             "#bd3786"
            ],
            [
             0.5555555555555556,
             "#d8576b"
            ],
            [
             0.6666666666666666,
             "#ed7953"
            ],
            [
             0.7777777777777778,
             "#fb9f3a"
            ],
            [
             0.8888888888888888,
             "#fdca26"
            ],
            [
             1,
             "#f0f921"
            ]
           ],
           "sequentialminus": [
            [
             0,
             "#0d0887"
            ],
            [
             0.1111111111111111,
             "#46039f"
            ],
            [
             0.2222222222222222,
             "#7201a8"
            ],
            [
             0.3333333333333333,
             "#9c179e"
            ],
            [
             0.4444444444444444,
             "#bd3786"
            ],
            [
             0.5555555555555556,
             "#d8576b"
            ],
            [
             0.6666666666666666,
             "#ed7953"
            ],
            [
             0.7777777777777778,
             "#fb9f3a"
            ],
            [
             0.8888888888888888,
             "#fdca26"
            ],
            [
             1,
             "#f0f921"
            ]
           ]
          },
          "colorway": [
           "#636efa",
           "#EF553B",
           "#00cc96",
           "#ab63fa",
           "#FFA15A",
           "#19d3f3",
           "#FF6692",
           "#B6E880",
           "#FF97FF",
           "#FECB52"
          ],
          "font": {
           "color": "#2a3f5f"
          },
          "geo": {
           "bgcolor": "white",
           "lakecolor": "white",
           "landcolor": "#E5ECF6",
           "showlakes": true,
           "showland": true,
           "subunitcolor": "white"
          },
          "hoverlabel": {
           "align": "left"
          },
          "hovermode": "closest",
          "mapbox": {
           "style": "light"
          },
          "paper_bgcolor": "white",
          "plot_bgcolor": "#E5ECF6",
          "polar": {
           "angularaxis": {
            "gridcolor": "white",
            "linecolor": "white",
            "ticks": ""
           },
           "bgcolor": "#E5ECF6",
           "radialaxis": {
            "gridcolor": "white",
            "linecolor": "white",
            "ticks": ""
           }
          },
          "scene": {
           "xaxis": {
            "backgroundcolor": "#E5ECF6",
            "gridcolor": "white",
            "gridwidth": 2,
            "linecolor": "white",
            "showbackground": true,
            "ticks": "",
            "zerolinecolor": "white"
           },
           "yaxis": {
            "backgroundcolor": "#E5ECF6",
            "gridcolor": "white",
            "gridwidth": 2,
            "linecolor": "white",
            "showbackground": true,
            "ticks": "",
            "zerolinecolor": "white"
           },
           "zaxis": {
            "backgroundcolor": "#E5ECF6",
            "gridcolor": "white",
            "gridwidth": 2,
            "linecolor": "white",
            "showbackground": true,
            "ticks": "",
            "zerolinecolor": "white"
           }
          },
          "shapedefaults": {
           "line": {
            "color": "#2a3f5f"
           }
          },
          "ternary": {
           "aaxis": {
            "gridcolor": "white",
            "linecolor": "white",
            "ticks": ""
           },
           "baxis": {
            "gridcolor": "white",
            "linecolor": "white",
            "ticks": ""
           },
           "bgcolor": "#E5ECF6",
           "caxis": {
            "gridcolor": "white",
            "linecolor": "white",
            "ticks": ""
           }
          },
          "title": {
           "x": 0.05
          },
          "xaxis": {
           "automargin": true,
           "gridcolor": "white",
           "linecolor": "white",
           "ticks": "",
           "title": {
            "standoff": 15
           },
           "zerolinecolor": "white",
           "zerolinewidth": 2
          },
          "yaxis": {
           "automargin": true,
           "gridcolor": "white",
           "linecolor": "white",
           "ticks": "",
           "title": {
            "standoff": 15
           },
           "zerolinecolor": "white",
           "zerolinewidth": 2
          }
         }
        },
        "title": {
         "text": "LRFM segmentation",
         "x": 0.45,
         "xanchor": "center",
         "y": 0.97,
         "yanchor": "top"
        },
        "xaxis": {
         "tickformat": ".0f"
        }
       }
      }
     },
     "metadata": {},
     "output_type": "display_data"
    }
   ],
   "source": [
    "import plotly.express as px\n",
    "\n",
    "color_map = {\n",
    "    'Low Momentum Low Value' : 'gray',\n",
    "    'Lost High Value Users' : 'purple', \n",
    "    'High Momentum Low Value' : 'pink', \n",
    "    'Fading Frequent User' : 'blue', \n",
    "    'Potential Loyal Cust' : 'green', \n",
    "    'Top Priority Cust' : 'yellow', \n",
    "    'Potential Value Cust' : 'orange',\n",
    "}\n",
    "\n",
    "fig = px.scatter_3d(\n",
    "    df_customer, \n",
    "    x='recency', \n",
    "    y='frequency', \n",
    "    z='monetary',\n",
    "    color='lrfm_segment_combined', \n",
    "    color_discrete_map=color_map, \n",
    ")\n",
    "                          \n",
    "fig.update_traces(marker_size = 3)\n",
    "\n",
    "# tight layout\n",
    "fig.update_layout(margin=dict(l=0, r=0, b=0, t=0),\n",
    "                  title={\n",
    "                    'text': \"LRFM segmentation\",\n",
    "                    'y':0.97,\n",
    "                    'x':0.45,\n",
    "                    'xanchor': 'center',\n",
    "                    'yanchor': 'top'},\n",
    "                    legend=dict(\n",
    "                      yanchor=\"top\",\n",
    "                      y=0.97,\n",
    "                      xanchor=\"left\",\n",
    "                      x=0.70,\n",
    "                      itemsizing='constant',\n",
    "                      itemwidth = 30))\n",
    "\n",
    "fig.update_xaxes(tickformat=\".0f\")"
   ]
  },
  {
   "cell_type": "markdown",
   "id": "a6ad8075",
   "metadata": {},
   "source": [
    "##### **Total Customer per Segmentation**\n",
    "\n",
    "Melihat banyaknya jumlah pelanggan yang sudah dibagikan menjadi kelompok segmentasi berdasarkan nilai LRFM sehingga mengetahui proporsi pelanggan"
   ]
  },
  {
   "cell_type": "code",
   "execution_count": 57,
   "id": "526c860d",
   "metadata": {},
   "outputs": [],
   "source": [
    "df_customer.reset_index(inplace=True)"
   ]
  },
  {
   "cell_type": "code",
   "execution_count": 77,
   "id": "209b2379",
   "metadata": {},
   "outputs": [
    {
     "data": {
      "application/vnd.microsoft.datawrangler.viewer.v0+json": {
       "columns": [
        {
         "name": "index",
         "rawType": "int64",
         "type": "integer"
        },
        {
         "name": "Customer",
         "rawType": "object",
         "type": "string"
        },
        {
         "name": "length",
         "rawType": "int64",
         "type": "integer"
        },
        {
         "name": "recency",
         "rawType": "int64",
         "type": "integer"
        },
        {
         "name": "frequency",
         "rawType": "int64",
         "type": "integer"
        },
        {
         "name": "monetary",
         "rawType": "float64",
         "type": "float"
        },
        {
         "name": "l_score",
         "rawType": "int64",
         "type": "integer"
        },
        {
         "name": "r_score",
         "rawType": "int64",
         "type": "integer"
        },
        {
         "name": "f_score",
         "rawType": "int64",
         "type": "integer"
        },
        {
         "name": "m_score",
         "rawType": "int64",
         "type": "integer"
        },
        {
         "name": "lrfm_score_combined",
         "rawType": "object",
         "type": "string"
        },
        {
         "name": "lrfm_segment_combined",
         "rawType": "object",
         "type": "string"
        }
       ],
       "ref": "c976ccfa-32f8-4293-b049-048e86cd6bc9",
       "rows": [
        [
         "0",
         "AT&T",
         "1420",
         "39",
         "67",
         "4520.66",
         "2",
         "3",
         "4",
         "4",
         "2344",
         "Top Priority Cust"
        ],
        [
         "1",
         "Abbott Laboratories",
         "1385",
         "42",
         "31",
         "2281.74",
         "1",
         "3",
         "1",
         "2",
         "1312",
         "High Momentum Low Value"
        ],
        [
         "2",
         "Aetna",
         "1400",
         "51",
         "76",
         "3312.67",
         "2",
         "3",
         "4",
         "3",
         "2343",
         "Top Priority Cust"
        ],
        [
         "3",
         "Airbus",
         "1480",
         "57",
         "58",
         "5593.37",
         "4",
         "3",
         "3",
         "4",
         "4334",
         "Top Priority Cust"
        ],
        [
         "4",
         "Allianz",
         "1414",
         "31",
         "102",
         "5531.88",
         "2",
         "3",
         "4",
         "4",
         "2344",
         "Top Priority Cust"
        ],
        [
         "5",
         "Allstate",
         "1441",
         "31",
         "61",
         "-2796.29",
         "3",
         "3",
         "4",
         "1",
         "3341",
         "High Momentum Low Value"
        ],
        [
         "6",
         "Alphabet",
         "1345",
         "36",
         "24",
         "3980.35",
         "1",
         "3",
         "1",
         "3",
         "1313",
         "Potential Loyal Cust"
        ],
        [
         "7",
         "Amazon",
         "1477",
         "43",
         "62",
         "2163.98",
         "4",
         "3",
         "4",
         "2",
         "4342",
         "High Momentum Low Value"
        ],
        [
         "8",
         "American Express",
         "1430",
         "37",
         "71",
         "5436.26",
         "3",
         "3",
         "4",
         "4",
         "3344",
         "Top Priority Cust"
        ],
        [
         "9",
         "AmerisourceBergen",
         "1436",
         "33",
         "68",
         "4202.88",
         "3",
         "3",
         "4",
         "3",
         "3343",
         "Top Priority Cust"
        ],
        [
         "10",
         "Anthem",
         "1477",
         "37",
         "58",
         "5953.2",
         "4",
         "3",
         "3",
         "4",
         "4334",
         "Top Priority Cust"
        ],
        [
         "11",
         "Apple",
         "1481",
         "32",
         "50",
         "3626.62",
         "4",
         "3",
         "2",
         "3",
         "4323",
         "Potential Loyal Cust"
        ],
        [
         "12",
         "Aviva",
         "1475",
         "30",
         "42",
         "1474.36",
         "4",
         "4",
         "2",
         "2",
         "4422",
         "High Momentum Low Value"
        ],
        [
         "13",
         "BMW",
         "1464",
         "73",
         "56",
         "5948.1",
         "4",
         "2",
         "3",
         "4",
         "4234",
         "Lost High Value Users"
        ],
        [
         "14",
         "BNP Paribas",
         "1392",
         "32",
         "81",
         "5550.81",
         "1",
         "3",
         "4",
         "4",
         "1344",
         "Top Priority Cust"
        ],
        [
         "15",
         "Banco Santander",
         "1420",
         "69",
         "36",
         "604.48",
         "2",
         "2",
         "1",
         "1",
         "2211",
         "Low Momentum Low Value"
        ],
        [
         "16",
         "Bank of America Corp.",
         "1324",
         "39",
         "65",
         "6449.86",
         "1",
         "3",
         "4",
         "4",
         "1344",
         "Top Priority Cust"
        ],
        [
         "17",
         "Berkshire Hathaway",
         "1400",
         "34",
         "25",
         "812.73",
         "2",
         "3",
         "1",
         "1",
         "2311",
         "High Momentum Low Value"
        ],
        [
         "18",
         "Boeing",
         "1460",
         "34",
         "49",
         "666.54",
         "3",
         "3",
         "2",
         "1",
         "3321",
         "High Momentum Low Value"
        ],
        [
         "19",
         "Bosch",
         "1477",
         "52",
         "60",
         "-1823.78",
         "4",
         "3",
         "3",
         "1",
         "4331",
         "High Momentum Low Value"
        ],
        [
         "20",
         "CVS Health",
         "1486",
         "46",
         "61",
         "4181.26",
         "4",
         "3",
         "4",
         "3",
         "4343",
         "Top Priority Cust"
        ],
        [
         "21",
         "Carrefour",
         "1457",
         "38",
         "58",
         "2168.07",
         "3",
         "3",
         "3",
         "2",
         "3332",
         "High Momentum Low Value"
        ],
        [
         "22",
         "Caterpillar",
         "1403",
         "46",
         "42",
         "2579.16",
         "2",
         "3",
         "2",
         "2",
         "2322",
         "High Momentum Low Value"
        ],
        [
         "23",
         "Chevron",
         "1437",
         "34",
         "77",
         "3569.9",
         "3",
         "3",
         "4",
         "3",
         "3343",
         "Top Priority Cust"
        ],
        [
         "24",
         "China National Petroleum",
         "1254",
         "67",
         "54",
         "4496.33",
         "1",
         "2",
         "3",
         "4",
         "1234",
         "Lost High Value Users"
        ],
        [
         "25",
         "Cigna",
         "1398",
         "45",
         "42",
         "2117.9",
         "2",
         "3",
         "2",
         "2",
         "2322",
         "High Momentum Low Value"
        ],
        [
         "26",
         "Cisco Systems",
         "1403",
         "46",
         "42",
         "3219.84",
         "2",
         "3",
         "2",
         "3",
         "2323",
         "Potential Loyal Cust"
        ],
        [
         "27",
         "Citigroup",
         "1375",
         "269",
         "13",
         "474.33",
         "1",
         "1",
         "1",
         "1",
         "1111",
         "Low Momentum Low Value"
        ],
        [
         "28",
         "Coca-Cola",
         "1432",
         "39",
         "38",
         "9449.02",
         "3",
         "3",
         "1",
         "4",
         "3314",
         "Potential Loyal Cust"
        ],
        [
         "29",
         "Comcast",
         "1417",
         "32",
         "77",
         "2086.91",
         "2",
         "3",
         "4",
         "2",
         "2342",
         "High Momentum Low Value"
        ],
        [
         "30",
         "ConocoPhillips",
         "1484",
         "50",
         "61",
         "4136.34",
         "4",
         "3",
         "4",
         "3",
         "4343",
         "Top Priority Cust"
        ],
        [
         "31",
         "Costco Wholesale",
         "1374",
         "31",
         "37",
         "-1354.85",
         "1",
         "3",
         "1",
         "1",
         "1311",
         "High Momentum Low Value"
        ],
        [
         "32",
         "Daimler",
         "1395",
         "56",
         "54",
         "2607.68",
         "1",
         "3",
         "3",
         "3",
         "1333",
         "Top Priority Cust"
        ],
        [
         "33",
         "Enel",
         "1444",
         "35",
         "41",
         "1001.47",
         "3",
         "3",
         "2",
         "1",
         "3321",
         "High Momentum Low Value"
        ],
        [
         "34",
         "Engie",
         "1472",
         "57",
         "54",
         "1159.38",
         "4",
         "3",
         "3",
         "1",
         "4331",
         "High Momentum Low Value"
        ],
        [
         "35",
         "Exxon Mobil",
         "1484",
         "60",
         "36",
         "227.11",
         "4",
         "3",
         "1",
         "1",
         "4311",
         "High Momentum Low Value"
        ],
        [
         "36",
         "Fannie Mae",
         "1389",
         "37",
         "54",
         "4079.59",
         "1",
         "3",
         "3",
         "3",
         "1333",
         "Top Priority Cust"
        ],
        [
         "37",
         "FedEx",
         "1372",
         "38",
         "57",
         "1104.57",
         "1",
         "3",
         "3",
         "1",
         "1331",
         "High Momentum Low Value"
        ],
        [
         "38",
         "Ford Motor",
         "1428",
         "36",
         "103",
         "4010.77",
         "2",
         "3",
         "4",
         "3",
         "2343",
         "Top Priority Cust"
        ],
        [
         "39",
         "Gazprom",
         "1270",
         "73",
         "23",
         "-13.97",
         "1",
         "2",
         "1",
         "1",
         "1211",
         "Low Momentum Low Value"
        ],
        [
         "40",
         "General Electric",
         "1448",
         "35",
         "22",
         "687.15",
         "3",
         "3",
         "1",
         "1",
         "3311",
         "High Momentum Low Value"
        ],
        [
         "41",
         "General Motors",
         "1405",
         "105",
         "29",
         "733.89",
         "2",
         "1",
         "1",
         "1",
         "2111",
         "Low Momentum Low Value"
        ],
        [
         "42",
         "Glencore",
         "1403",
         "80",
         "26",
         "4470.15",
         "2",
         "2",
         "1",
         "3",
         "2213",
         "Lost High Value Users"
        ],
        [
         "43",
         "Goldman Sachs Group",
         "1474",
         "51",
         "57",
         "2516.47",
         "4",
         "3",
         "3",
         "2",
         "4332",
         "High Momentum Low Value"
        ],
        [
         "44",
         "HSBC Holdings",
         "1452",
         "91",
         "41",
         "-104.4",
         "3",
         "1",
         "2",
         "1",
         "3121",
         "Low Momentum Low Value"
        ],
        [
         "45",
         "Home Depot",
         "1413",
         "43",
         "51",
         "5279.81",
         "2",
         "3",
         "2",
         "4",
         "2324",
         "Potential Loyal Cust"
        ],
        [
         "46",
         "HonHai Precision Industry",
         "1401",
         "32",
         "40",
         "-136.7",
         "2",
         "3",
         "2",
         "1",
         "2321",
         "High Momentum Low Value"
        ],
        [
         "47",
         "Honda Motor",
         "1462",
         "39",
         "42",
         "2752.0",
         "3",
         "3",
         "2",
         "3",
         "3323",
         "Potential Loyal Cust"
        ],
        [
         "48",
         "Huawei",
         "1467",
         "105",
         "31",
         "1984.09",
         "4",
         "1",
         "1",
         "2",
         "4112",
         "Low Momentum Low Value"
        ],
        [
         "49",
         "Humana",
         "1365",
         "35",
         "37",
         "2581.92",
         "1",
         "3",
         "1",
         "3",
         "1313",
         "Potential Loyal Cust"
        ]
       ],
       "shape": {
        "columns": 11,
        "rows": 99
       }
      },
      "text/html": [
       "<div>\n",
       "<style scoped>\n",
       "    .dataframe tbody tr th:only-of-type {\n",
       "        vertical-align: middle;\n",
       "    }\n",
       "\n",
       "    .dataframe tbody tr th {\n",
       "        vertical-align: top;\n",
       "    }\n",
       "\n",
       "    .dataframe thead th {\n",
       "        text-align: right;\n",
       "    }\n",
       "</style>\n",
       "<table border=\"1\" class=\"dataframe\">\n",
       "  <thead>\n",
       "    <tr style=\"text-align: right;\">\n",
       "      <th></th>\n",
       "      <th>Customer</th>\n",
       "      <th>length</th>\n",
       "      <th>recency</th>\n",
       "      <th>frequency</th>\n",
       "      <th>monetary</th>\n",
       "      <th>l_score</th>\n",
       "      <th>r_score</th>\n",
       "      <th>f_score</th>\n",
       "      <th>m_score</th>\n",
       "      <th>lrfm_score_combined</th>\n",
       "      <th>lrfm_segment_combined</th>\n",
       "    </tr>\n",
       "  </thead>\n",
       "  <tbody>\n",
       "    <tr>\n",
       "      <th>0</th>\n",
       "      <td>AT&amp;T</td>\n",
       "      <td>1420</td>\n",
       "      <td>39</td>\n",
       "      <td>67</td>\n",
       "      <td>4520.66</td>\n",
       "      <td>2</td>\n",
       "      <td>3</td>\n",
       "      <td>4</td>\n",
       "      <td>4</td>\n",
       "      <td>2344</td>\n",
       "      <td>Top Priority Cust</td>\n",
       "    </tr>\n",
       "    <tr>\n",
       "      <th>1</th>\n",
       "      <td>Abbott Laboratories</td>\n",
       "      <td>1385</td>\n",
       "      <td>42</td>\n",
       "      <td>31</td>\n",
       "      <td>2281.74</td>\n",
       "      <td>1</td>\n",
       "      <td>3</td>\n",
       "      <td>1</td>\n",
       "      <td>2</td>\n",
       "      <td>1312</td>\n",
       "      <td>High Momentum Low Value</td>\n",
       "    </tr>\n",
       "    <tr>\n",
       "      <th>2</th>\n",
       "      <td>Aetna</td>\n",
       "      <td>1400</td>\n",
       "      <td>51</td>\n",
       "      <td>76</td>\n",
       "      <td>3312.67</td>\n",
       "      <td>2</td>\n",
       "      <td>3</td>\n",
       "      <td>4</td>\n",
       "      <td>3</td>\n",
       "      <td>2343</td>\n",
       "      <td>Top Priority Cust</td>\n",
       "    </tr>\n",
       "    <tr>\n",
       "      <th>3</th>\n",
       "      <td>Airbus</td>\n",
       "      <td>1480</td>\n",
       "      <td>57</td>\n",
       "      <td>58</td>\n",
       "      <td>5593.37</td>\n",
       "      <td>4</td>\n",
       "      <td>3</td>\n",
       "      <td>3</td>\n",
       "      <td>4</td>\n",
       "      <td>4334</td>\n",
       "      <td>Top Priority Cust</td>\n",
       "    </tr>\n",
       "    <tr>\n",
       "      <th>4</th>\n",
       "      <td>Allianz</td>\n",
       "      <td>1414</td>\n",
       "      <td>31</td>\n",
       "      <td>102</td>\n",
       "      <td>5531.88</td>\n",
       "      <td>2</td>\n",
       "      <td>3</td>\n",
       "      <td>4</td>\n",
       "      <td>4</td>\n",
       "      <td>2344</td>\n",
       "      <td>Top Priority Cust</td>\n",
       "    </tr>\n",
       "    <tr>\n",
       "      <th>...</th>\n",
       "      <td>...</td>\n",
       "      <td>...</td>\n",
       "      <td>...</td>\n",
       "      <td>...</td>\n",
       "      <td>...</td>\n",
       "      <td>...</td>\n",
       "      <td>...</td>\n",
       "      <td>...</td>\n",
       "      <td>...</td>\n",
       "      <td>...</td>\n",
       "      <td>...</td>\n",
       "    </tr>\n",
       "    <tr>\n",
       "      <th>94</th>\n",
       "      <td>Volkswagen</td>\n",
       "      <td>1453</td>\n",
       "      <td>51</td>\n",
       "      <td>65</td>\n",
       "      <td>4546.19</td>\n",
       "      <td>3</td>\n",
       "      <td>3</td>\n",
       "      <td>4</td>\n",
       "      <td>4</td>\n",
       "      <td>3344</td>\n",
       "      <td>Top Priority Cust</td>\n",
       "    </tr>\n",
       "    <tr>\n",
       "      <th>95</th>\n",
       "      <td>Walgreens</td>\n",
       "      <td>1448</td>\n",
       "      <td>44</td>\n",
       "      <td>33</td>\n",
       "      <td>-740.67</td>\n",
       "      <td>3</td>\n",
       "      <td>3</td>\n",
       "      <td>1</td>\n",
       "      <td>1</td>\n",
       "      <td>3311</td>\n",
       "      <td>High Momentum Low Value</td>\n",
       "    </tr>\n",
       "    <tr>\n",
       "      <th>96</th>\n",
       "      <td>Walmart</td>\n",
       "      <td>1427</td>\n",
       "      <td>50</td>\n",
       "      <td>46</td>\n",
       "      <td>3111.13</td>\n",
       "      <td>2</td>\n",
       "      <td>3</td>\n",
       "      <td>2</td>\n",
       "      <td>3</td>\n",
       "      <td>2323</td>\n",
       "      <td>Potential Loyal Cust</td>\n",
       "    </tr>\n",
       "    <tr>\n",
       "      <th>97</th>\n",
       "      <td>Walt Disney</td>\n",
       "      <td>1398</td>\n",
       "      <td>52</td>\n",
       "      <td>53</td>\n",
       "      <td>5786.83</td>\n",
       "      <td>2</td>\n",
       "      <td>3</td>\n",
       "      <td>3</td>\n",
       "      <td>4</td>\n",
       "      <td>2334</td>\n",
       "      <td>Top Priority Cust</td>\n",
       "    </tr>\n",
       "    <tr>\n",
       "      <th>98</th>\n",
       "      <td>Wells Fargo</td>\n",
       "      <td>1479</td>\n",
       "      <td>32</td>\n",
       "      <td>47</td>\n",
       "      <td>2341.15</td>\n",
       "      <td>4</td>\n",
       "      <td>3</td>\n",
       "      <td>2</td>\n",
       "      <td>2</td>\n",
       "      <td>4322</td>\n",
       "      <td>High Momentum Low Value</td>\n",
       "    </tr>\n",
       "  </tbody>\n",
       "</table>\n",
       "<p>99 rows × 11 columns</p>\n",
       "</div>"
      ],
      "text/plain": [
       "               Customer  length  recency  frequency  monetary  l_score  \\\n",
       "0                  AT&T    1420       39         67   4520.66        2   \n",
       "1   Abbott Laboratories    1385       42         31   2281.74        1   \n",
       "2                 Aetna    1400       51         76   3312.67        2   \n",
       "3                Airbus    1480       57         58   5593.37        4   \n",
       "4               Allianz    1414       31        102   5531.88        2   \n",
       "..                  ...     ...      ...        ...       ...      ...   \n",
       "94           Volkswagen    1453       51         65   4546.19        3   \n",
       "95            Walgreens    1448       44         33   -740.67        3   \n",
       "96              Walmart    1427       50         46   3111.13        2   \n",
       "97          Walt Disney    1398       52         53   5786.83        2   \n",
       "98          Wells Fargo    1479       32         47   2341.15        4   \n",
       "\n",
       "    r_score  f_score  m_score lrfm_score_combined    lrfm_segment_combined  \n",
       "0         3        4        4                2344        Top Priority Cust  \n",
       "1         3        1        2                1312  High Momentum Low Value  \n",
       "2         3        4        3                2343        Top Priority Cust  \n",
       "3         3        3        4                4334        Top Priority Cust  \n",
       "4         3        4        4                2344        Top Priority Cust  \n",
       "..      ...      ...      ...                 ...                      ...  \n",
       "94        3        4        4                3344        Top Priority Cust  \n",
       "95        3        1        1                3311  High Momentum Low Value  \n",
       "96        3        2        3                2323     Potential Loyal Cust  \n",
       "97        3        3        4                2334        Top Priority Cust  \n",
       "98        3        2        2                4322  High Momentum Low Value  \n",
       "\n",
       "[99 rows x 11 columns]"
      ]
     },
     "execution_count": 77,
     "metadata": {},
     "output_type": "execute_result"
    }
   ],
   "source": [
    "df_customer"
   ]
  },
  {
   "cell_type": "code",
   "execution_count": 91,
   "id": "186142c4",
   "metadata": {},
   "outputs": [
    {
     "data": {
      "application/vnd.microsoft.datawrangler.viewer.v0+json": {
       "columns": [
        {
         "name": "lrfm_segment_combined",
         "rawType": "object",
         "type": "string"
        },
        {
         "name": "Customer",
         "rawType": "int64",
         "type": "integer"
        }
       ],
       "ref": "99064c0d-8814-4100-9931-662cf15e4864",
       "rows": [
        [
         "High Momentum Low Value",
         "41"
        ],
        [
         "Top Priority Cust",
         "30"
        ],
        [
         "Potential Loyal Cust",
         "13"
        ],
        [
         "Low Momentum Low Value",
         "8"
        ],
        [
         "Lost High Value Users",
         "6"
        ],
        [
         "Fading Frequent User",
         "1"
        ]
       ],
       "shape": {
        "columns": 1,
        "rows": 6
       }
      },
      "text/plain": [
       "lrfm_segment_combined\n",
       "High Momentum Low Value    41\n",
       "Top Priority Cust          30\n",
       "Potential Loyal Cust       13\n",
       "Low Momentum Low Value      8\n",
       "Lost High Value Users       6\n",
       "Fading Frequent User        1\n",
       "Name: Customer, dtype: int64"
      ]
     },
     "execution_count": 91,
     "metadata": {},
     "output_type": "execute_result"
    }
   ],
   "source": [
    "lrfm_customer = df_customer.groupby('lrfm_segment_combined')['Customer'].count().sort_values(ascending=False)\n",
    "lrfm_customer"
   ]
  },
  {
   "cell_type": "markdown",
   "id": "b645095e",
   "metadata": {},
   "source": [
    "`Insight` : Jumlah pelanggan terbanyak adalah High Momentum Low Value yang artinya masih banyak pelanggan yang sering menggunakan layanan namun jumlah transaksi yang tergolong sedikit, dan disusul dengan Top Priority Cust menunjukkan bahwa sudah ada beberapa pelanggan yang memang cukup berpengaruh serta loyal terhadap profit perusahaan. Untuk masing - masing proporsi "
   ]
  },
  {
   "cell_type": "markdown",
   "id": "6f0ace15",
   "metadata": {},
   "source": [
    "#### **Summary and Recommendation**\n",
    "\n",
    "Langkah selanjutnya dalam analisis LRFM adalah memberikan kesimpulan dan analisis serta temuan dari pengelompokkan customer tersebut dan memberikan rekomendasi terkait langkah selanjutnya menggunakan strategi yang spesifik untuk masing - masing pembagiannya.\n",
    "\n"
   ]
  },
  {
   "cell_type": "markdown",
   "id": "8bdfb3b3",
   "metadata": {},
   "source": [
    "##### **Summary**\n",
    "\n",
    "Terdapat beberapa kesimpulan yang dapat dibuat yaitu : \n",
    "- Sebagian besar pelanggan berada dalam kategori length yang cukup tinggi (Loyal) > 1000 hari, namun tidak seluruhnya pelanggan menunjukkan aktivitas yang terkini (Recency rendah) hal ini menunjukkan bahwa ada kemungkinan pelanggan yang tidak bertransaksi dalam waktu dekat dan berpotensi menjadi churn\n",
    "\n",
    "- Recency dan Frequency menjadi keterlibatan aktif dalam keberlangsungan perusahaan, namun harus diperhatikan aspek monetary nya yang berbanding lurus atau tidak terhadap aktivitas. Terdapat pelanggan yang memiliki monetary tinggi namun recency rendah menunjukkan bahwa mereka pernah menyumbangkan profit yang tinggi namun tidak aktif lagi. Dalam perhitungan profit perlu memperhatikan aspek yang mempengaruhi nilainya, salah satunya diskon.\n",
    "\n",
    "- Terdapat 6 kategori pengelompokkan segmentasi menggunakan analisis LRFM dengan masing - masing klasifikasinya sebagai berikut : Potential Loyal Cust, High Momentum Low Value, Top Priority Cust, Fading Frequent User, Lost High Value Users, Low Momentum Low Value\n"
   ]
  },
  {
   "cell_type": "markdown",
   "id": "a8119b36",
   "metadata": {},
   "source": [
    "##### **Rekomendasi**\n",
    "\n",
    "- Penyesuaian strategi berdasarkan setiap segmen : \n",
    "    - Top Priority Customer : Memberikan loyalty rewards, fitur eksklusif dan early access fitur baru dengan menggunakan sistem member point\n",
    "    - Lost High Value User : Melakukan survey/feedback identifikasi penyebab churn dan memberikan solusi melalui penawaran produk baru dengan konsultasi gratis terkait permasalahan pengguna \n",
    "    - Low Momentum Low Value : Memberikan uji coba gratis selama 14 hari serta penawaran diskon langganan dan produk bundling serta menawarkan pendaftaran member\n",
    "    - Potential Loyal Customer : Memberikan promosi fitur layanan lainnya yang masih berhubungan dengan produk yang mereka gunakan dan informasi kegunaan produk dengan video edukasi serta sistem 3 months promo\n",
    "    - High Momentum Low Value : Menawarkan promosi personal, produk berkaitan, fungsi referral, paket bundling\n",
    "    - Fading Frequent User : Menawarkan paket reactivation, pendekatan personal / follow up terkait kendala atau hambatan menggunakan layanan."
   ]
  },
  {
   "cell_type": "markdown",
   "id": "2252bd93",
   "metadata": {},
   "source": [
    "## **Data Finalization**\n",
    "Proses selanjutnya adalah melakukan penggabungan dan penyimpanan data dalam bentuk format sesuai yang dibutuhkan agar dapat melakukan visualiasi melalui program Tableau"
   ]
  },
  {
   "cell_type": "code",
   "execution_count": 86,
   "id": "a1a3b45a",
   "metadata": {},
   "outputs": [
    {
     "data": {
      "application/vnd.microsoft.datawrangler.viewer.v0+json": {
       "columns": [
        {
         "name": "index",
         "rawType": "object",
         "type": "string"
        },
        {
         "name": "Order Date",
         "rawType": "object",
         "type": "unknown"
        },
        {
         "name": "Sales",
         "rawType": "float64",
         "type": "float"
        },
        {
         "name": "Quantity",
         "rawType": "float64",
         "type": "float"
        },
        {
         "name": "Discount",
         "rawType": "float64",
         "type": "float"
        },
        {
         "name": "Profit",
         "rawType": "float64",
         "type": "float"
        },
        {
         "name": "length",
         "rawType": "float64",
         "type": "float"
        },
        {
         "name": "recency",
         "rawType": "float64",
         "type": "float"
        },
        {
         "name": "frequency",
         "rawType": "float64",
         "type": "float"
        },
        {
         "name": "monetary",
         "rawType": "float64",
         "type": "float"
        },
        {
         "name": "l_score",
         "rawType": "float64",
         "type": "float"
        },
        {
         "name": "r_score",
         "rawType": "float64",
         "type": "float"
        },
        {
         "name": "f_score",
         "rawType": "float64",
         "type": "float"
        },
        {
         "name": "m_score",
         "rawType": "float64",
         "type": "float"
        }
       ],
       "ref": "ffd5666e-8f29-480e-86b2-cac7584f4ffe",
       "rows": [
        [
         "count",
         "9994",
         "9994.0",
         "9994.0",
         "9994.0",
         "9994.0",
         "9994.0",
         "9994.0",
         "9994.0",
         "9994.0",
         "9994.0",
         "9994.0",
         "9994.0",
         "9994.0"
        ],
        [
         "mean",
         "2022-05-01 00:07:12.259355648",
         "229.85800083049827",
         "3.789573744246548",
         "0.1562027216329798",
         "28.65689630778467",
         "1423.6700020012008",
         "45.872523514108465",
         "56.43896337802681",
         "3242.161129677807",
         "2.6016609965979587",
         "2.8798278967380426",
         "2.8370022013207925",
         "2.6892135281168703"
        ],
        [
         "min",
         "2020-01-04 00:00:00",
         "0.444",
         "1.0",
         "0.0",
         "-6599.978",
         "1228.0",
         "30.0",
         "13.0",
         "-2796.29",
         "1.0",
         "1.0",
         "1.0",
         "1.0"
        ],
        [
         "25%",
         "2021-05-23 00:00:00",
         "17.28",
         "2.0",
         "0.0",
         "1.72875",
         "1401.0",
         "33.0",
         "42.0",
         "1690.58",
         "2.0",
         "3.0",
         "2.0",
         "2.0"
        ],
        [
         "50%",
         "2022-06-27 00:00:00",
         "54.489999999999995",
         "3.0",
         "0.2",
         "8.6665",
         "1430.0",
         "38.0",
         "57.0",
         "2828.75",
         "3.0",
         "3.0",
         "3.0",
         "3.0"
        ],
        [
         "75%",
         "2023-05-15 00:00:00",
         "209.94",
         "5.0",
         "0.2",
         "29.364",
         "1467.0",
         "51.0",
         "65.0",
         "4676.08",
         "4.0",
         "3.0",
         "4.0",
         "4.0"
        ],
        [
         "max",
         "2023-12-31 00:00:00",
         "22638.48",
         "14.0",
         "0.8",
         "8399.976",
         "1487.0",
         "269.0",
         "103.0",
         "10308.63",
         "4.0",
         "4.0",
         "4.0",
         "4.0"
        ],
        [
         "std",
         null,
         "623.2451005086808",
         "2.2251096911414",
         "0.20645196782571615",
         "234.2601076909573",
         "53.14475724204239",
         "22.5911533933938",
         "17.421325396509285",
         "2455.242387536478",
         "1.1030743328689736",
         "0.5452296976453824",
         "1.0674948900736672",
         "1.1021433780825414"
        ]
       ],
       "shape": {
        "columns": 13,
        "rows": 8
       }
      },
      "text/html": [
       "<div>\n",
       "<style scoped>\n",
       "    .dataframe tbody tr th:only-of-type {\n",
       "        vertical-align: middle;\n",
       "    }\n",
       "\n",
       "    .dataframe tbody tr th {\n",
       "        vertical-align: top;\n",
       "    }\n",
       "\n",
       "    .dataframe thead th {\n",
       "        text-align: right;\n",
       "    }\n",
       "</style>\n",
       "<table border=\"1\" class=\"dataframe\">\n",
       "  <thead>\n",
       "    <tr style=\"text-align: right;\">\n",
       "      <th></th>\n",
       "      <th>Order Date</th>\n",
       "      <th>Sales</th>\n",
       "      <th>Quantity</th>\n",
       "      <th>Discount</th>\n",
       "      <th>Profit</th>\n",
       "      <th>length</th>\n",
       "      <th>recency</th>\n",
       "      <th>frequency</th>\n",
       "      <th>monetary</th>\n",
       "      <th>l_score</th>\n",
       "      <th>r_score</th>\n",
       "      <th>f_score</th>\n",
       "      <th>m_score</th>\n",
       "    </tr>\n",
       "  </thead>\n",
       "  <tbody>\n",
       "    <tr>\n",
       "      <th>count</th>\n",
       "      <td>9994</td>\n",
       "      <td>9994.000000</td>\n",
       "      <td>9994.000000</td>\n",
       "      <td>9994.000000</td>\n",
       "      <td>9994.000000</td>\n",
       "      <td>9994.000000</td>\n",
       "      <td>9994.000000</td>\n",
       "      <td>9994.000000</td>\n",
       "      <td>9994.000000</td>\n",
       "      <td>9994.000000</td>\n",
       "      <td>9994.000000</td>\n",
       "      <td>9994.000000</td>\n",
       "      <td>9994.000000</td>\n",
       "    </tr>\n",
       "    <tr>\n",
       "      <th>mean</th>\n",
       "      <td>2022-05-01 00:07:12.259355648</td>\n",
       "      <td>229.858001</td>\n",
       "      <td>3.789574</td>\n",
       "      <td>0.156203</td>\n",
       "      <td>28.656896</td>\n",
       "      <td>1423.670002</td>\n",
       "      <td>45.872524</td>\n",
       "      <td>56.438963</td>\n",
       "      <td>3242.161130</td>\n",
       "      <td>2.601661</td>\n",
       "      <td>2.879828</td>\n",
       "      <td>2.837002</td>\n",
       "      <td>2.689214</td>\n",
       "    </tr>\n",
       "    <tr>\n",
       "      <th>min</th>\n",
       "      <td>2020-01-04 00:00:00</td>\n",
       "      <td>0.444000</td>\n",
       "      <td>1.000000</td>\n",
       "      <td>0.000000</td>\n",
       "      <td>-6599.978000</td>\n",
       "      <td>1228.000000</td>\n",
       "      <td>30.000000</td>\n",
       "      <td>13.000000</td>\n",
       "      <td>-2796.290000</td>\n",
       "      <td>1.000000</td>\n",
       "      <td>1.000000</td>\n",
       "      <td>1.000000</td>\n",
       "      <td>1.000000</td>\n",
       "    </tr>\n",
       "    <tr>\n",
       "      <th>25%</th>\n",
       "      <td>2021-05-23 00:00:00</td>\n",
       "      <td>17.280000</td>\n",
       "      <td>2.000000</td>\n",
       "      <td>0.000000</td>\n",
       "      <td>1.728750</td>\n",
       "      <td>1401.000000</td>\n",
       "      <td>33.000000</td>\n",
       "      <td>42.000000</td>\n",
       "      <td>1690.580000</td>\n",
       "      <td>2.000000</td>\n",
       "      <td>3.000000</td>\n",
       "      <td>2.000000</td>\n",
       "      <td>2.000000</td>\n",
       "    </tr>\n",
       "    <tr>\n",
       "      <th>50%</th>\n",
       "      <td>2022-06-27 00:00:00</td>\n",
       "      <td>54.490000</td>\n",
       "      <td>3.000000</td>\n",
       "      <td>0.200000</td>\n",
       "      <td>8.666500</td>\n",
       "      <td>1430.000000</td>\n",
       "      <td>38.000000</td>\n",
       "      <td>57.000000</td>\n",
       "      <td>2828.750000</td>\n",
       "      <td>3.000000</td>\n",
       "      <td>3.000000</td>\n",
       "      <td>3.000000</td>\n",
       "      <td>3.000000</td>\n",
       "    </tr>\n",
       "    <tr>\n",
       "      <th>75%</th>\n",
       "      <td>2023-05-15 00:00:00</td>\n",
       "      <td>209.940000</td>\n",
       "      <td>5.000000</td>\n",
       "      <td>0.200000</td>\n",
       "      <td>29.364000</td>\n",
       "      <td>1467.000000</td>\n",
       "      <td>51.000000</td>\n",
       "      <td>65.000000</td>\n",
       "      <td>4676.080000</td>\n",
       "      <td>4.000000</td>\n",
       "      <td>3.000000</td>\n",
       "      <td>4.000000</td>\n",
       "      <td>4.000000</td>\n",
       "    </tr>\n",
       "    <tr>\n",
       "      <th>max</th>\n",
       "      <td>2023-12-31 00:00:00</td>\n",
       "      <td>22638.480000</td>\n",
       "      <td>14.000000</td>\n",
       "      <td>0.800000</td>\n",
       "      <td>8399.976000</td>\n",
       "      <td>1487.000000</td>\n",
       "      <td>269.000000</td>\n",
       "      <td>103.000000</td>\n",
       "      <td>10308.630000</td>\n",
       "      <td>4.000000</td>\n",
       "      <td>4.000000</td>\n",
       "      <td>4.000000</td>\n",
       "      <td>4.000000</td>\n",
       "    </tr>\n",
       "    <tr>\n",
       "      <th>std</th>\n",
       "      <td>NaN</td>\n",
       "      <td>623.245101</td>\n",
       "      <td>2.225110</td>\n",
       "      <td>0.206452</td>\n",
       "      <td>234.260108</td>\n",
       "      <td>53.144757</td>\n",
       "      <td>22.591153</td>\n",
       "      <td>17.421325</td>\n",
       "      <td>2455.242388</td>\n",
       "      <td>1.103074</td>\n",
       "      <td>0.545230</td>\n",
       "      <td>1.067495</td>\n",
       "      <td>1.102143</td>\n",
       "    </tr>\n",
       "  </tbody>\n",
       "</table>\n",
       "</div>"
      ],
      "text/plain": [
       "                          Order Date         Sales     Quantity     Discount  \\\n",
       "count                           9994   9994.000000  9994.000000  9994.000000   \n",
       "mean   2022-05-01 00:07:12.259355648    229.858001     3.789574     0.156203   \n",
       "min              2020-01-04 00:00:00      0.444000     1.000000     0.000000   \n",
       "25%              2021-05-23 00:00:00     17.280000     2.000000     0.000000   \n",
       "50%              2022-06-27 00:00:00     54.490000     3.000000     0.200000   \n",
       "75%              2023-05-15 00:00:00    209.940000     5.000000     0.200000   \n",
       "max              2023-12-31 00:00:00  22638.480000    14.000000     0.800000   \n",
       "std                              NaN    623.245101     2.225110     0.206452   \n",
       "\n",
       "            Profit       length      recency    frequency      monetary  \\\n",
       "count  9994.000000  9994.000000  9994.000000  9994.000000   9994.000000   \n",
       "mean     28.656896  1423.670002    45.872524    56.438963   3242.161130   \n",
       "min   -6599.978000  1228.000000    30.000000    13.000000  -2796.290000   \n",
       "25%       1.728750  1401.000000    33.000000    42.000000   1690.580000   \n",
       "50%       8.666500  1430.000000    38.000000    57.000000   2828.750000   \n",
       "75%      29.364000  1467.000000    51.000000    65.000000   4676.080000   \n",
       "max    8399.976000  1487.000000   269.000000   103.000000  10308.630000   \n",
       "std     234.260108    53.144757    22.591153    17.421325   2455.242388   \n",
       "\n",
       "           l_score      r_score      f_score      m_score  \n",
       "count  9994.000000  9994.000000  9994.000000  9994.000000  \n",
       "mean      2.601661     2.879828     2.837002     2.689214  \n",
       "min       1.000000     1.000000     1.000000     1.000000  \n",
       "25%       2.000000     3.000000     2.000000     2.000000  \n",
       "50%       3.000000     3.000000     3.000000     3.000000  \n",
       "75%       4.000000     3.000000     4.000000     4.000000  \n",
       "max       4.000000     4.000000     4.000000     4.000000  \n",
       "std       1.103074     0.545230     1.067495     1.102143  "
      ]
     },
     "execution_count": 86,
     "metadata": {},
     "output_type": "execute_result"
    }
   ],
   "source": [
    "merged_df = pd.merge(df, df_customer, on='Customer', how='left')\n",
    "merged_df.describe()"
   ]
  },
  {
   "cell_type": "code",
   "execution_count": 88,
   "id": "07485918",
   "metadata": {},
   "outputs": [
    {
     "data": {
      "application/vnd.microsoft.datawrangler.viewer.v0+json": {
       "columns": [
        {
         "name": "index",
         "rawType": "object",
         "type": "string"
        },
        {
         "name": "0",
         "rawType": "object",
         "type": "unknown"
        }
       ],
       "ref": "344aea2d-54dd-4f97-8a35-74aee01aeaaf",
       "rows": [
        [
         "Order ID",
         "object"
        ],
        [
         "Order Date",
         "datetime64[ns]"
        ],
        [
         "Country",
         "object"
        ],
        [
         "City",
         "object"
        ],
        [
         "Region",
         "object"
        ],
        [
         "Subregion",
         "object"
        ],
        [
         "Customer",
         "object"
        ],
        [
         "Customer ID",
         "object"
        ],
        [
         "Industry",
         "object"
        ],
        [
         "Segment",
         "object"
        ],
        [
         "Product",
         "object"
        ],
        [
         "License",
         "object"
        ],
        [
         "Sales",
         "float64"
        ],
        [
         "Quantity",
         "int64"
        ],
        [
         "Discount",
         "float64"
        ],
        [
         "Profit",
         "float64"
        ],
        [
         "length",
         "int64"
        ],
        [
         "recency",
         "int64"
        ],
        [
         "frequency",
         "int64"
        ],
        [
         "monetary",
         "float64"
        ],
        [
         "l_score",
         "int64"
        ],
        [
         "r_score",
         "int64"
        ],
        [
         "f_score",
         "int64"
        ],
        [
         "m_score",
         "int64"
        ],
        [
         "lrfm_score_combined",
         "object"
        ],
        [
         "lrfm_segment_combined",
         "object"
        ]
       ],
       "shape": {
        "columns": 1,
        "rows": 26
       }
      },
      "text/plain": [
       "Order ID                         object\n",
       "Order Date               datetime64[ns]\n",
       "Country                          object\n",
       "City                             object\n",
       "Region                           object\n",
       "Subregion                        object\n",
       "Customer                         object\n",
       "Customer ID                      object\n",
       "Industry                         object\n",
       "Segment                          object\n",
       "Product                          object\n",
       "License                          object\n",
       "Sales                           float64\n",
       "Quantity                          int64\n",
       "Discount                        float64\n",
       "Profit                          float64\n",
       "length                            int64\n",
       "recency                           int64\n",
       "frequency                         int64\n",
       "monetary                        float64\n",
       "l_score                           int64\n",
       "r_score                           int64\n",
       "f_score                           int64\n",
       "m_score                           int64\n",
       "lrfm_score_combined              object\n",
       "lrfm_segment_combined            object\n",
       "dtype: object"
      ]
     },
     "execution_count": 88,
     "metadata": {},
     "output_type": "execute_result"
    }
   ],
   "source": [
    "merged_df.dtypes"
   ]
  },
  {
   "cell_type": "markdown",
   "id": "fbbb51ae",
   "metadata": {},
   "source": [
    "Melakukan upload data menggunakan format csv atau xlsx untuk divisualisasikan"
   ]
  },
  {
   "cell_type": "code",
   "execution_count": 90,
   "id": "c8cd0d0f",
   "metadata": {},
   "outputs": [],
   "source": [
    "# Csv\n",
    "\n",
    "merged_df.to_csv('Data Bersih',index=False)\n",
    "\n",
    "# Excel\n",
    "\n",
    "merged_df.to_excel('Data Bersih.xlsx', sheet_name='Sheet1')"
   ]
  },
  {
   "cell_type": "code",
   "execution_count": null,
   "id": "9c3c0fc7",
   "metadata": {},
   "outputs": [],
   "source": []
  }
 ],
 "metadata": {
  "kernelspec": {
   "display_name": "Python 3",
   "language": "python",
   "name": "python3"
  },
  "language_info": {
   "codemirror_mode": {
    "name": "ipython",
    "version": 3
   },
   "file_extension": ".py",
   "mimetype": "text/x-python",
   "name": "python",
   "nbconvert_exporter": "python",
   "pygments_lexer": "ipython3",
   "version": "3.13.3"
  }
 },
 "nbformat": 4,
 "nbformat_minor": 5
}
